{
 "cells": [
  {
   "cell_type": "markdown",
   "id": "123456",
   "metadata": {},
   "source": [
    "<div style=\"text-align:left;font-size:2em\"><span style=\"font-weight:bolder;font-size:1.25em\">SP2273 | Learning Portfolio</span><br><br><span style=\"font-weight:bold;color:darkred\">Storing Data (Good)</span></div>"
   ]
  },
  {
   "cell_type": "markdown",
   "id": "4b4648bb",
   "metadata": {},
   "source": [
    "## 1 Subsetting: Indexing and Slicing"
   ]
  },
  {
   "cell_type": "markdown",
   "id": "481c3fc4",
   "metadata": {},
   "source": [
    "### 1.1 Indexing & Slicing 1D (Lists & Arrays)"
   ]
  },
  {
   "cell_type": "code",
   "execution_count": 2,
   "id": "11170b8e",
   "metadata": {},
   "outputs": [
    {
     "data": {
      "text/plain": [
       "'a1'"
      ]
     },
     "execution_count": 2,
     "metadata": {},
     "output_type": "execute_result"
    }
   ],
   "source": [
    "py_list=[\"a1\", \"b2\", \"c3\", \"d4\", \"e5\",\n",
    "         \"f6\", \"g7\", \"h8\", \"i9\", \"j10\"]\n",
    "np_array=np.array(py_list)\n",
    "\n",
    "x=py_list\n",
    "# works for both lists and arrays\n"
   ]
  },
  {
   "cell_type": "code",
   "execution_count": 16,
   "id": "2509d926",
   "metadata": {},
   "outputs": [
    {
     "name": "stdout",
     "output_type": "stream",
     "text": [
      "a1\n",
      "j10\n",
      "['a1', 'b2', 'c3']\n",
      "['b2', 'c3', 'd4', 'e5', 'f6']\n",
      "['b2', 'd4', 'f6']\n",
      "['f6', 'g7', 'h8', 'i9', 'j10']\n",
      "['a1', 'b2', 'c3', 'd4', 'e5']\n",
      "['f6', 'e5', 'd4']\n",
      "['j10', 'i9', 'h8', 'g7', 'f6', 'e5', 'd4', 'c3', 'b2', 'a1']\n"
     ]
    }
   ],
   "source": [
    "print(x[0])\n",
    "print(x[-1])\n",
    "print(x[0:3])\n",
    "# index from elements 0 to 2 (3 elements)\n",
    "print(x[1:6])\n",
    "# index from elements 1 to 5 (6-1=5 elements)\n",
    "print(x[1:6:2])\n",
    "# index every 2nd element from 1 to 5\n",
    "print(x[5:])\n",
    "print(x[:5])\n",
    "# index from element 5 to the end and from the first element to the 5th\n",
    "print(x[5:2:-1])\n",
    "# index in reverse from element 5 to 3 (does not work without :-1)\n",
    "print(x[::-1])\n",
    "# need double colon :: or else the reversing doesnt work\n"
   ]
  },
  {
   "cell_type": "markdown",
   "id": "3fd152b7",
   "metadata": {},
   "source": [
    "### 1.2 Subsetting by masking (Arrays only)"
   ]
  },
  {
   "cell_type": "code",
   "execution_count": 20,
   "id": "a9567ea1",
   "metadata": {
    "scrolled": true
   },
   "outputs": [
    {
     "name": "stdout",
     "output_type": "stream",
     "text": [
      "[False False False  True  True  True  True  True  True  True]\n",
      "[ 4  5  6  7  8  9 10]\n"
     ]
    },
    {
     "data": {
      "text/plain": [
       "array([ 4,  5,  6,  7,  8,  9, 10])"
      ]
     },
     "execution_count": 20,
     "metadata": {},
     "output_type": "execute_result"
    }
   ],
   "source": [
    "np_array=np.array([1,2,3,4,5,6,7,8,9,10])\n",
    "my_mask=np_array>3\n",
    "\n",
    "print(my_mask)\n",
    "# tells you which elements are more than 3\n",
    "\n",
    "print(np_array[my_mask])\n",
    "# only shows those elements that are true\n",
    "\n",
    "np_array[np_array>3]\n",
    "# no need create new variable"
   ]
  },
  {
   "cell_type": "code",
   "execution_count": 27,
   "id": "82b6c5f4",
   "metadata": {},
   "outputs": [
    {
     "name": "stdout",
     "output_type": "stream",
     "text": [
      "[1 2 3]\n",
      "[4 5 6 7]\n",
      "[ 1  2  9 10]\n"
     ]
    }
   ],
   "source": [
    "print(np_array[~(np_array>3)])\n",
    "# ~ acts as NOT, so show all elements NOT more than 3\n",
    "\n",
    "print(np_array[(np_array>3)&(np_array<8)])\n",
    "# & means AND\n",
    "\n",
    "print(np_array[(np_array<3)|(np_array>8)])\n",
    "# | means OR, so all elements that fulfill one or both requirements will appear\n"
   ]
  },
  {
   "cell_type": "markdown",
   "id": "5d83b68a",
   "metadata": {},
   "source": [
    "### 1.3 Indexing & Slicing 2D Lists"
   ]
  },
  {
   "cell_type": "code",
   "execution_count": 33,
   "id": "00c33120",
   "metadata": {},
   "outputs": [
    {
     "name": "stdout",
     "output_type": "stream",
     "text": [
      "[4, 'D']\n",
      "4\n",
      "[[1, 'A'], [2, 'B'], [3, 'C']]\n"
     ]
    },
    {
     "data": {
      "text/plain": [
       "[1, 'A']"
      ]
     },
     "execution_count": 33,
     "metadata": {},
     "output_type": "execute_result"
    }
   ],
   "source": [
    "py_list_2d=[[1, \"A\"], [2, \"B\"], [3, \"C\"], [4, \"D\"],\n",
    "            [5, \"E\"], [6, \"F\"], [7, \"G\"], [8, \"H\"],\n",
    "            [9, \"I\"], [10, \"J\"]]\n",
    "\n",
    "print(py_list_2d[3])\n",
    "# all elements in the 4th brackets (position 3 starting from 0)\n",
    "print(py_list_2d[3][0])\n",
    "# first element in 4th position\n",
    "print(py_list_2d[:3])\n",
    "# index from 0 to 3\n",
    "py_list_2d[:3][0]\n",
    "# gives the first from py_list_2d[:3]"
   ]
  },
  {
   "cell_type": "markdown",
   "id": "6b322cd3",
   "metadata": {},
   "source": [
    "### 1.4 Indexing & Slicing 2D Arrays"
   ]
  },
  {
   "cell_type": "code",
   "execution_count": 42,
   "id": "f4e30b1d",
   "metadata": {},
   "outputs": [
    {
     "name": "stdout",
     "output_type": "stream",
     "text": [
      "['4' 'D']\n",
      "4\n",
      "[['1' 'A']\n",
      " ['2' 'B']\n",
      " ['3' 'C']]\n",
      "['1' '2' '3']\n",
      "['4' '5' '6']\n"
     ]
    },
    {
     "data": {
      "text/plain": [
       "array(['1', '2', '3', '4', '5', '6', '7', '8', '9', '10'], dtype='<U11')"
      ]
     },
     "execution_count": 42,
     "metadata": {},
     "output_type": "execute_result"
    }
   ],
   "source": [
    "np_array_2d=np.array([[1, \"A\"], [2, \"B\"], [3, \"C\"], [4, \"D\"],\n",
    "                    [5, \"E\"], [6, \"F\"], [7, \"G\"], [8, \"H\"],\n",
    "                    [9, \"I\"], [10, \"J\"]])\n",
    "\n",
    "print(np_array_2d[3])\n",
    "print(np_array_2d[3,0])\n",
    "# np_array_2d[3][0] works too\n",
    "print(np_array_2d[:3])\n",
    "print(np_array_2d[:3,0])\n",
    "# gives the first element of each sub-array from the first to third sub-array\n",
    "print(np_array_2d[3:6,0])\n",
    "# first element from sub-arrays 4 to 6\n",
    "np_array_2d[:,0]\n",
    "#first element from all : the sub arrays\n"
   ]
  },
  {
   "cell_type": "markdown",
   "id": "63a6a359",
   "metadata": {},
   "source": [
    "### 1.5 Growing lists"
   ]
  },
  {
   "cell_type": "code",
   "execution_count": 44,
   "id": "77bc8475",
   "metadata": {},
   "outputs": [
    {
     "data": {
      "text/plain": [
       "[1, 1, 1, 1, 1, 1, 1, 1, 1, 1]"
      ]
     },
     "execution_count": 44,
     "metadata": {},
     "output_type": "execute_result"
    }
   ],
   "source": [
    "x=[1]*10\n",
    "x\n",
    "# grow the entire list [1] 10 times"
   ]
  },
  {
   "cell_type": "code",
   "execution_count": 50,
   "id": "2b2519e0",
   "metadata": {},
   "outputs": [
    {
     "name": "stdout",
     "output_type": "stream",
     "text": [
      "[1, 2, 3, 4]\n"
     ]
    },
    {
     "data": {
      "text/plain": [
       "[1, 2, 3, 4]"
      ]
     },
     "execution_count": 50,
     "metadata": {},
     "output_type": "execute_result"
    }
   ],
   "source": [
    "x=[1]\n",
    "x=x+[2]\n",
    "x=x+[3]\n",
    "x=x+[4]\n",
    "print(x)\n",
    "# combines the lists together into one list\n",
    "\n",
    "x=[1]\n",
    "x+=[2]\n",
    "x+=[3]\n",
    "x+=[4]\n",
    "x\n",
    "# alternate way of typing"
   ]
  },
  {
   "cell_type": "code",
   "execution_count": 58,
   "id": "fe22890b",
   "metadata": {},
   "outputs": [
    {
     "name": "stdout",
     "output_type": "stream",
     "text": [
      "[1, 2, 3, 4]\n",
      "[1, 2, 3, 4]\n"
     ]
    },
    {
     "data": {
      "text/plain": [
       "[2, 1, 3, 4]"
      ]
     },
     "execution_count": 58,
     "metadata": {},
     "output_type": "execute_result"
    }
   ],
   "source": [
    "x=[1]\n",
    "x+=[2,3,4]\n",
    "print(x)\n",
    "#combines the lists\n",
    "\n",
    "x=[1]\n",
    "x=x+[2,3,4]\n",
    "print(x)\n",
    "# same thing\n",
    "\n",
    "x=[2]\n",
    "x=x+[1,3,4]\n",
    "x\n",
    "# combines in order"
   ]
  },
  {
   "cell_type": "code",
   "execution_count": 61,
   "id": "79964d26",
   "metadata": {},
   "outputs": [
    {
     "data": {
      "text/plain": [
       "[2, 3, 4, 1]"
      ]
     },
     "execution_count": 61,
     "metadata": {},
     "output_type": "execute_result"
    }
   ],
   "source": [
    "x=[1]\n",
    "x=[2,3,4]+x\n",
    "x\n",
    "# adds the new list to the front of the first list"
   ]
  },
  {
   "cell_type": "markdown",
   "id": "0f1860f1",
   "metadata": {},
   "source": [
    "## 2 Some loose ends"
   ]
  },
  {
   "cell_type": "markdown",
   "id": "ba7419c7",
   "metadata": {},
   "source": [
    "### 2.1 Tuples"
   ]
  },
  {
   "cell_type": "code",
   "execution_count": null,
   "id": "426a04e1",
   "metadata": {},
   "outputs": [],
   "source": [
    "\n",
    "# Your code here\n"
   ]
  },
  {
   "cell_type": "markdown",
   "id": "d7548b1b",
   "metadata": {},
   "source": [
    "### 2.2 Be VERY careful when copying"
   ]
  },
  {
   "cell_type": "code",
   "execution_count": null,
   "id": "c75acefb",
   "metadata": {},
   "outputs": [],
   "source": [
    "\n",
    "# Your code here\n"
   ]
  },
  {
   "cell_type": "markdown",
   "id": "f888012d",
   "metadata": {},
   "source": [
    "## Exercise 1 :  Total recall?"
   ]
  },
  {
   "cell_type": "code",
   "execution_count": null,
   "id": "40e68349",
   "metadata": {},
   "outputs": [],
   "source": [
    "\n",
    "\n",
    "\n",
    "# Your solution here\n",
    "\n",
    "\n"
   ]
  },
  {
   "cell_type": "markdown",
   "id": "8603f270",
   "metadata": {},
   "source": [
    "## Exercise 2 :  Show me the ‘odd’ letters"
   ]
  },
  {
   "cell_type": "code",
   "execution_count": null,
   "id": "b071f51d",
   "metadata": {},
   "outputs": [],
   "source": [
    "\n",
    "\n",
    "\n",
    "# Your solution here\n",
    "\n",
    "\n"
   ]
  }
 ],
 "metadata": {
  "kernelspec": {
   "display_name": "Python 3 (ipykernel)",
   "language": "python",
   "name": "python3"
  },
  "language_info": {
   "codemirror_mode": {
    "name": "ipython",
    "version": 3
   },
   "file_extension": ".py",
   "mimetype": "text/x-python",
   "name": "python",
   "nbconvert_exporter": "python",
   "pygments_lexer": "ipython3",
   "version": "3.10.8"
  },
  "toc": {
   "base_numbering": 1,
   "nav_menu": {},
   "number_sections": true,
   "sideBar": true,
   "skip_h1_title": false,
   "title_cell": "Table of Contents",
   "title_sidebar": "Contents",
   "toc_cell": false,
   "toc_position": {},
   "toc_section_display": true,
   "toc_window_display": false
  },
  "varInspector": {
   "cols": {
    "lenName": 16,
    "lenType": 16,
    "lenVar": 40
   },
   "kernels_config": {
    "python": {
     "delete_cmd_postfix": "",
     "delete_cmd_prefix": "del ",
     "library": "var_list.py",
     "varRefreshCmd": "print(var_dic_list())"
    },
    "r": {
     "delete_cmd_postfix": ") ",
     "delete_cmd_prefix": "rm(",
     "library": "var_list.r",
     "varRefreshCmd": "cat(var_dic_list()) "
    }
   },
   "types_to_exclude": [
    "module",
    "function",
    "builtin_function_or_method",
    "instance",
    "_Feature"
   ],
   "window_display": false
  },
  "vscode": {
   "interpreter": {
    "hash": "31f2aee4e71d21fbe5cf8b01ff0e069b9275f58929596ceb00d14d90e3e16cd6"
   }
  }
 },
 "nbformat": 4,
 "nbformat_minor": 5
}
