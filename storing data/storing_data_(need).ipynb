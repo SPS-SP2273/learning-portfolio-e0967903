{
 "cells": [
  {
   "cell_type": "markdown",
   "id": "123456",
   "metadata": {},
   "source": [
    "<div style=\"text-align:left;font-size:2em\"><span style=\"font-weight:bolder;font-size:1.25em\">SP2273 | Learning Portfolio</span><br><br><span style=\"font-weight:bold;color:darkred\">Storing Data (Need)</span></div>"
   ]
  },
  {
   "cell_type": "markdown",
   "id": "53e36568",
   "metadata": {},
   "source": [
    "## 1 Lists, Arrays & Dictionaries"
   ]
  },
  {
   "cell_type": "markdown",
   "id": "6d8940c1",
   "metadata": {},
   "source": [
    "### 1.1 Let’s compare"
   ]
  },
  {
   "cell_type": "code",
   "execution_count": 6,
   "id": "4326660c",
   "metadata": {},
   "outputs": [],
   "source": [
    "py_super_names=['Black Widow','Iron Man','Doctor Strange']\n",
    "py_real_names=['Natasha Romanoff','Tony Stark','Stephen Strange']\n",
    "# python lists aka lists\n",
    "\n",
    "np_super_names=np.array(['Black Widow','Iron Man','Doctor Strange'])\n",
    "np_real_names=np.array(['Natasha Romanoff','Tony Stark','Stephen Strange'])\n",
    "# numpy arrays aka arrays\n",
    "\n",
    "superhero_info = {\"Natasha Romanoff\": \"Black Widow\",\n",
    "                  \"Tony Stark\": \"Iron Man\",\n",
    "                  \"Stephen Strange\": \"Doctor Strange\"}\n",
    "# dictionary, uses a key-value structure ('Natasha Romanoff' and 'Black Widow' are associated) \n"
   ]
  },
  {
   "cell_type": "markdown",
   "id": "13cd81a1",
   "metadata": {},
   "source": [
    "### 1.2 Accessing data from a list (or array)"
   ]
  },
  {
   "cell_type": "code",
   "execution_count": 11,
   "id": "b6c8e052",
   "metadata": {},
   "outputs": [
    {
     "name": "stdout",
     "output_type": "stream",
     "text": [
      "Natasha Romanoff\n",
      "Doctor Strange\n"
     ]
    }
   ],
   "source": [
    "print(py_real_names[0])\n",
    "print(np_super_names[2])\n",
    "\n",
    "# python starts counting at zero"
   ]
  },
  {
   "cell_type": "code",
   "execution_count": 19,
   "id": "b91068f2",
   "metadata": {},
   "outputs": [
    {
     "name": "stdout",
     "output_type": "stream",
     "text": [
      "Stephen Strange\n",
      "Tony Stark\n",
      "Doctor Strange\n"
     ]
    }
   ],
   "source": [
    "print(py_real_names[-1])\n",
    "# counts from the back of the list (last element)\n",
    "\n",
    "print(py_real_names[-2])\n",
    "# second last element in the list\n",
    "\n",
    "print(np_super_names[-1])"
   ]
  },
  {
   "cell_type": "markdown",
   "id": "6f3d56cc",
   "metadata": {},
   "source": [
    "### 1.3 Accessing data from a dictionary"
   ]
  },
  {
   "cell_type": "code",
   "execution_count": 25,
   "id": "c9f341f3",
   "metadata": {},
   "outputs": [
    {
     "name": "stdout",
     "output_type": "stream",
     "text": [
      "Black Widow\n"
     ]
    }
   ],
   "source": [
    "print(superhero_info['Natasha Romanoff'])\n",
    "\n",
    "# print(superhero_info['Black Widow']) does not work as you can only print the value (black widow) using the key (natasha romanoff) and not the other way around"
   ]
  },
  {
   "cell_type": "markdown",
   "id": "d2d18235",
   "metadata": {},
   "source": [
    "### 1.4 Higher dimensional lists"
   ]
  },
  {
   "cell_type": "code",
   "execution_count": 33,
   "id": "595bad37",
   "metadata": {},
   "outputs": [],
   "source": [
    "py_superhero_info=[['Natasha Romanoff', 'Black Widow'],\n",
    "                     ['Tony Stark', 'Iron Man'],\n",
    "                     ['Stephen Strange', 'Doctor Strange']]\n",
    "\n",
    "# double square brackets - list within a list - 2D list\n",
    "# if use ([]), it becomes a list within a tuple"
   ]
  },
  {
   "cell_type": "markdown",
   "id": "bbdb38fa",
   "metadata": {},
   "source": [
    "## 2 Lists vs. Arrays"
   ]
  },
  {
   "cell_type": "markdown",
   "id": "6ed86e08",
   "metadata": {},
   "source": [
    "### 2.1 Size"
   ]
  },
  {
   "cell_type": "code",
   "execution_count": 3,
   "id": "80074a3a",
   "metadata": {},
   "outputs": [
    {
     "name": "stdout",
     "output_type": "stream",
     "text": [
      "[['1' 'A']\n",
      " ['2' 'B']\n",
      " ['3' 'C']\n",
      " ['4' 'D']\n",
      " ['5' 'E']\n",
      " ['6' 'F']\n",
      " ['7' 'G']\n",
      " ['8' 'H']\n",
      " ['9' 'I']\n",
      " ['10' 'J']]\n"
     ]
    },
    {
     "data": {
      "text/plain": [
       "(10, 2)"
      ]
     },
     "execution_count": 3,
     "metadata": {},
     "output_type": "execute_result"
    }
   ],
   "source": [
    "py_list_2d=[[1, \"A\"], [2, \"B\"], [3, \"C\"], [4, \"D\"],\n",
    "              [5, \"E\"], [6, \"F\"], [7, \"G\"], [8, \"H\"],\n",
    "              [9, \"I\"], [10, \"J\"]]\n",
    "\n",
    "np_array_2d=np.array(py_list_2d)\n",
    "# create a new array based on the list above and name it np_array_2d\n",
    "\n",
    "len(py_list_2d)\n",
    "# number of elements in the list\n",
    "\n",
    "print(np_array_2d)\n",
    "np_array_2d.shape\n",
    "# shape is an attribute of the numpy array, not a function"
   ]
  },
  {
   "cell_type": "markdown",
   "id": "58141849",
   "metadata": {},
   "source": [
    "### 2.2 Arrays are fussy about type"
   ]
  },
  {
   "cell_type": "code",
   "execution_count": 8,
   "id": "e442742e",
   "metadata": {},
   "outputs": [
    {
     "data": {
      "text/plain": [
       "array(['1', '1.5', 'A'], dtype='<U32')"
      ]
     },
     "execution_count": 8,
     "metadata": {},
     "output_type": "execute_result"
    }
   ],
   "source": [
    "py_list=[1,1.5,'A']\n",
    "np.array(py_list)\n",
    "# '' denotes that the numbers are now in english\n",
    "# numpy array only tolerates one data type (numbers or letters)\n"
   ]
  },
  {
   "cell_type": "markdown",
   "id": "e5bad07a",
   "metadata": {},
   "source": [
    "### 2.3 Adding a number"
   ]
  },
  {
   "cell_type": "code",
   "execution_count": 13,
   "id": "20abfcb7",
   "metadata": {},
   "outputs": [
    {
     "data": {
      "text/plain": [
       "array([11, 12, 13, 14, 15])"
      ]
     },
     "execution_count": 13,
     "metadata": {},
     "output_type": "execute_result"
    }
   ],
   "source": [
    "py_list=[1,2,3,4,5]\n",
    "np_array=np.array(py_list)\n",
    "# _ is for naming, . is for attribute (actually does something)\n",
    "\n",
    "np_array+10\n",
    "# py_list+10 does not work, cannot add numbers to lists"
   ]
  },
  {
   "cell_type": "markdown",
   "id": "4896bd26",
   "metadata": {},
   "source": [
    "### 2.4 Adding another list"
   ]
  },
  {
   "cell_type": "code",
   "execution_count": 16,
   "id": "ab10af48",
   "metadata": {},
   "outputs": [
    {
     "name": "stdout",
     "output_type": "stream",
     "text": [
      "[10 20 30 40 50]\n"
     ]
    }
   ],
   "source": [
    "py_list_1=[1,2,3,4,5]\n",
    "py_list_2=[10,20,30,40,50]\n",
    "\n",
    "np_array_1=np.array(py_list_1)\n",
    "np_array_2=np.array(py_list_2)"
   ]
  },
  {
   "cell_type": "code",
   "execution_count": 21,
   "id": "8a1799d5",
   "metadata": {},
   "outputs": [
    {
     "name": "stdout",
     "output_type": "stream",
     "text": [
      "[1, 2, 3, 4, 5, 10, 20, 30, 40, 50]\n"
     ]
    },
    {
     "data": {
      "text/plain": [
       "array([11, 22, 33, 44, 55])"
      ]
     },
     "execution_count": 21,
     "metadata": {},
     "output_type": "execute_result"
    }
   ],
   "source": [
    "print(py_list_1+py_list_2)\n",
    "# adding LISTS together combines all the elements into one list\n",
    "\n",
    "np_array_1+np_array_2\n",
    "# adding ARRAYS together adds up the values of each element based on their positions"
   ]
  },
  {
   "cell_type": "code",
   "execution_count": 25,
   "id": "44ebbdee",
   "metadata": {},
   "outputs": [
    {
     "data": {
      "text/plain": [
       "array([ 2,  4,  6,  8, 10])"
      ]
     },
     "execution_count": 25,
     "metadata": {},
     "output_type": "execute_result"
    }
   ],
   "source": [
    "py_list_1+np_array_1\n",
    "# works somehow\n"
   ]
  },
  {
   "cell_type": "markdown",
   "id": "4ae72efb",
   "metadata": {},
   "source": [
    "### 2.5 Multiplying by a Number"
   ]
  },
  {
   "cell_type": "code",
   "execution_count": 33,
   "id": "21e54a2a",
   "metadata": {},
   "outputs": [
    {
     "name": "stdout",
     "output_type": "stream",
     "text": [
      "[1, 2, 3, 4, 5, 1, 2, 3, 4, 5]\n"
     ]
    },
    {
     "data": {
      "text/plain": [
       "array([0.5, 1. , 1.5, 2. , 2.5])"
      ]
     },
     "execution_count": 33,
     "metadata": {},
     "output_type": "execute_result"
    }
   ],
   "source": [
    "py_list=[1,2,3,4,5]\n",
    "np_array=np.array(py_list)\n",
    "\n",
    "print(py_list*2)\n",
    "# makes the list longer by repeating it\n",
    "# only works for integers, no float (decimals)\n",
    "\n",
    "np_array*.5\n",
    "# multiplies each element in the array by the number\n",
    "# can be multiplied by decimal values"
   ]
  },
  {
   "cell_type": "code",
   "execution_count": 38,
   "id": "b6f837e6",
   "metadata": {},
   "outputs": [
    {
     "name": "stdout",
     "output_type": "stream",
     "text": [
      "[ 1  4  9 16 25]\n",
      "[ 1  4  9 16 25]\n"
     ]
    },
    {
     "data": {
      "text/plain": [
       "array([ 0.5,  3. ,  7.5, 14. , 22.5])"
      ]
     },
     "execution_count": 38,
     "metadata": {},
     "output_type": "execute_result"
    }
   ],
   "source": [
    "# py_list*py_list doesnt work because py_list is not an integer\n",
    "\n",
    "print(np_array*np_array)\n",
    "# can multiply arrays together, each element is multiplied by the element in the corresponding position of the other array\n",
    "\n",
    "print(py_list*np_array)\n",
    "# list can multiply by array\n",
    "\n",
    "np_array_2=np.array([0.5,1.5,2.5,3.5,4.5])\n",
    "py_list*np_array_2\n",
    "# list can be multiplied by array even when array has non integers\n"
   ]
  },
  {
   "cell_type": "markdown",
   "id": "e8bd8792",
   "metadata": {},
   "source": [
    "### 2.6 Squaring"
   ]
  },
  {
   "cell_type": "code",
   "execution_count": 42,
   "id": "73cc20fa",
   "metadata": {},
   "outputs": [
    {
     "data": {
      "text/plain": [
       "array([ 1,  4,  9, 16, 25])"
      ]
     },
     "execution_count": 42,
     "metadata": {},
     "output_type": "execute_result"
    }
   ],
   "source": [
    "# py_list**2 does not work\n",
    "\n",
    "np_array**2\n",
    "# square each element in the array\n",
    "# can cube (**3) as well\n"
   ]
  },
  {
   "cell_type": "markdown",
   "id": "e9be1259",
   "metadata": {},
   "source": [
    "### 2.7 Asking questions"
   ]
  },
  {
   "cell_type": "code",
   "execution_count": 51,
   "id": "d80a845a",
   "metadata": {},
   "outputs": [
    {
     "name": "stdout",
     "output_type": "stream",
     "text": [
      "[False False  True False False]\n"
     ]
    },
    {
     "data": {
      "text/plain": [
       "array([False, False, False,  True,  True])"
      ]
     },
     "execution_count": 51,
     "metadata": {},
     "output_type": "execute_result"
    }
   ],
   "source": [
    "py_list==3\n",
    "# works but doesnt make much sense\n",
    "# py_list>3 just does not work\n",
    "\n",
    "print(np_array==3)\n",
    "# checks if 3 is equivalent to each element in the array\n",
    "\n",
    "np_array>3\n",
    "# checks if each element in the array is larger than 3"
   ]
  },
  {
   "cell_type": "markdown",
   "id": "aad97e1b",
   "metadata": {},
   "source": [
    "### 2.8 Mathematics"
   ]
  },
  {
   "cell_type": "code",
   "execution_count": 58,
   "id": "792de86e",
   "metadata": {},
   "outputs": [
    {
     "name": "stdout",
     "output_type": "stream",
     "text": [
      "15\n",
      "5\n"
     ]
    },
    {
     "data": {
      "text/plain": [
       "1"
      ]
     },
     "execution_count": 58,
     "metadata": {},
     "output_type": "execute_result"
    }
   ],
   "source": [
    "print(sum(py_list))\n",
    "# adds up the elements in the list\n",
    "# py_list.sum() will not work\n",
    "\n",
    "py_list_1=[1,5,2,3,4]\n",
    "print(max(py_list_1))\n",
    "# gives the largest value regardless of order\n",
    "\n",
    "min(py_list_1)"
   ]
  },
  {
   "cell_type": "code",
   "execution_count": 67,
   "id": "ec6265f0",
   "metadata": {},
   "outputs": [
    {
     "name": "stdout",
     "output_type": "stream",
     "text": [
      "15\n",
      "15\n",
      "3.0\n",
      "5\n"
     ]
    },
    {
     "data": {
      "text/plain": [
       "1"
      ]
     },
     "execution_count": 67,
     "metadata": {},
     "output_type": "execute_result"
    }
   ],
   "source": [
    "print(sum(np_array))\n",
    "print(np_array.sum())\n",
    "# both ways work for arrays\n",
    "\n",
    "print(np_array.mean())\n",
    "\n",
    "print(np_array.max())\n",
    "\n",
    "np_array.min()\n"
   ]
  },
  {
   "cell_type": "markdown",
   "id": "d7f02e4b",
   "metadata": {},
   "source": [
    "## Exercise 1 :  Total recall?"
   ]
  },
  {
   "cell_type": "markdown",
   "id": "540e1ea4",
   "metadata": {},
   "source": [
    "Two similarities between lists and arrays.\n",
    "    - Both lists and arrays can undergo addition and multiplication\n",
    "    - Both lists and arrays can be 2D\n",
    "    \n",
    "Two differences between lists and arrays.\n",
    "    - Lists cannot be squared while arrays can be squared\n",
    "    - Lists can have more than one data type (eg. english and numbers) while arrays can only have one data type (if numbers and english are both present, numbers will be converted to english)\n",
    "    - Lists use square brackets [] while arrays use round brackets _and square brackets ([])_\n",
    "   \n",
    "What is a dictionary?\n",
    "       A dictionary has a key and a value associated with it, _separated by a colon :_. The value can be called using the key but not the other way around _(dictionary format is {'key1':'value1','key2','value2'})_\n",
    "       \n"
   ]
  },
  {
   "cell_type": "markdown",
   "id": "0d0f5926",
   "metadata": {},
   "source": [
    "## Exercise 2 :  Index me"
   ]
  },
  {
   "cell_type": "code",
   "execution_count": 73,
   "id": "3dabd540",
   "metadata": {},
   "outputs": [
    {
     "name": "stdout",
     "output_type": "stream",
     "text": [
      "a1\n",
      "c3\n",
      "e5\n",
      "g7\n",
      "i9\n"
     ]
    }
   ],
   "source": [
    "py_list=['a1','b2','c3','d4','e5','f6','g7','h8','i9','j10']\n",
    "\n",
    "print(py_list[0])\n",
    "print(py_list[2])\n",
    "print(py_list[4])\n",
    "print(py_list[6])\n",
    "print(py_list[8])\n",
    "# is there a way to print all the necessary elements together with one print function?\n"
   ]
  },
  {
   "cell_type": "markdown",
   "id": "2983c36b",
   "metadata": {},
   "source": [
    "## Exercise 3 :  Capitalise Heros"
   ]
  },
  {
   "cell_type": "code",
   "execution_count": 77,
   "id": "ecddbb1b",
   "metadata": {},
   "outputs": [
    {
     "name": "stdout",
     "output_type": "stream",
     "text": [
      "BLACK WIDOW\n",
      "IRON MAN\n",
      "DOCTOR STRANGE\n"
     ]
    }
   ],
   "source": [
    "superhero_info={\"Natasha Romanoff\": \"Black Widow\",\n",
    "                  \"Tony Stark\": \"Iron Man\",\n",
    "                  \"Stephen Strange\": \"Doctor Strange\"\n",
    "                  }\n",
    "\n",
    "superhero_info['Natasha Romanoff']=superhero_info['Natasha Romanoff'].upper()\n",
    "superhero_info['Tony Stark']=superhero_info['Tony Stark'].upper()    \n",
    "superhero_info['Stephen Strange']=superhero_info['Stephen Strange'].upper()\n",
    "\n",
    "print(superhero_info['Natasha Romanoff'])\n",
    "print(superhero_info['Tony Stark'])\n",
    "print(superhero_info['Stephen Strange'])\n",
    "\n"
   ]
  },
  {
   "cell_type": "markdown",
   "id": "07aa2082",
   "metadata": {},
   "source": [
    "## Exercise 4 :  How many ones"
   ]
  },
  {
   "cell_type": "code",
   "execution_count": 16,
   "id": "d315f3c7",
   "metadata": {},
   "outputs": [
    {
     "name": "stdout",
     "output_type": "stream",
     "text": [
      "9\n"
     ]
    },
    {
     "data": {
      "text/plain": [
       "array([1, 1, 1, 1, 1, 1, 1, 1, 1])"
      ]
     },
     "execution_count": 16,
     "metadata": {},
     "output_type": "execute_result"
    }
   ],
   "source": [
    "numbers=[45, 60, 1, 30, 96, 1, 96, 57, 16, 1,\n",
    "        99, 62, 86, 43, 42, 60, 59, 1, 1, 35,\n",
    "        83, 47, 34, 28, 68, 23, 22, 92, 1, 79,\n",
    "        1, 29, 94, 72, 46, 47, 1, 74, 32, 20,\n",
    "        8, 37, 35, 1, 89, 29, 86, 19, 43, 61]                  \n",
    "\n",
    "np_numbers_array=np.array(numbers)\n",
    "\n",
    "np_numbers_array==1\n",
    "print(sum([False, False,  True, False, False,  True, False, False, False,\n",
    "        True, False, False, False, False, False, False, False,  True,\n",
    "        True, False, False, False, False, False, False, False, False,\n",
    "       False,  True, False,  True, False, False, False, False, False,\n",
    "        True, False, False, False, False, False, False,  True, False,\n",
    "       False, False, False, False, False]))\n",
    "\n",
    "# since sum() considers True to be 1, there are 9 True and therefore 9 1s\n",
    "\n",
    "\n",
    "np_numbers_array[np_numbers_array==1]\n",
    "# masking to show only 1s"
   ]
  }
 ],
 "metadata": {
  "kernelspec": {
   "display_name": "Python 3 (ipykernel)",
   "language": "python",
   "name": "python3"
  },
  "language_info": {
   "codemirror_mode": {
    "name": "ipython",
    "version": 3
   },
   "file_extension": ".py",
   "mimetype": "text/x-python",
   "name": "python",
   "nbconvert_exporter": "python",
   "pygments_lexer": "ipython3",
   "version": "3.10.8"
  },
  "toc": {
   "base_numbering": 1,
   "nav_menu": {},
   "number_sections": true,
   "sideBar": true,
   "skip_h1_title": false,
   "title_cell": "Table of Contents",
   "title_sidebar": "Contents",
   "toc_cell": false,
   "toc_position": {},
   "toc_section_display": true,
   "toc_window_display": false
  },
  "varInspector": {
   "cols": {
    "lenName": 16,
    "lenType": 16,
    "lenVar": 40
   },
   "kernels_config": {
    "python": {
     "delete_cmd_postfix": "",
     "delete_cmd_prefix": "del ",
     "library": "var_list.py",
     "varRefreshCmd": "print(var_dic_list())"
    },
    "r": {
     "delete_cmd_postfix": ") ",
     "delete_cmd_prefix": "rm(",
     "library": "var_list.r",
     "varRefreshCmd": "cat(var_dic_list()) "
    }
   },
   "types_to_exclude": [
    "module",
    "function",
    "builtin_function_or_method",
    "instance",
    "_Feature"
   ],
   "window_display": false
  },
  "vscode": {
   "interpreter": {
    "hash": "31f2aee4e71d21fbe5cf8b01ff0e069b9275f58929596ceb00d14d90e3e16cd6"
   }
  }
 },
 "nbformat": 4,
 "nbformat_minor": 5
}
