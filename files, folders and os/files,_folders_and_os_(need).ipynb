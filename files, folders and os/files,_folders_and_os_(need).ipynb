{
 "cells": [
  {
   "cell_type": "markdown",
   "id": "123456",
   "metadata": {},
   "source": [
    "<div style=\"text-align:left;font-size:2em\"><span style=\"font-weight:bolder;font-size:1.25em\">SP2273 | Learning Portfolio</span><br><br><span style=\"font-weight:bold;color:darkred\">Files, Folders and OS (Need)</span></div>"
   ]
  },
  {
   "cell_type": "markdown",
   "id": "26e41c9f",
   "metadata": {},
   "source": [
    "## 1 Important concepts"
   ]
  },
  {
   "cell_type": "markdown",
   "id": "234d5360",
   "metadata": {},
   "source": [
    "### 1.1 Path"
   ]
  },
  {
   "cell_type": "code",
   "execution_count": 2,
   "id": "5e3b02d9",
   "metadata": {},
   "outputs": [],
   "source": [
    "import os\n",
    "# Your code here\n"
   ]
  },
  {
   "cell_type": "markdown",
   "id": "d5e5666b",
   "metadata": {},
   "source": [
    "### 1.2 More about relative paths"
   ]
  },
  {
   "cell_type": "markdown",
   "id": "d47489f4",
   "metadata": {},
   "source": [
    "**.\\data-files\\data-01.txt** refers to the file 'data-01.txt' in the folder named 'data-files' in the **current folder**\n",
    "\n",
    "**..\\data-files\\data-01.txt** refers to the file 'data-01.txt' in the folder named 'data-files' in the **folder above the current folder**\n"
   ]
  },
  {
   "cell_type": "markdown",
   "id": "596575c3",
   "metadata": {},
   "source": [
    "### 1.3 Path separator"
   ]
  },
  {
   "cell_type": "markdown",
   "id": "9645ea9c",
   "metadata": {},
   "source": [
    "Windows uses **\\** as the path separator while Mac OS X (or Linux) uses **/**\n",
    "\n",
    "The code has to work on both systems"
   ]
  },
  {
   "cell_type": "markdown",
   "id": "40cabf45",
   "metadata": {},
   "source": [
    "### Text files vs Binary files"
   ]
  },
  {
   "cell_type": "markdown",
   "id": "906ba9c5",
   "metadata": {},
   "source": [
    "Text files examples: .txt, .md, .csv\n",
    "- simple but can be bulky\n",
    "\n",
    "Binary files (non-text files) examples: .png, .xlsx, .exe\n",
    "- more reasonable speed and size"
   ]
  },
  {
   "cell_type": "markdown",
   "id": "f305f354",
   "metadata": {},
   "source": [
    "### Extentions"
   ]
  },
  {
   "cell_type": "markdown",
   "id": "5ca070c0",
   "metadata": {},
   "source": [
    "Best not to change the file extension\n"
   ]
  },
  {
   "cell_type": "markdown",
   "id": "cb5e8f3e",
   "metadata": {},
   "source": [
    "### 1.4 Opening and closing files"
   ]
  },
  {
   "cell_type": "code",
   "execution_count": 22,
   "id": "af226d8c",
   "metadata": {},
   "outputs": [
    {
     "ename": "FileNotFoundError",
     "evalue": "[Errno 2] No such file or directory: 'spectrum-01.txt'",
     "output_type": "error",
     "traceback": [
      "\u001b[1;31m---------------------------------------------------------------------------\u001b[0m",
      "\u001b[1;31mFileNotFoundError\u001b[0m                         Traceback (most recent call last)",
      "Cell \u001b[1;32mIn[22], line 1\u001b[0m\n\u001b[1;32m----> 1\u001b[0m \u001b[38;5;28;01mwith\u001b[39;00m \u001b[38;5;28;43mopen\u001b[39;49m\u001b[43m(\u001b[49m\u001b[38;5;124;43m'\u001b[39;49m\u001b[38;5;124;43mspectrum-01.txt\u001b[39;49m\u001b[38;5;124;43m'\u001b[39;49m\u001b[43m,\u001b[49m\u001b[38;5;124;43m'\u001b[39;49m\u001b[38;5;124;43mr\u001b[39;49m\u001b[38;5;124;43m'\u001b[39;49m\u001b[43m)\u001b[49m \u001b[38;5;28;01mas\u001b[39;00m file:\n\u001b[0;32m      2\u001b[0m     file_content\u001b[38;5;241m=\u001b[39mfile\u001b[38;5;241m.\u001b[39mread()\n\u001b[0;32m      4\u001b[0m \u001b[38;5;28mprint\u001b[39m(file_content)\n",
      "File \u001b[1;32m~\\miniconda3\\lib\\site-packages\\IPython\\core\\interactiveshell.py:282\u001b[0m, in \u001b[0;36m_modified_open\u001b[1;34m(file, *args, **kwargs)\u001b[0m\n\u001b[0;32m    275\u001b[0m \u001b[38;5;28;01mif\u001b[39;00m file \u001b[38;5;129;01min\u001b[39;00m {\u001b[38;5;241m0\u001b[39m, \u001b[38;5;241m1\u001b[39m, \u001b[38;5;241m2\u001b[39m}:\n\u001b[0;32m    276\u001b[0m     \u001b[38;5;28;01mraise\u001b[39;00m \u001b[38;5;167;01mValueError\u001b[39;00m(\n\u001b[0;32m    277\u001b[0m         \u001b[38;5;124mf\u001b[39m\u001b[38;5;124m\"\u001b[39m\u001b[38;5;124mIPython won\u001b[39m\u001b[38;5;124m'\u001b[39m\u001b[38;5;124mt let you open fd=\u001b[39m\u001b[38;5;132;01m{\u001b[39;00mfile\u001b[38;5;132;01m}\u001b[39;00m\u001b[38;5;124m by default \u001b[39m\u001b[38;5;124m\"\u001b[39m\n\u001b[0;32m    278\u001b[0m         \u001b[38;5;124m\"\u001b[39m\u001b[38;5;124mas it is likely to crash IPython. If you know what you are doing, \u001b[39m\u001b[38;5;124m\"\u001b[39m\n\u001b[0;32m    279\u001b[0m         \u001b[38;5;124m\"\u001b[39m\u001b[38;5;124myou can use builtins\u001b[39m\u001b[38;5;124m'\u001b[39m\u001b[38;5;124m open.\u001b[39m\u001b[38;5;124m\"\u001b[39m\n\u001b[0;32m    280\u001b[0m     )\n\u001b[1;32m--> 282\u001b[0m \u001b[38;5;28;01mreturn\u001b[39;00m io_open(file, \u001b[38;5;241m*\u001b[39margs, \u001b[38;5;241m*\u001b[39m\u001b[38;5;241m*\u001b[39mkwargs)\n",
      "\u001b[1;31mFileNotFoundError\u001b[0m: [Errno 2] No such file or directory: 'spectrum-01.txt'"
     ]
    }
   ],
   "source": [
    "with open('spectrum-01.txt','r') as file:\n",
    "    file_content=file.read()\n",
    "    \n",
    "print(file_content)\n",
    "# open() opens a file and returns it as an object\n",
    "# 'r' specifies reading form the file\n",
    "# 'with' allows you to not need to close the file afterwards"
   ]
  },
  {
   "cell_type": "code",
   "execution_count": 8,
   "id": "709b111d",
   "metadata": {},
   "outputs": [],
   "source": [
    "text='Far out in the uncharted backwaters of the unfashionable end of the western spiral arm of the Galaxy lies a small unregarded yellow sun.\\nOrbiting this at a distance of roughly ninety-two million miles is an utterly insignificant little blue green planet whose ape-descended life forms are so amazingly primitive that they still think digital watches are a pretty neat idea.'\n",
    "\n",
    "with open('my-text-once.txt','w') as file:\n",
    "    file.write(text)\n",
    "# 'w' indicates that you are opening the file stream for writing\n",
    "# the file is created in the current folder (aka files, folders and os)"
   ]
  },
  {
   "cell_type": "code",
   "execution_count": 11,
   "id": "61134995",
   "metadata": {},
   "outputs": [],
   "source": [
    "with open('my-text-lines.txt','w') as file:\n",
    "    for line in text.splitlines():\n",
    "        file.writelines(line)\n",
    "# (fyi) differs from the previous text file in that the new line \\n is not applied"
   ]
  },
  {
   "cell_type": "markdown",
   "id": "7d709852",
   "metadata": {},
   "source": [
    "## 2 Playing with the OS"
   ]
  },
  {
   "cell_type": "markdown",
   "id": "0d974993",
   "metadata": {},
   "source": [
    "### 2.1 Some packages"
   ]
  },
  {
   "cell_type": "code",
   "execution_count": 60,
   "id": "83cf617c",
   "metadata": {},
   "outputs": [],
   "source": [
    "import os\n",
    "import glob\n",
    "import shutil"
   ]
  },
  {
   "cell_type": "markdown",
   "id": "995ebf3a",
   "metadata": {},
   "source": [
    "**os** - to ‘talk’ to the OS to create, modify, delete folders and write OS-agnostic code\n",
    "\n",
    "**glob** - to search for files\n",
    "\n",
    "**shutil** - to copy files"
   ]
  },
  {
   "cell_type": "markdown",
   "id": "6b66bec6",
   "metadata": {},
   "source": [
    "### 2.2 OS safe paths"
   ]
  },
  {
   "cell_type": "code",
   "execution_count": 17,
   "id": "7a6beb81",
   "metadata": {},
   "outputs": [
    {
     "name": "stdout",
     "output_type": "stream",
     "text": [
      ".\\all-data\\sg-data\\data-01.txt\n"
     ]
    }
   ],
   "source": [
    "path=os.path.join('.','all-data','sg-data','data-01.txt')\n",
    "print(path)\n",
    "\n",
    "# os.path.join allows the code to be run on any os\n",
    "# is it supposed to be \\ or \\\\ as shown in the sp2273 site?"
   ]
  },
  {
   "cell_type": "markdown",
   "id": "9b7cf147",
   "metadata": {},
   "source": [
    "### 2.3 Creating folders"
   ]
  },
  {
   "cell_type": "code",
   "execution_count": 18,
   "id": "25fb6298",
   "metadata": {},
   "outputs": [
    {
     "name": "stdout",
     "output_type": "stream",
     "text": [
      "Creating people\\John\n",
      "Creating people\\Paul\n",
      "Creating people\\Ringo\n"
     ]
    }
   ],
   "source": [
    "os.mkdir('people')\n",
    "# create a folder using os.mkdir()\n",
    "\n",
    "for person in ['John','Paul','Ringo']:\n",
    "    path=os.path.join('people',person)\n",
    "    print(f'Creating {path}')\n",
    "    # printing is optional\n",
    "    os.mkdir(path)\n",
    "    \n",
    "# new folder 'people' created in 'files,folders and os'\n",
    "# new (empty) folders 'John', 'Paul' and 'Ringo' created in 'people'"
   ]
  },
  {
   "cell_type": "markdown",
   "id": "d672fb54",
   "metadata": {},
   "source": [
    "### 2.4 Checking for existence"
   ]
  },
  {
   "cell_type": "code",
   "execution_count": 19,
   "id": "1094cf73",
   "metadata": {},
   "outputs": [
    {
     "name": "stdout",
     "output_type": "stream",
     "text": [
      "people\\John already exists; skipping creation.\n",
      "people\\Paul already exists; skipping creation.\n",
      "people\\Ringo already exists; skipping creation.\n"
     ]
    }
   ],
   "source": [
    "for person in ['John','Paul','Ringo']:\n",
    "    path=os.path.join('people',person)\n",
    "    try:\n",
    "        os.mkdir(path)\n",
    "        print(f'Creating {path}')\n",
    "    except FileExistsError:\n",
    "        print(f'{path} already exists; skipping creation.')\n"
   ]
  },
  {
   "cell_type": "code",
   "execution_count": 20,
   "id": "64cac555",
   "metadata": {
    "scrolled": true
   },
   "outputs": [
    {
     "name": "stdout",
     "output_type": "stream",
     "text": [
      "people\\John already exists; skipping creation.\n",
      "people\\Paul already exists; skipping creation.\n",
      "people\\Ringo already exists; skipping creation.\n"
     ]
    }
   ],
   "source": [
    "for person in ['John','Paul','Ringo']:\n",
    "    path=os.path.join('people',person)\n",
    "    if os.path.exists(path):\n",
    "        print(f'{path} already exists; skipping creation.')\n",
    "    else:\n",
    "        os.mkdir(path)\n",
    "        print(f'Creating {path}')\n",
    "        "
   ]
  },
  {
   "cell_type": "markdown",
   "id": "ea176ae3",
   "metadata": {},
   "source": [
    "### 2.5 Copying files"
   ]
  },
  {
   "cell_type": "code",
   "execution_count": 51,
   "id": "8b34cffa",
   "metadata": {},
   "outputs": [
    {
     "data": {
      "text/plain": [
       "'C:\\\\Users\\\\verni\\\\Documents\\\\GitHub\\\\learning-portfolio-e0967903\\\\files, folders and os\\\\people'"
      ]
     },
     "execution_count": 51,
     "metadata": {},
     "output_type": "execute_result"
    }
   ],
   "source": [
    "os.getcwd()"
   ]
  },
  {
   "cell_type": "code",
   "execution_count": 53,
   "id": "39de3db5",
   "metadata": {},
   "outputs": [
    {
     "name": "stdout",
     "output_type": "stream",
     "text": [
      "Copied file to people\\John\n",
      "Copied file to people\\Paul\n",
      "Copied file to people\\Ringo\n"
     ]
    }
   ],
   "source": [
    "for person in ['John','Paul','Ringo']:\n",
    "    path_to_destination=os.path.join('people',person)\n",
    "    shutil.copy('sp2273_logo.png',path_to_destination)\n",
    "    print(f'Copied file to {path_to_destination}')\n",
    "# copy sp2273_logo.png to each of the files 'John', 'Paul' and 'Ringo'"
   ]
  },
  {
   "cell_type": "code",
   "execution_count": 54,
   "id": "8ad22645",
   "metadata": {},
   "outputs": [
    {
     "name": "stdout",
     "output_type": "stream",
     "text": [
      "Moved logo to people\\John\\imgs\\sp2273_logo.png\n",
      "Moved logo to people\\Paul\\imgs\\sp2273_logo.png\n",
      "Moved logo to people\\Ringo\\imgs\\sp2273_logo.png\n"
     ]
    }
   ],
   "source": [
    "for person in ['John','Paul','Ringo']:\n",
    "    try:\n",
    "        path_to_imgs=os.path.join('people',person,'imgs')\n",
    "        if not os.path.exists(path_to_imgs):\n",
    "            os.mkdir(path_to_imgs)\n",
    "        # if the 'imgs' folder hasnt been created under each 'people' folder yet, create it\n",
    "    \n",
    "        current_path_of_logo = os.path.join('people', person, 'sp2273_logo.png')\n",
    "        new_path_of_logo = os.path.join('people', person, 'imgs', 'sp2273_logo.png')\n",
    "        # prepare to move 'sp2273_logo.png' from where it is now to the new 'imgs' folder \n",
    "    \n",
    "        shutil.move(current_path_of_logo, new_path_of_logo)\n",
    "        print(f'Moved logo to {new_path_of_logo}')\n",
    "        # move 'sp2273_logo.png' into 'imgs' in 'John', 'Paul' and 'Ringo'\n",
    "    except:\n",
    "        print(f'\"sp2273_logo.png\" has already been moved to {person}')\n",
    "        \n",
    "# can only be done once before raising FileNotFoundError without try-except\n"
   ]
  },
  {
   "cell_type": "markdown",
   "id": "a5db78f8",
   "metadata": {},
   "source": [
    "### 2.6 Listing files"
   ]
  },
  {
   "cell_type": "code",
   "execution_count": 36,
   "id": "0bf1a75f",
   "metadata": {},
   "outputs": [
    {
     "data": {
      "text/plain": [
       "['files,_folders_and_os_(need).ipynb',\n",
       " 'my-text-lines.txt',\n",
       " 'my-text-once.txt',\n",
       " 'people',\n",
       " 'sp2273_logo.png',\n",
       " 'spectrum-01.txt']"
      ]
     },
     "execution_count": 36,
     "metadata": {},
     "output_type": "execute_result"
    }
   ],
   "source": [
    "glob.glob('*')\n",
    "# '*' - give me all the files in the current directory"
   ]
  },
  {
   "cell_type": "code",
   "execution_count": 37,
   "id": "0707e185",
   "metadata": {},
   "outputs": [
    {
     "data": {
      "text/plain": [
       "['people']"
      ]
     },
     "execution_count": 37,
     "metadata": {},
     "output_type": "execute_result"
    }
   ],
   "source": [
    "glob.glob('peo*')\n",
    "# give me all the files in the current directory with name starting with 'peo'"
   ]
  },
  {
   "cell_type": "code",
   "execution_count": 15,
   "id": "b500a15e",
   "metadata": {},
   "outputs": [
    {
     "data": {
      "text/plain": [
       "[]"
      ]
     },
     "execution_count": 15,
     "metadata": {},
     "output_type": "execute_result"
    }
   ],
   "source": [
    "glob.glob('peo*/*')\n",
    "# give me all the files inside folders starting with 'peo'"
   ]
  },
  {
   "cell_type": "code",
   "execution_count": 14,
   "id": "673f1221",
   "metadata": {},
   "outputs": [
    {
     "name": "stdout",
     "output_type": "stream",
     "text": [
      "['people\\\\']\n"
     ]
    },
    {
     "data": {
      "text/plain": [
       "[]"
      ]
     },
     "execution_count": 14,
     "metadata": {},
     "output_type": "execute_result"
    }
   ],
   "source": [
    "print(glob.glob('people/**',recursive=True))\n",
    "# search recursively (dig through all sub-file directories)\n",
    "\n",
    "glob.glob('people/**/*.png', recursive=True)\n",
    "# narrow down to only png files"
   ]
  },
  {
   "cell_type": "markdown",
   "id": "e44f19e4",
   "metadata": {},
   "source": [
    "### 2.7 Moving about"
   ]
  },
  {
   "cell_type": "code",
   "execution_count": 58,
   "id": "426baab0",
   "metadata": {},
   "outputs": [
    {
     "data": {
      "text/plain": [
       "'C:\\\\Users\\\\verni\\\\Documents\\\\GitHub\\\\learning-portfolio-e0967903\\\\files, folders and os'"
      ]
     },
     "execution_count": 58,
     "metadata": {},
     "output_type": "execute_result"
    }
   ],
   "source": [
    "os.getcwd()\n",
    "# get current working directory - tell me exactly where i am now\n",
    "\n",
    "# os.chdir('people/Ringo')\n",
    "#os.chdir('Ringo')\n",
    "# why error?"
   ]
  },
  {
   "cell_type": "code",
   "execution_count": 57,
   "id": "53b542dd",
   "metadata": {},
   "outputs": [],
   "source": [
    "os.chdir('..')"
   ]
  },
  {
   "cell_type": "code",
   "execution_count": 55,
   "id": "d9f529b8",
   "metadata": {},
   "outputs": [],
   "source": [
    "os.chdir('people')"
   ]
  },
  {
   "cell_type": "markdown",
   "id": "9a783cdf",
   "metadata": {},
   "source": [
    "### 2.8 Extracting Info"
   ]
  },
  {
   "cell_type": "code",
   "execution_count": 59,
   "id": "974420fe",
   "metadata": {},
   "outputs": [
    {
     "name": "stdout",
     "output_type": "stream",
     "text": [
      "people/Ringo/imgs/sp2273_logo.png png\n"
     ]
    }
   ],
   "source": [
    "path='people/Ringo/imgs/sp2273_logo.png'\n",
    "filename=path.split(os.path.sep)[-1]\n",
    "# split the path where the separator occurs and pick the last element in the list\n",
    "extension=filename.split('.')[-1]\n",
    "# get the extension of the selected file??\n",
    "print(filename, extension)\n"
   ]
  },
  {
   "cell_type": "code",
   "execution_count": 60,
   "id": "eaccda17",
   "metadata": {},
   "outputs": [
    {
     "name": "stdout",
     "output_type": "stream",
     "text": [
      "('people/Ringo/imgs', 'sp2273_logo.png')\n",
      "('people/Ringo/imgs/sp2273_logo', '.png')\n"
     ]
    },
    {
     "data": {
      "text/plain": [
       "'people/Ringo/imgs'"
      ]
     },
     "execution_count": 60,
     "metadata": {},
     "output_type": "execute_result"
    }
   ],
   "source": [
    "path='people/Ringo/imgs/sp2273_logo.png'\n",
    "\n",
    "print(os.path.split(path))\n",
    "# Split filename from the rest\n",
    "\n",
    "print(os.path.splitext(path))\n",
    "# Split extension\n",
    "\n",
    "os.path.dirname(path)\n",
    "# Show the directory"
   ]
  },
  {
   "cell_type": "markdown",
   "id": "b023a63f",
   "metadata": {},
   "source": [
    "### 2.9 Deleting stuff"
   ]
  },
  {
   "cell_type": "code",
   "execution_count": 61,
   "id": "76b5b22d",
   "metadata": {
    "scrolled": true
   },
   "outputs": [],
   "source": [
    "os.remove('people/Ringo/imgs/sp2273_logo.png')\n",
    "# remove the png in Ringo\n",
    "# the png is still in the folder, why error?"
   ]
  },
  {
   "cell_type": "code",
   "execution_count": 63,
   "id": "11dca6c1",
   "metadata": {
    "scrolled": true
   },
   "outputs": [
    {
     "ename": "OSError",
     "evalue": "[WinError 145] The directory is not empty: 'people/Ringo'",
     "output_type": "error",
     "traceback": [
      "\u001b[1;31m---------------------------------------------------------------------------\u001b[0m",
      "\u001b[1;31mOSError\u001b[0m                                   Traceback (most recent call last)",
      "Cell \u001b[1;32mIn[63], line 1\u001b[0m\n\u001b[1;32m----> 1\u001b[0m \u001b[43mos\u001b[49m\u001b[38;5;241;43m.\u001b[39;49m\u001b[43mrmdir\u001b[49m\u001b[43m(\u001b[49m\u001b[38;5;124;43m'\u001b[39;49m\u001b[38;5;124;43mpeople/Ringo\u001b[39;49m\u001b[38;5;124;43m'\u001b[39;49m\u001b[43m)\u001b[49m\n\u001b[0;32m      2\u001b[0m \u001b[38;5;66;03m# remove an empty directory\u001b[39;00m\n",
      "\u001b[1;31mOSError\u001b[0m: [WinError 145] The directory is not empty: 'people/Ringo'"
     ]
    }
   ],
   "source": [
    "os.rmdir('people/Ringo')\n",
    "# remove an empty directory\n",
    "# not supposed to work when directory is not empty"
   ]
  },
  {
   "cell_type": "code",
   "execution_count": 64,
   "id": "15173e4d",
   "metadata": {
    "scrolled": true
   },
   "outputs": [],
   "source": [
    "shutil.rmtree('people/Ringo')\n",
    "# remove a whole directory with files"
   ]
  },
  {
   "cell_type": "markdown",
   "id": "d295ccb6",
   "metadata": {},
   "source": [
    "## Exercise 7 :  The OS is my oyster"
   ]
  },
  {
   "cell_type": "code",
   "execution_count": 86,
   "id": "f5742e2a",
   "metadata": {
    "scrolled": true
   },
   "outputs": [],
   "source": [
    "os.getcwd()\n",
    "os.mkdir('python_today')"
   ]
  },
  {
   "cell_type": "code",
   "execution_count": 100,
   "id": "f9a3096b",
   "metadata": {},
   "outputs": [],
   "source": [
    "os.chdir('python_today')"
   ]
  },
  {
   "cell_type": "code",
   "execution_count": 101,
   "id": "f2e8ad62",
   "metadata": {
    "scrolled": true
   },
   "outputs": [
    {
     "data": {
      "text/plain": [
       "'C:\\\\Users\\\\verni\\\\Documents\\\\GitHub\\\\learning-portfolio-e0967903\\\\files, folders and os\\\\python_today'"
      ]
     },
     "execution_count": 101,
     "metadata": {},
     "output_type": "execute_result"
    }
   ],
   "source": [
    "os.getcwd()"
   ]
  },
  {
   "cell_type": "code",
   "execution_count": 112,
   "id": "47b3342e",
   "metadata": {},
   "outputs": [],
   "source": [
    "os.chdir('..')"
   ]
  },
  {
   "cell_type": "code",
   "execution_count": 41,
   "id": "6e7dc59f",
   "metadata": {
    "scrolled": false
   },
   "outputs": [],
   "source": [
    "#for x in range(51):\n",
    "os.mkdir('new_directory_{x:02}')"
   ]
  },
  {
   "cell_type": "code",
   "execution_count": 53,
   "id": "a6cbd6d2",
   "metadata": {},
   "outputs": [],
   "source": [
    "for x in range(1,51,2):\n",
    "    os.rmdir(f'python_today/new_directory_{x:02}')"
   ]
  },
  {
   "cell_type": "code",
   "execution_count": 74,
   "id": "782d06f1",
   "metadata": {
    "scrolled": true
   },
   "outputs": [
    {
     "data": {
      "text/plain": [
       "['new_directory_02',\n",
       " 'new_directory_04',\n",
       " 'new_directory_06',\n",
       " 'new_directory_08',\n",
       " 'new_directory_10',\n",
       " 'new_directory_12',\n",
       " 'new_directory_14',\n",
       " 'new_directory_16',\n",
       " 'new_directory_18',\n",
       " 'new_directory_20',\n",
       " 'new_directory_22',\n",
       " 'new_directory_24',\n",
       " 'new_directory_26',\n",
       " 'new_directory_28',\n",
       " 'new_directory_30',\n",
       " 'new_directory_32',\n",
       " 'new_directory_34',\n",
       " 'new_directory_36',\n",
       " 'new_directory_38',\n",
       " 'new_directory_40',\n",
       " 'new_directory_42',\n",
       " 'new_directory_44',\n",
       " 'new_directory_46',\n",
       " 'new_directory_48',\n",
       " 'new_directory_50']"
      ]
     },
     "execution_count": 74,
     "metadata": {},
     "output_type": "execute_result"
    }
   ],
   "source": [
    "os.listdir('python_today')"
   ]
  },
  {
   "cell_type": "code",
   "execution_count": 103,
   "id": "b6e2e70b",
   "metadata": {
    "scrolled": true
   },
   "outputs": [
    {
     "name": "stdout",
     "output_type": "stream",
     "text": [
      "5 new_directory_10\n",
      "haha_05\n",
      "10 new_directory_20\n",
      "haha_10\n",
      "15 new_directory_30\n",
      "haha_15\n",
      "20 new_directory_40\n",
      "haha_20\n",
      "25 new_directory_50\n",
      "haha_25\n"
     ]
    }
   ],
   "source": [
    "for i,directory in enumerate(os.listdir(),1):\n",
    "    if i%5==0:\n",
    "        print(i,directory)\n",
    "        print(f'haha_{i:02}')\n",
    "        os.rename(directory,f'haha_{i:02}')"
   ]
  },
  {
   "cell_type": "code",
   "execution_count": 106,
   "id": "10f894cc",
   "metadata": {
    "scrolled": true
   },
   "outputs": [
    {
     "data": {
      "text/plain": [
       "[(1, 'haha_05'),\n",
       " (2, 'haha_10'),\n",
       " (3, 'haha_15'),\n",
       " (4, 'haha_20'),\n",
       " (5, 'haha_25'),\n",
       " (6, 'new_directory_02'),\n",
       " (7, 'new_directory_04'),\n",
       " (8, 'new_directory_06'),\n",
       " (9, 'new_directory_08'),\n",
       " (10, 'new_directory_12'),\n",
       " (11, 'new_directory_14'),\n",
       " (12, 'new_directory_16'),\n",
       " (13, 'new_directory_18'),\n",
       " (14, 'new_directory_22'),\n",
       " (15, 'new_directory_24'),\n",
       " (16, 'new_directory_26'),\n",
       " (17, 'new_directory_28'),\n",
       " (18, 'new_directory_32'),\n",
       " (19, 'new_directory_34'),\n",
       " (20, 'new_directory_36'),\n",
       " (21, 'new_directory_38'),\n",
       " (22, 'new_directory_42'),\n",
       " (23, 'new_directory_44'),\n",
       " (24, 'new_directory_46'),\n",
       " (25, 'new_directory_48')]"
      ]
     },
     "execution_count": 106,
     "metadata": {},
     "output_type": "execute_result"
    }
   ],
   "source": [
    "list(enumerate(os.listdir(),1))"
   ]
  },
  {
   "cell_type": "code",
   "execution_count": 104,
   "id": "718149e0",
   "metadata": {
    "scrolled": true
   },
   "outputs": [
    {
     "data": {
      "text/plain": [
       "['haha_05',\n",
       " 'haha_10',\n",
       " 'haha_15',\n",
       " 'haha_20',\n",
       " 'haha_25',\n",
       " 'new_directory_02',\n",
       " 'new_directory_04',\n",
       " 'new_directory_06',\n",
       " 'new_directory_08',\n",
       " 'new_directory_12',\n",
       " 'new_directory_14',\n",
       " 'new_directory_16',\n",
       " 'new_directory_18',\n",
       " 'new_directory_22',\n",
       " 'new_directory_24',\n",
       " 'new_directory_26',\n",
       " 'new_directory_28',\n",
       " 'new_directory_32',\n",
       " 'new_directory_34',\n",
       " 'new_directory_36',\n",
       " 'new_directory_38',\n",
       " 'new_directory_42',\n",
       " 'new_directory_44',\n",
       " 'new_directory_46',\n",
       " 'new_directory_48']"
      ]
     },
     "execution_count": 104,
     "metadata": {},
     "output_type": "execute_result"
    }
   ],
   "source": [
    "os.listdir()"
   ]
  },
  {
   "cell_type": "code",
   "execution_count": 113,
   "id": "4b4e0e9b",
   "metadata": {},
   "outputs": [
    {
     "data": {
      "text/plain": [
       "'C:\\\\Users\\\\verni\\\\Documents\\\\GitHub\\\\learning-portfolio-e0967903\\\\files, folders and os'"
      ]
     },
     "execution_count": 113,
     "metadata": {},
     "output_type": "execute_result"
    }
   ],
   "source": [
    "os.getcwd()"
   ]
  },
  {
   "cell_type": "code",
   "execution_count": 119,
   "id": "a6b9982a",
   "metadata": {
    "scrolled": true
   },
   "outputs": [
    {
     "data": {
      "text/plain": [
       "['python_today\\\\haha_05',\n",
       " 'python_today\\\\haha_10',\n",
       " 'python_today\\\\haha_15',\n",
       " 'python_today\\\\haha_20',\n",
       " 'python_today\\\\haha_25']"
      ]
     },
     "execution_count": 119,
     "metadata": {},
     "output_type": "execute_result"
    }
   ],
   "source": [
    "glob.glob('python_today/haha*')"
   ]
  },
  {
   "cell_type": "code",
   "execution_count": 122,
   "id": "58b50f1b",
   "metadata": {
    "scrolled": true
   },
   "outputs": [
    {
     "name": "stdout",
     "output_type": "stream",
     "text": [
      "copied file to .\\python_today\\haha_05\n",
      "copied file to .\\python_today\\haha_10\n",
      "copied file to .\\python_today\\haha_15\n",
      "copied file to .\\python_today\\haha_20\n",
      "copied file to .\\python_today\\haha_25\n"
     ]
    }
   ],
   "source": [
    "for hahafile in glob.glob('python_today/haha*'):\n",
    "    #print(f'{hahafile}')\n",
    "    path_to_haha=os.path.join('.',hahafile)\n",
    "    # use '.' because glob already brings us to python_today. ('python_today',hahafile) will raise an error as the path is NOT python_today\\python_today\\hahafile\n",
    "    shutil.copy('sp2273_logo.png',path_to_haha)\n",
    "    print(f'copied file to {path_to_haha}')"
   ]
  },
  {
   "cell_type": "code",
   "execution_count": 133,
   "id": "9064ca83",
   "metadata": {
    "scrolled": true
   },
   "outputs": [
    {
     "data": {
      "text/plain": [
       "['sp2273_logo.png']"
      ]
     },
     "execution_count": 133,
     "metadata": {},
     "output_type": "execute_result"
    }
   ],
   "source": [
    "os.listdir('haha_05')"
   ]
  },
  {
   "cell_type": "markdown",
   "id": "c6c21f32",
   "metadata": {},
   "source": [
    "## Exercise 8 :  Tidying a collaboration"
   ]
  },
  {
   "cell_type": "code",
   "execution_count": 221,
   "id": "4406e277",
   "metadata": {
    "code_folding": []
   },
   "outputs": [
    {
     "name": "stdout",
     "output_type": "stream",
     "text": [
      "10-08-singapore.txt\n"
     ]
    }
   ],
   "source": [
    "months={'jan': '01', 'feb': '02', 'mar': '03',\n",
    "        'apr': '04', 'may': '05', 'jun': '06',\n",
    "        'jul': '07', 'aug': '08', 'sep': '09',\n",
    "        'oct': '10', 'nov': '11', 'dec': '12'}\n",
    "\n",
    "oldformat='oct-08_singapore.txt'\n",
    "oldformatreplaced=oldformat.replace('_','-')\n",
    "#print(oldformatreplaced)\n",
    "oldformatsplit=oldformatreplaced.split('-')\n",
    "#months[oldformatsplit[0]] - output the value corresponding to the key 'oct'\n",
    "newformat=oldformatreplaced.replace(oldformatsplit[0],months[oldformatsplit[0]])\n",
    "\n",
    "\n",
    "print(newformat)\n",
    "\n",
    "\n",
    "# is there a way to use a for loop instead?\n"
   ]
  },
  {
   "cell_type": "code",
   "execution_count": 222,
   "id": "b345703b",
   "metadata": {},
   "outputs": [
    {
     "data": {
      "text/plain": [
       "'07-10-cairo.txt'"
      ]
     },
     "execution_count": 222,
     "metadata": {},
     "output_type": "execute_result"
    }
   ],
   "source": [
    "def rename_my_file(old_file_name):\n",
    "    oldformat=old_file_name\n",
    "    # overwrites the previous definition of oldformat with a variable\n",
    "    oldformatreplaced=oldformat.replace('_','-')\n",
    "    oldformatsplit=oldformatreplaced.split('-')\n",
    "    newformat=oldformatreplaced.replace(oldformatsplit[0],months[oldformatsplit[0]])\n",
    "    return newformat\n",
    "\n",
    "rename_my_file('jul-10_cairo.txt')\n"
   ]
  },
  {
   "cell_type": "code",
   "execution_count": 223,
   "id": "bcbbcf3d",
   "metadata": {},
   "outputs": [
    {
     "data": {
      "text/plain": [
       "'10-08-singapore.txt'"
      ]
     },
     "execution_count": 223,
     "metadata": {},
     "output_type": "execute_result"
    }
   ],
   "source": [
    "newformat"
   ]
  },
  {
   "cell_type": "code",
   "execution_count": 225,
   "id": "e858bd5f",
   "metadata": {},
   "outputs": [
    {
     "name": "stdout",
     "output_type": "stream",
     "text": [
      "oct-08_singapore.txt ----> 10-08-singapore.txt\n",
      "jul-10_cairo.txt ----> 10-08-singapore.txt\n",
      "may-15_dhaka.txt ----> 10-08-singapore.txt\n",
      "may-13_cairo.txt ----> 10-08-singapore.txt\n",
      "oct-21_cairo.txt ----> 10-08-singapore.txt\n",
      "jan-10_singapore.txt ----> 10-08-singapore.txt\n",
      "jun-20_tokyo.txt ----> 10-08-singapore.txt\n",
      "aug-06_jakarta.txt ----> 10-08-singapore.txt\n",
      "dec-21_karachi.txt ----> 10-08-singapore.txt\n",
      "jan-01_tokyo.txt ----> 10-08-singapore.txt\n"
     ]
    }
   ],
   "source": [
    "files_to_rename=['oct-08_singapore.txt', 'jul-10_cairo.txt', 'may-15_dhaka.txt',\n",
    "                 'may-13_cairo.txt', 'oct-21_cairo.txt', 'jan-10_singapore.txt',\n",
    "                 'jun-20_tokyo.txt', 'aug-06_jakarta.txt', 'dec-21_karachi.txt',\n",
    "                 'jan-01_tokyo.txt']\n",
    "\n",
    "for i in files_to_rename:\n",
    "    rename_my_file(i)\n",
    "    print(f'{i} ----> {newformat}')\n",
    "\n",
    "# why does the previous one work but not this one, how to replace newformat"
   ]
  }
 ],
 "metadata": {
  "kernelspec": {
   "display_name": "Python 3 (ipykernel)",
   "language": "python",
   "name": "python3"
  },
  "language_info": {
   "codemirror_mode": {
    "name": "ipython",
    "version": 3
   },
   "file_extension": ".py",
   "mimetype": "text/x-python",
   "name": "python",
   "nbconvert_exporter": "python",
   "pygments_lexer": "ipython3",
   "version": "3.10.8"
  },
  "toc": {
   "base_numbering": 1,
   "nav_menu": {},
   "number_sections": true,
   "sideBar": true,
   "skip_h1_title": false,
   "title_cell": "Table of Contents",
   "title_sidebar": "Contents",
   "toc_cell": false,
   "toc_position": {},
   "toc_section_display": true,
   "toc_window_display": false
  },
  "varInspector": {
   "cols": {
    "lenName": 16,
    "lenType": 16,
    "lenVar": 40
   },
   "kernels_config": {
    "python": {
     "delete_cmd_postfix": "",
     "delete_cmd_prefix": "del ",
     "library": "var_list.py",
     "varRefreshCmd": "print(var_dic_list())"
    },
    "r": {
     "delete_cmd_postfix": ") ",
     "delete_cmd_prefix": "rm(",
     "library": "var_list.r",
     "varRefreshCmd": "cat(var_dic_list()) "
    }
   },
   "types_to_exclude": [
    "module",
    "function",
    "builtin_function_or_method",
    "instance",
    "_Feature"
   ],
   "window_display": false
  },
  "vscode": {
   "interpreter": {
    "hash": "31f2aee4e71d21fbe5cf8b01ff0e069b9275f58929596ceb00d14d90e3e16cd6"
   }
  }
 },
 "nbformat": 4,
 "nbformat_minor": 5
}
