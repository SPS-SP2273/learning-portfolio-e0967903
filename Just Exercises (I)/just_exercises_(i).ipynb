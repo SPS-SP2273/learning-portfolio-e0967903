{
 "cells": [
  {
   "cell_type": "markdown",
   "id": "123456",
   "metadata": {},
   "source": [
    "<div style=\"text-align:left;font-size:2em\"><span style=\"font-weight:bolder;font-size:1.25em\">SP2273 | Learning Portfolio</span><br><br><span style=\"font-weight:bold;color:darkred\">Just Exercises (I)</span></div>"
   ]
  },
  {
   "cell_type": "markdown",
   "id": "a98fc2c5",
   "metadata": {},
   "source": [
    "## Exercise 1 :  F-strings to the rescue"
   ]
  },
  {
   "cell_type": "code",
   "execution_count": 74,
   "id": "b6ff023a",
   "metadata": {
    "scrolled": true
   },
   "outputs": [
    {
     "name": "stdout",
     "output_type": "stream",
     "text": [
      "00001\n",
      "00002\n",
      "00003\n",
      "00004\n",
      "00005\n",
      "00006\n",
      "00007\n",
      "00008\n",
      "00009\n",
      "00010\n"
     ]
    }
   ],
   "source": [
    "for x in range(10):\n",
    "    x+1\n",
    "    print(f'{x+1:05}')"
   ]
  },
  {
   "cell_type": "code",
   "execution_count": 43,
   "id": "09991c75",
   "metadata": {
    "scrolled": true
   },
   "outputs": [
    {
     "name": "stdout",
     "output_type": "stream",
     "text": [
      "001          +\n",
      "002         ++\n",
      "003        +++\n",
      "004       ++++\n",
      "005      +++++\n",
      "006     ++++++\n",
      "007    +++++++\n",
      "008   ++++++++\n",
      "009  +++++++++\n",
      "010 ++++++++++\n"
     ]
    }
   ],
   "source": [
    "for x in range(10):\n",
    "    print(f\"{x+1:03}{'+'*(x+1):>11}\")"
   ]
  },
  {
   "cell_type": "code",
   "execution_count": 44,
   "id": "2eaa6c63",
   "metadata": {
    "scrolled": true
   },
   "outputs": [
    {
     "name": "stdout",
     "output_type": "stream",
     "text": [
      "001-+++++++++\n",
      "002--++++++++\n",
      "003---+++++++\n",
      "004----++++++\n",
      "005-----+++++\n",
      "006------++++\n",
      "007-------+++\n",
      "008--------++\n",
      "009---------+\n",
      "010----------\n"
     ]
    }
   ],
   "source": [
    "for x in range(10):\n",
    "    print(f\"{x+1:03}{'-'*(x+1):+<10}\")"
   ]
  },
  {
   "cell_type": "code",
   "execution_count": 34,
   "id": "f314261b",
   "metadata": {},
   "outputs": [
    {
     "name": "stdout",
     "output_type": "stream",
     "text": [
      "['bruce_exploits.txt', 'bruce_enemies.txt', 'bruce_friends.txt', 'natasha_exploits.txt', 'natasha_enemies.txt', 'natasha_friends.txt', 'tony_exploits.txt', 'tony_enemies.txt', 'tony_friends.txt']\n"
     ]
    }
   ],
   "source": [
    "names=['bruce','natasha','tony']\n",
    "status=['exploits','enemies','friends']\n",
    "x=[]\n",
    "\n",
    "for i in names:\n",
    "    for j in status:\n",
    "        x.append(f'{i}_{j}.txt')\n",
    "print(x)"
   ]
  },
  {
   "cell_type": "code",
   "execution_count": 1,
   "id": "e1365add",
   "metadata": {
    "scrolled": true
   },
   "outputs": [
    {
     "name": "stdout",
     "output_type": "stream",
     "text": [
      "data_sg_exp-01_trial-001.txt\n",
      "data_sg_exp-01_trial-002.txt\n",
      "data_sg_exp-01_trial-003.txt\n",
      "data_sg_exp-01_trial-004.txt\n",
      "data_sg_exp-01_trial-005.txt\n",
      "data_sg_exp-01_trial-006.txt\n",
      "data_sg_exp-01_trial-007.txt\n",
      "data_sg_exp-01_trial-008.txt\n",
      "data_sg_exp-01_trial-009.txt\n",
      "data_sg_exp-01_trial-0010.txt\n",
      "data_sg_exp-01_trial-0011.txt\n",
      "data_sg_exp-01_trial-0012.txt\n",
      "data_sg_exp-01_trial-0013.txt\n",
      "data_sg_exp-01_trial-0014.txt\n",
      "data_sg_exp-01_trial-0015.txt\n",
      "data_sg_exp-01_trial-0016.txt\n",
      "data_sg_exp-01_trial-0017.txt\n",
      "data_sg_exp-01_trial-0018.txt\n",
      "data_sg_exp-01_trial-0019.txt\n",
      "data_sg_exp-01_trial-0020.txt\n",
      "data_sg_exp-01_trial-0021.txt\n",
      "data_sg_exp-01_trial-0022.txt\n",
      "data_sg_exp-01_trial-0023.txt\n",
      "data_sg_exp-01_trial-0024.txt\n",
      "data_sg_exp-01_trial-0025.txt\n",
      "data_sg_exp-01_trial-0026.txt\n",
      "data_sg_exp-01_trial-0027.txt\n",
      "data_sg_exp-01_trial-0028.txt\n",
      "data_sg_exp-01_trial-0029.txt\n",
      "data_sg_exp-01_trial-0030.txt\n",
      "data_sg_exp-01_trial-0031.txt\n",
      "data_sg_exp-01_trial-0032.txt\n",
      "data_sg_exp-01_trial-0033.txt\n",
      "data_sg_exp-01_trial-0034.txt\n",
      "data_sg_exp-01_trial-0035.txt\n",
      "data_sg_exp-01_trial-0036.txt\n",
      "data_sg_exp-01_trial-0037.txt\n",
      "data_sg_exp-01_trial-0038.txt\n",
      "data_sg_exp-01_trial-0039.txt\n",
      "data_sg_exp-01_trial-0040.txt\n",
      "data_sg_exp-01_trial-0041.txt\n",
      "data_sg_exp-01_trial-0042.txt\n",
      "data_sg_exp-01_trial-0043.txt\n",
      "data_sg_exp-01_trial-0044.txt\n",
      "data_sg_exp-01_trial-0045.txt\n",
      "data_sg_exp-01_trial-0046.txt\n",
      "data_sg_exp-01_trial-0047.txt\n",
      "data_sg_exp-01_trial-0048.txt\n",
      "data_sg_exp-01_trial-0049.txt\n",
      "data_sg_exp-01_trial-0050.txt\n",
      "data_sg_exp-02_trial-001.txt\n",
      "data_sg_exp-02_trial-002.txt\n",
      "data_sg_exp-02_trial-003.txt\n",
      "data_sg_exp-02_trial-004.txt\n",
      "data_sg_exp-02_trial-005.txt\n",
      "data_sg_exp-02_trial-006.txt\n",
      "data_sg_exp-02_trial-007.txt\n",
      "data_sg_exp-02_trial-008.txt\n",
      "data_sg_exp-02_trial-009.txt\n",
      "data_sg_exp-02_trial-0010.txt\n",
      "data_sg_exp-02_trial-0011.txt\n",
      "data_sg_exp-02_trial-0012.txt\n",
      "data_sg_exp-02_trial-0013.txt\n",
      "data_sg_exp-02_trial-0014.txt\n",
      "data_sg_exp-02_trial-0015.txt\n",
      "data_sg_exp-02_trial-0016.txt\n",
      "data_sg_exp-02_trial-0017.txt\n",
      "data_sg_exp-02_trial-0018.txt\n",
      "data_sg_exp-02_trial-0019.txt\n",
      "data_sg_exp-02_trial-0020.txt\n",
      "data_sg_exp-02_trial-0021.txt\n",
      "data_sg_exp-02_trial-0022.txt\n",
      "data_sg_exp-02_trial-0023.txt\n",
      "data_sg_exp-02_trial-0024.txt\n",
      "data_sg_exp-02_trial-0025.txt\n",
      "data_sg_exp-02_trial-0026.txt\n",
      "data_sg_exp-02_trial-0027.txt\n",
      "data_sg_exp-02_trial-0028.txt\n",
      "data_sg_exp-02_trial-0029.txt\n",
      "data_sg_exp-02_trial-0030.txt\n",
      "data_sg_exp-02_trial-0031.txt\n",
      "data_sg_exp-02_trial-0032.txt\n",
      "data_sg_exp-02_trial-0033.txt\n",
      "data_sg_exp-02_trial-0034.txt\n",
      "data_sg_exp-02_trial-0035.txt\n",
      "data_sg_exp-02_trial-0036.txt\n",
      "data_sg_exp-02_trial-0037.txt\n",
      "data_sg_exp-02_trial-0038.txt\n",
      "data_sg_exp-02_trial-0039.txt\n",
      "data_sg_exp-02_trial-0040.txt\n",
      "data_sg_exp-02_trial-0041.txt\n",
      "data_sg_exp-02_trial-0042.txt\n",
      "data_sg_exp-02_trial-0043.txt\n",
      "data_sg_exp-02_trial-0044.txt\n",
      "data_sg_exp-02_trial-0045.txt\n",
      "data_sg_exp-02_trial-0046.txt\n",
      "data_sg_exp-02_trial-0047.txt\n",
      "data_sg_exp-02_trial-0048.txt\n",
      "data_sg_exp-02_trial-0049.txt\n",
      "data_sg_exp-02_trial-0050.txt\n",
      "data_sg_exp-03_trial-001.txt\n",
      "data_sg_exp-03_trial-002.txt\n",
      "data_sg_exp-03_trial-003.txt\n",
      "data_sg_exp-03_trial-004.txt\n",
      "data_sg_exp-03_trial-005.txt\n",
      "data_sg_exp-03_trial-006.txt\n",
      "data_sg_exp-03_trial-007.txt\n",
      "data_sg_exp-03_trial-008.txt\n",
      "data_sg_exp-03_trial-009.txt\n",
      "data_sg_exp-03_trial-0010.txt\n",
      "data_sg_exp-03_trial-0011.txt\n",
      "data_sg_exp-03_trial-0012.txt\n",
      "data_sg_exp-03_trial-0013.txt\n",
      "data_sg_exp-03_trial-0014.txt\n",
      "data_sg_exp-03_trial-0015.txt\n",
      "data_sg_exp-03_trial-0016.txt\n",
      "data_sg_exp-03_trial-0017.txt\n",
      "data_sg_exp-03_trial-0018.txt\n",
      "data_sg_exp-03_trial-0019.txt\n",
      "data_sg_exp-03_trial-0020.txt\n",
      "data_sg_exp-03_trial-0021.txt\n",
      "data_sg_exp-03_trial-0022.txt\n",
      "data_sg_exp-03_trial-0023.txt\n",
      "data_sg_exp-03_trial-0024.txt\n",
      "data_sg_exp-03_trial-0025.txt\n",
      "data_sg_exp-03_trial-0026.txt\n",
      "data_sg_exp-03_trial-0027.txt\n",
      "data_sg_exp-03_trial-0028.txt\n",
      "data_sg_exp-03_trial-0029.txt\n",
      "data_sg_exp-03_trial-0030.txt\n",
      "data_sg_exp-03_trial-0031.txt\n",
      "data_sg_exp-03_trial-0032.txt\n",
      "data_sg_exp-03_trial-0033.txt\n",
      "data_sg_exp-03_trial-0034.txt\n",
      "data_sg_exp-03_trial-0035.txt\n",
      "data_sg_exp-03_trial-0036.txt\n",
      "data_sg_exp-03_trial-0037.txt\n",
      "data_sg_exp-03_trial-0038.txt\n",
      "data_sg_exp-03_trial-0039.txt\n",
      "data_sg_exp-03_trial-0040.txt\n",
      "data_sg_exp-03_trial-0041.txt\n",
      "data_sg_exp-03_trial-0042.txt\n",
      "data_sg_exp-03_trial-0043.txt\n",
      "data_sg_exp-03_trial-0044.txt\n",
      "data_sg_exp-03_trial-0045.txt\n",
      "data_sg_exp-03_trial-0046.txt\n",
      "data_sg_exp-03_trial-0047.txt\n",
      "data_sg_exp-03_trial-0048.txt\n",
      "data_sg_exp-03_trial-0049.txt\n",
      "data_sg_exp-03_trial-0050.txt\n",
      "data_gb_exp-01_trial-001.txt\n",
      "data_gb_exp-01_trial-002.txt\n",
      "data_gb_exp-01_trial-003.txt\n",
      "data_gb_exp-01_trial-004.txt\n",
      "data_gb_exp-01_trial-005.txt\n",
      "data_gb_exp-01_trial-006.txt\n",
      "data_gb_exp-01_trial-007.txt\n",
      "data_gb_exp-01_trial-008.txt\n",
      "data_gb_exp-01_trial-009.txt\n",
      "data_gb_exp-01_trial-0010.txt\n",
      "data_gb_exp-01_trial-0011.txt\n",
      "data_gb_exp-01_trial-0012.txt\n",
      "data_gb_exp-01_trial-0013.txt\n",
      "data_gb_exp-01_trial-0014.txt\n",
      "data_gb_exp-01_trial-0015.txt\n",
      "data_gb_exp-01_trial-0016.txt\n",
      "data_gb_exp-01_trial-0017.txt\n",
      "data_gb_exp-01_trial-0018.txt\n",
      "data_gb_exp-01_trial-0019.txt\n",
      "data_gb_exp-01_trial-0020.txt\n",
      "data_gb_exp-01_trial-0021.txt\n",
      "data_gb_exp-01_trial-0022.txt\n",
      "data_gb_exp-01_trial-0023.txt\n",
      "data_gb_exp-01_trial-0024.txt\n",
      "data_gb_exp-01_trial-0025.txt\n",
      "data_gb_exp-01_trial-0026.txt\n",
      "data_gb_exp-01_trial-0027.txt\n",
      "data_gb_exp-01_trial-0028.txt\n",
      "data_gb_exp-01_trial-0029.txt\n",
      "data_gb_exp-01_trial-0030.txt\n",
      "data_gb_exp-01_trial-0031.txt\n",
      "data_gb_exp-01_trial-0032.txt\n",
      "data_gb_exp-01_trial-0033.txt\n",
      "data_gb_exp-01_trial-0034.txt\n",
      "data_gb_exp-01_trial-0035.txt\n",
      "data_gb_exp-01_trial-0036.txt\n",
      "data_gb_exp-01_trial-0037.txt\n",
      "data_gb_exp-01_trial-0038.txt\n",
      "data_gb_exp-01_trial-0039.txt\n",
      "data_gb_exp-01_trial-0040.txt\n",
      "data_gb_exp-01_trial-0041.txt\n",
      "data_gb_exp-01_trial-0042.txt\n",
      "data_gb_exp-01_trial-0043.txt\n",
      "data_gb_exp-01_trial-0044.txt\n",
      "data_gb_exp-01_trial-0045.txt\n",
      "data_gb_exp-01_trial-0046.txt\n",
      "data_gb_exp-01_trial-0047.txt\n",
      "data_gb_exp-01_trial-0048.txt\n",
      "data_gb_exp-01_trial-0049.txt\n",
      "data_gb_exp-01_trial-0050.txt\n",
      "data_gb_exp-02_trial-001.txt\n",
      "data_gb_exp-02_trial-002.txt\n",
      "data_gb_exp-02_trial-003.txt\n",
      "data_gb_exp-02_trial-004.txt\n",
      "data_gb_exp-02_trial-005.txt\n",
      "data_gb_exp-02_trial-006.txt\n",
      "data_gb_exp-02_trial-007.txt\n",
      "data_gb_exp-02_trial-008.txt\n",
      "data_gb_exp-02_trial-009.txt\n",
      "data_gb_exp-02_trial-0010.txt\n",
      "data_gb_exp-02_trial-0011.txt\n",
      "data_gb_exp-02_trial-0012.txt\n",
      "data_gb_exp-02_trial-0013.txt\n",
      "data_gb_exp-02_trial-0014.txt\n",
      "data_gb_exp-02_trial-0015.txt\n",
      "data_gb_exp-02_trial-0016.txt\n",
      "data_gb_exp-02_trial-0017.txt\n",
      "data_gb_exp-02_trial-0018.txt\n",
      "data_gb_exp-02_trial-0019.txt\n",
      "data_gb_exp-02_trial-0020.txt\n",
      "data_gb_exp-02_trial-0021.txt\n",
      "data_gb_exp-02_trial-0022.txt\n",
      "data_gb_exp-02_trial-0023.txt\n",
      "data_gb_exp-02_trial-0024.txt\n",
      "data_gb_exp-02_trial-0025.txt\n",
      "data_gb_exp-02_trial-0026.txt\n",
      "data_gb_exp-02_trial-0027.txt\n",
      "data_gb_exp-02_trial-0028.txt\n",
      "data_gb_exp-02_trial-0029.txt\n",
      "data_gb_exp-02_trial-0030.txt\n",
      "data_gb_exp-02_trial-0031.txt\n",
      "data_gb_exp-02_trial-0032.txt\n",
      "data_gb_exp-02_trial-0033.txt\n",
      "data_gb_exp-02_trial-0034.txt\n",
      "data_gb_exp-02_trial-0035.txt\n",
      "data_gb_exp-02_trial-0036.txt\n",
      "data_gb_exp-02_trial-0037.txt\n",
      "data_gb_exp-02_trial-0038.txt\n",
      "data_gb_exp-02_trial-0039.txt\n",
      "data_gb_exp-02_trial-0040.txt\n",
      "data_gb_exp-02_trial-0041.txt\n",
      "data_gb_exp-02_trial-0042.txt\n",
      "data_gb_exp-02_trial-0043.txt\n",
      "data_gb_exp-02_trial-0044.txt\n",
      "data_gb_exp-02_trial-0045.txt\n",
      "data_gb_exp-02_trial-0046.txt\n",
      "data_gb_exp-02_trial-0047.txt\n",
      "data_gb_exp-02_trial-0048.txt\n",
      "data_gb_exp-02_trial-0049.txt\n",
      "data_gb_exp-02_trial-0050.txt\n",
      "data_gb_exp-03_trial-001.txt\n",
      "data_gb_exp-03_trial-002.txt\n",
      "data_gb_exp-03_trial-003.txt\n",
      "data_gb_exp-03_trial-004.txt\n",
      "data_gb_exp-03_trial-005.txt\n",
      "data_gb_exp-03_trial-006.txt\n",
      "data_gb_exp-03_trial-007.txt\n",
      "data_gb_exp-03_trial-008.txt\n",
      "data_gb_exp-03_trial-009.txt\n",
      "data_gb_exp-03_trial-0010.txt\n",
      "data_gb_exp-03_trial-0011.txt\n",
      "data_gb_exp-03_trial-0012.txt\n",
      "data_gb_exp-03_trial-0013.txt\n",
      "data_gb_exp-03_trial-0014.txt\n",
      "data_gb_exp-03_trial-0015.txt\n",
      "data_gb_exp-03_trial-0016.txt\n",
      "data_gb_exp-03_trial-0017.txt\n",
      "data_gb_exp-03_trial-0018.txt\n",
      "data_gb_exp-03_trial-0019.txt\n",
      "data_gb_exp-03_trial-0020.txt\n",
      "data_gb_exp-03_trial-0021.txt\n",
      "data_gb_exp-03_trial-0022.txt\n",
      "data_gb_exp-03_trial-0023.txt\n",
      "data_gb_exp-03_trial-0024.txt\n",
      "data_gb_exp-03_trial-0025.txt\n",
      "data_gb_exp-03_trial-0026.txt\n",
      "data_gb_exp-03_trial-0027.txt\n",
      "data_gb_exp-03_trial-0028.txt\n",
      "data_gb_exp-03_trial-0029.txt\n",
      "data_gb_exp-03_trial-0030.txt\n",
      "data_gb_exp-03_trial-0031.txt\n",
      "data_gb_exp-03_trial-0032.txt\n",
      "data_gb_exp-03_trial-0033.txt\n",
      "data_gb_exp-03_trial-0034.txt\n",
      "data_gb_exp-03_trial-0035.txt\n",
      "data_gb_exp-03_trial-0036.txt\n",
      "data_gb_exp-03_trial-0037.txt\n",
      "data_gb_exp-03_trial-0038.txt\n",
      "data_gb_exp-03_trial-0039.txt\n",
      "data_gb_exp-03_trial-0040.txt\n",
      "data_gb_exp-03_trial-0041.txt\n",
      "data_gb_exp-03_trial-0042.txt\n",
      "data_gb_exp-03_trial-0043.txt\n",
      "data_gb_exp-03_trial-0044.txt\n",
      "data_gb_exp-03_trial-0045.txt\n",
      "data_gb_exp-03_trial-0046.txt\n",
      "data_gb_exp-03_trial-0047.txt\n",
      "data_gb_exp-03_trial-0048.txt\n",
      "data_gb_exp-03_trial-0049.txt\n",
      "data_gb_exp-03_trial-0050.txt\n",
      "data_us_exp-01_trial-001.txt\n",
      "data_us_exp-01_trial-002.txt\n",
      "data_us_exp-01_trial-003.txt\n",
      "data_us_exp-01_trial-004.txt\n",
      "data_us_exp-01_trial-005.txt\n",
      "data_us_exp-01_trial-006.txt\n",
      "data_us_exp-01_trial-007.txt\n",
      "data_us_exp-01_trial-008.txt\n",
      "data_us_exp-01_trial-009.txt\n",
      "data_us_exp-01_trial-0010.txt\n",
      "data_us_exp-01_trial-0011.txt\n",
      "data_us_exp-01_trial-0012.txt\n",
      "data_us_exp-01_trial-0013.txt\n",
      "data_us_exp-01_trial-0014.txt\n",
      "data_us_exp-01_trial-0015.txt\n",
      "data_us_exp-01_trial-0016.txt\n",
      "data_us_exp-01_trial-0017.txt\n",
      "data_us_exp-01_trial-0018.txt\n",
      "data_us_exp-01_trial-0019.txt\n",
      "data_us_exp-01_trial-0020.txt\n",
      "data_us_exp-01_trial-0021.txt\n",
      "data_us_exp-01_trial-0022.txt\n",
      "data_us_exp-01_trial-0023.txt\n",
      "data_us_exp-01_trial-0024.txt\n",
      "data_us_exp-01_trial-0025.txt\n",
      "data_us_exp-01_trial-0026.txt\n",
      "data_us_exp-01_trial-0027.txt\n",
      "data_us_exp-01_trial-0028.txt\n",
      "data_us_exp-01_trial-0029.txt\n",
      "data_us_exp-01_trial-0030.txt\n",
      "data_us_exp-01_trial-0031.txt\n",
      "data_us_exp-01_trial-0032.txt\n",
      "data_us_exp-01_trial-0033.txt\n",
      "data_us_exp-01_trial-0034.txt\n",
      "data_us_exp-01_trial-0035.txt\n",
      "data_us_exp-01_trial-0036.txt\n",
      "data_us_exp-01_trial-0037.txt\n",
      "data_us_exp-01_trial-0038.txt\n",
      "data_us_exp-01_trial-0039.txt\n",
      "data_us_exp-01_trial-0040.txt\n",
      "data_us_exp-01_trial-0041.txt\n",
      "data_us_exp-01_trial-0042.txt\n",
      "data_us_exp-01_trial-0043.txt\n",
      "data_us_exp-01_trial-0044.txt\n",
      "data_us_exp-01_trial-0045.txt\n",
      "data_us_exp-01_trial-0046.txt\n",
      "data_us_exp-01_trial-0047.txt\n",
      "data_us_exp-01_trial-0048.txt\n",
      "data_us_exp-01_trial-0049.txt\n",
      "data_us_exp-01_trial-0050.txt\n",
      "data_us_exp-02_trial-001.txt\n",
      "data_us_exp-02_trial-002.txt\n",
      "data_us_exp-02_trial-003.txt\n",
      "data_us_exp-02_trial-004.txt\n",
      "data_us_exp-02_trial-005.txt\n",
      "data_us_exp-02_trial-006.txt\n",
      "data_us_exp-02_trial-007.txt\n",
      "data_us_exp-02_trial-008.txt\n",
      "data_us_exp-02_trial-009.txt\n",
      "data_us_exp-02_trial-0010.txt\n",
      "data_us_exp-02_trial-0011.txt\n",
      "data_us_exp-02_trial-0012.txt\n",
      "data_us_exp-02_trial-0013.txt\n",
      "data_us_exp-02_trial-0014.txt\n",
      "data_us_exp-02_trial-0015.txt\n",
      "data_us_exp-02_trial-0016.txt\n",
      "data_us_exp-02_trial-0017.txt\n",
      "data_us_exp-02_trial-0018.txt\n",
      "data_us_exp-02_trial-0019.txt\n",
      "data_us_exp-02_trial-0020.txt\n",
      "data_us_exp-02_trial-0021.txt\n",
      "data_us_exp-02_trial-0022.txt\n",
      "data_us_exp-02_trial-0023.txt\n",
      "data_us_exp-02_trial-0024.txt\n",
      "data_us_exp-02_trial-0025.txt\n",
      "data_us_exp-02_trial-0026.txt\n",
      "data_us_exp-02_trial-0027.txt\n",
      "data_us_exp-02_trial-0028.txt\n",
      "data_us_exp-02_trial-0029.txt\n",
      "data_us_exp-02_trial-0030.txt\n",
      "data_us_exp-02_trial-0031.txt\n",
      "data_us_exp-02_trial-0032.txt\n",
      "data_us_exp-02_trial-0033.txt\n",
      "data_us_exp-02_trial-0034.txt\n",
      "data_us_exp-02_trial-0035.txt\n",
      "data_us_exp-02_trial-0036.txt\n",
      "data_us_exp-02_trial-0037.txt\n",
      "data_us_exp-02_trial-0038.txt\n",
      "data_us_exp-02_trial-0039.txt\n",
      "data_us_exp-02_trial-0040.txt\n",
      "data_us_exp-02_trial-0041.txt\n",
      "data_us_exp-02_trial-0042.txt\n",
      "data_us_exp-02_trial-0043.txt\n",
      "data_us_exp-02_trial-0044.txt\n",
      "data_us_exp-02_trial-0045.txt\n",
      "data_us_exp-02_trial-0046.txt\n",
      "data_us_exp-02_trial-0047.txt\n",
      "data_us_exp-02_trial-0048.txt\n",
      "data_us_exp-02_trial-0049.txt\n",
      "data_us_exp-02_trial-0050.txt\n",
      "data_us_exp-03_trial-001.txt\n",
      "data_us_exp-03_trial-002.txt\n",
      "data_us_exp-03_trial-003.txt\n",
      "data_us_exp-03_trial-004.txt\n",
      "data_us_exp-03_trial-005.txt\n",
      "data_us_exp-03_trial-006.txt\n",
      "data_us_exp-03_trial-007.txt\n",
      "data_us_exp-03_trial-008.txt\n",
      "data_us_exp-03_trial-009.txt\n",
      "data_us_exp-03_trial-0010.txt\n",
      "data_us_exp-03_trial-0011.txt\n",
      "data_us_exp-03_trial-0012.txt\n",
      "data_us_exp-03_trial-0013.txt\n",
      "data_us_exp-03_trial-0014.txt\n",
      "data_us_exp-03_trial-0015.txt\n",
      "data_us_exp-03_trial-0016.txt\n",
      "data_us_exp-03_trial-0017.txt\n",
      "data_us_exp-03_trial-0018.txt\n",
      "data_us_exp-03_trial-0019.txt\n",
      "data_us_exp-03_trial-0020.txt\n",
      "data_us_exp-03_trial-0021.txt\n",
      "data_us_exp-03_trial-0022.txt\n",
      "data_us_exp-03_trial-0023.txt\n",
      "data_us_exp-03_trial-0024.txt\n",
      "data_us_exp-03_trial-0025.txt\n",
      "data_us_exp-03_trial-0026.txt\n",
      "data_us_exp-03_trial-0027.txt\n",
      "data_us_exp-03_trial-0028.txt\n",
      "data_us_exp-03_trial-0029.txt\n",
      "data_us_exp-03_trial-0030.txt\n",
      "data_us_exp-03_trial-0031.txt\n",
      "data_us_exp-03_trial-0032.txt\n",
      "data_us_exp-03_trial-0033.txt\n",
      "data_us_exp-03_trial-0034.txt\n",
      "data_us_exp-03_trial-0035.txt\n",
      "data_us_exp-03_trial-0036.txt\n",
      "data_us_exp-03_trial-0037.txt\n",
      "data_us_exp-03_trial-0038.txt\n",
      "data_us_exp-03_trial-0039.txt\n",
      "data_us_exp-03_trial-0040.txt\n",
      "data_us_exp-03_trial-0041.txt\n",
      "data_us_exp-03_trial-0042.txt\n",
      "data_us_exp-03_trial-0043.txt\n",
      "data_us_exp-03_trial-0044.txt\n",
      "data_us_exp-03_trial-0045.txt\n",
      "data_us_exp-03_trial-0046.txt\n",
      "data_us_exp-03_trial-0047.txt\n",
      "data_us_exp-03_trial-0048.txt\n",
      "data_us_exp-03_trial-0049.txt\n",
      "data_us_exp-03_trial-0050.txt\n"
     ]
    }
   ],
   "source": [
    "names=['sg','gb','us']\n",
    "experiments=['exp-01','exp-02','exp-03']\n",
    "y=[]\n",
    "for i in names:\n",
    "    for j in experiments:\n",
    "        for k in range(1,51):\n",
    "            y.append(f'data_{i}_{j}_trial-00{k}.txt')\n",
    "print(*y,sep='\\n')\n",
    "\n",
    "# is there a way to print one element per line to make it easier to read (as per the given output in the question)"
   ]
  },
  {
   "cell_type": "markdown",
   "id": "9ae44fa5",
   "metadata": {},
   "source": [
    "## Exercise 2 :  Tutti frutti"
   ]
  },
  {
   "cell_type": "code",
   "execution_count": 4,
   "id": "42fd9fde",
   "metadata": {},
   "outputs": [
    {
     "name": "stdout",
     "output_type": "stream",
     "text": [
      "True\n",
      "True\n"
     ]
    }
   ],
   "source": [
    "fruits=np.array([\"apple\", \"banana\", \"pineapple\", \"jackfruit\",\n",
    "        \"peach\", \"durian\", \"watermelon\", \"mango\",\n",
    "        \"strawberry\", \"passionfruit\"])\n",
    "\n",
    "print('mango' in fruits)\n",
    "print((fruits==\"mango\").any())\n",
    "# Yes, mango is included in the list"
   ]
  },
  {
   "cell_type": "code",
   "execution_count": 52,
   "id": "a74d3964",
   "metadata": {
    "scrolled": true
   },
   "outputs": [
    {
     "name": "stdout",
     "output_type": "stream",
     "text": [
      "a e\n",
      "b a\n",
      "p e\n",
      "j t\n",
      "p h\n",
      "d n\n",
      "w n\n",
      "m o\n",
      "s y\n",
      "p t\n"
     ]
    }
   ],
   "source": [
    "fruits=[\"apple\", \"banana\", \"pineapple\", \"jackfruit\",\n",
    "        \"peach\", \"durian\", \"watermelon\", \"mango\",\n",
    "        \"strawberry\", \"passionfruit\"]\n",
    "\n",
    "for i in fruits:\n",
    "    print(i[0],i[-1])"
   ]
  },
  {
   "cell_type": "code",
   "execution_count": 1,
   "id": "e5aabdba",
   "metadata": {
    "scrolled": true
   },
   "outputs": [
    {
     "name": "stdout",
     "output_type": "stream",
     "text": [
      "apple\n",
      "banana\n",
      "PINEAPPLE\n",
      "jackfruit\n",
      "PEACH\n",
      "durian\n",
      "watermelon\n",
      "mango\n",
      "strawberry\n",
      "PASSIONFRUIT\n"
     ]
    }
   ],
   "source": [
    "fruits=[\"apple\", \"banana\", \"pineapple\", \"jackfruit\",\n",
    "        \"peach\", \"durian\", \"watermelon\", \"mango\",\n",
    "        \"strawberry\", \"passionfruit\"]\n",
    "\n",
    "for i in fruits:\n",
    "    if i[0]=='p':\n",
    "        print(i.upper())\n",
    "    else:\n",
    "        print(i) "
   ]
  },
  {
   "cell_type": "code",
   "execution_count": 2,
   "id": "fed3d74f",
   "metadata": {
    "scrolled": true
   },
   "outputs": [
    {
     "data": {
      "text/plain": [
       "['apple',\n",
       " 'banana',\n",
       " 'pineapple',\n",
       " 'jackfruit',\n",
       " 'peach',\n",
       " 'durian',\n",
       " 'watermelon',\n",
       " 'mango',\n",
       " 'strawberry',\n",
       " 'passionfruit',\n",
       " 'dragon fruit',\n",
       " 'apricots',\n",
       " 'oranges']"
      ]
     },
     "execution_count": 2,
     "metadata": {},
     "output_type": "execute_result"
    }
   ],
   "source": [
    "fruits_append=fruits+['dragon fruit','apricots','oranges']\n",
    "fruits_append"
   ]
  },
  {
   "cell_type": "code",
   "execution_count": 2,
   "id": "1c47df56",
   "metadata": {
    "scrolled": true
   },
   "outputs": [
    {
     "data": {
      "text/plain": [
       "['dragon fruit',\n",
       " 'apricots',\n",
       " 'oranges',\n",
       " 'apple',\n",
       " 'banana',\n",
       " 'pineapple',\n",
       " 'jackfruit',\n",
       " 'peach',\n",
       " 'durian',\n",
       " 'watermelon',\n",
       " 'mango',\n",
       " 'strawberry',\n",
       " 'passionfruit']"
      ]
     },
     "execution_count": 2,
     "metadata": {},
     "output_type": "execute_result"
    }
   ],
   "source": [
    "fruits_prepend=['dragon fruit','apricots','oranges']+fruits\n",
    "fruits_prepend"
   ]
  },
  {
   "cell_type": "code",
   "execution_count": 2,
   "id": "ad4f2fc5",
   "metadata": {
    "scrolled": true
   },
   "outputs": [
    {
     "name": "stdout",
     "output_type": "stream",
     "text": [
      "['apple', 'banana', 'pineapple', 'jackfruit', 'peach', 'dragon fruit', 'apricots', 'oranges', 'durian', 'watermelon', 'mango', 'strawberry', 'passionfruit']\n"
     ]
    }
   ],
   "source": [
    "fruits.insert(5,'dragon fruit')\n",
    "fruits.insert(6, 'apricots')\n",
    "fruits.insert(7,'oranges')\n",
    "print(fruits)"
   ]
  },
  {
   "cell_type": "code",
   "execution_count": 13,
   "id": "c031dea4",
   "metadata": {},
   "outputs": [
    {
     "data": {
      "text/plain": [
       "['pineapple',\n",
       " 'jackfruit',\n",
       " 'dragon fruit',\n",
       " 'watermelon',\n",
       " 'strawberry',\n",
       " 'passionfruit']"
      ]
     },
     "execution_count": 13,
     "metadata": {},
     "output_type": "execute_result"
    }
   ],
   "source": [
    "eightlist=[x for x in fruits if len(x)>8]\n",
    "eightlist"
   ]
  },
  {
   "cell_type": "markdown",
   "id": "13e27b27",
   "metadata": {},
   "source": [
    "## Exercise 3 :  Ciao Fibonacci"
   ]
  },
  {
   "cell_type": "code",
   "execution_count": 81,
   "id": "d42a0bfa",
   "metadata": {},
   "outputs": [
    {
     "name": "stdout",
     "output_type": "stream",
     "text": [
      "[0, 1, 1, 2, 3, 5, 8, 13, 21, 34, 55, 89, 144, 233, 377]\n"
     ]
    }
   ],
   "source": [
    "fibonnaci=[0,1]\n",
    "\n",
    "for n in range(13):\n",
    "    fibonnaci.append(fibonnaci[-1]+fibonnaci[-2])\n",
    "print(fibonnaci)"
   ]
  },
  {
   "cell_type": "markdown",
   "id": "f1612c57",
   "metadata": {},
   "source": [
    "## Exercise 4 :  A function for Fibonacci"
   ]
  },
  {
   "cell_type": "code",
   "execution_count": 18,
   "id": "bfeafe52",
   "metadata": {},
   "outputs": [
    {
     "data": {
      "text/plain": [
       "[0, 1, 1, 2, 3, 5, 8, 13, 21, 34]"
      ]
     },
     "execution_count": 18,
     "metadata": {},
     "output_type": "execute_result"
    }
   ],
   "source": [
    "fib_list=[0, 1]\n",
    "def fibonnaci(n):\n",
    "    if n<=0:\n",
    "        return 'no'\n",
    "    elif n==1:\n",
    "        return [0]\n",
    "        # the first number is already given to start with\n",
    "    elif n==2:\n",
    "        return fib_list\n",
    "        # because the first 2 numbers are already given in the list\n",
    "    else:\n",
    "        for i in range(n-2):\n",
    "            fib_list.append(fib_list[-1]+fib_list[-2])\n",
    "        return fib_list\n",
    "        # for fibonnaci(n) to return the correct number of numbers, must account for the fact that the first 2 numbers are already in the list\n",
    "        \n",
    "fibonnaci(10)\n",
    "# print first 10 numbers of the sequence, including 0 and 1"
   ]
  },
  {
   "cell_type": "markdown",
   "id": "1faff5a5",
   "metadata": {},
   "source": [
    "## Exercise 5 :  max_info() without NumPy"
   ]
  },
  {
   "cell_type": "code",
   "execution_count": 104,
   "id": "7d1e85cb",
   "metadata": {
    "code_folding": []
   },
   "outputs": [
    {
     "name": "stdout",
     "output_type": "stream",
     "text": [
      "83 2\n"
     ]
    }
   ],
   "source": [
    "numbers=[40,27,83,44,74,51,76,77,10,49]\n",
    "def max_info(numbers):\n",
    "    my_max=0\n",
    "    my_max_index=0\n",
    "    for i,j in enumerate(numbers):\n",
    "        if j>my_max:\n",
    "            my_max=j\n",
    "            my_max_index=i\n",
    "    print(my_max,my_max_index)\n",
    "max_info(numbers)\n",
    "# previously made an error of nesting 'for j in numbers' under enumerate\n",
    "# enumerate already pairs the corresponding index and number into tuples\n",
    "# the extra for loop undos the pairing, leading to index not increasing beyond 0 because j=1 is already larger than my_max\n",
    "# draw out a 'universe tree' to visualise how the for loop runs to understand it better"
   ]
  },
  {
   "cell_type": "code",
   "execution_count": 58,
   "id": "1b9f80f6",
   "metadata": {},
   "outputs": [
    {
     "data": {
      "text/plain": [
       "[(0, 40),\n",
       " (1, 27),\n",
       " (2, 83),\n",
       " (3, 44),\n",
       " (4, 74),\n",
       " (5, 51),\n",
       " (6, 76),\n",
       " (7, 77),\n",
       " (8, 10),\n",
       " (9, 49)]"
      ]
     },
     "execution_count": 58,
     "metadata": {},
     "output_type": "execute_result"
    }
   ],
   "source": [
    "list(enumerate(numbers))"
   ]
  },
  {
   "cell_type": "markdown",
   "id": "45ea10ea",
   "metadata": {},
   "source": [
    "## Exercise 6 :  Take count"
   ]
  },
  {
   "cell_type": "code",
   "execution_count": 8,
   "id": "f4a88240",
   "metadata": {},
   "outputs": [
    {
     "name": "stdout",
     "output_type": "stream",
     "text": [
      "['A', 'A', 'A', 'A', 'A', 'A', 'A', 'A', 'A', 'A', 'A', 'A', 'A', 'A', 'A', 'A', 'A', 'A', 'A', 'A', 'A', 'A', 'A', 'A', 'A', 'A', 'A', 'A', 'A', 'A', 'A', 'A', 'A', 'A', 'A', 'A', 'A', 'A', 'A', 'A', 'A', 'A', 'A', 'A', 'A', 'A', 'A', 'A', 'A', 'A', 'A', 'A', 'A', 'A', 'A', 'A', 'A', 'A', 'A', 'A', 'A', 'A', 'A', 'A', 'A', 'A', 'A', 'A', 'A', 'A', 'A', 'A', 'A', 'A', 'A', 'A', 'A', 'A', 'A', 'A', 'A', 'A', 'A', 'A', 'A', 'A', 'A', 'A', 'A', 'A', 'A', 'A', 'A', 'A', 'A', 'A', 'A', 'A', 'A', 'A', 'A', 'A', 'A', 'A', 'A', 'A', 'A', 'A', 'A', 'A', 'A', 'A', 'A', 'A', 'A', 'A', 'A', 'A', 'A', 'A', 'A', 'A', 'A', 'A', 'A', 'A', 'A', 'A', 'A', 'A', 'A', 'A', 'A', 'A', 'A', 'A', 'A', 'A', 'A', 'A', 'A', 'A', 'A', 'A', 'A', 'A', 'A', 'A', 'A', 'A', 'A', 'A', 'A', 'A', 'A', 'A', 'A', 'A', 'A', 'A', 'A', 'A', 'A', 'A', 'A', 'A', 'A', 'A', 'A', 'A', 'A', 'A', 'A', 'A', 'A', 'A', 'A', 'A', 'A', 'A', 'A', 'A', 'A', 'A', 'A', 'A', 'A', 'A', 'A', 'A', 'A', 'A', 'A', 'A', 'A', 'A', 'A', 'A', 'A', 'A', 'A', 'A', 'A', 'A', 'A', 'A', 'A', 'A', 'A', 'A', 'A', 'A', 'A', 'A', 'A', 'A', 'A', 'A', 'A', 'A', 'A', 'A', 'A', 'A', 'A', 'A', 'A', 'A', 'A', 'A', 'A', 'A', 'A', 'A', 'A', 'A', 'A', 'A', 'A', 'A', 'A', 'A', 'A', 'A', 'A', 'A', 'A', 'C', 'C', 'C', 'C', 'C', 'C', 'C', 'C', 'C', 'C', 'C', 'C', 'C', 'C', 'C', 'C', 'C', 'C', 'C', 'C', 'C', 'C', 'C', 'C', 'C', 'C', 'C', 'C', 'C', 'C', 'C', 'C', 'C', 'C', 'C', 'C', 'C', 'C', 'C', 'C', 'C', 'C', 'C', 'C', 'C', 'C', 'C', 'C', 'C', 'C', 'C', 'C', 'C', 'C', 'C', 'C', 'C', 'C', 'C', 'C', 'C', 'C', 'C', 'C', 'C', 'C', 'C', 'C', 'C', 'C', 'C', 'C', 'C', 'C', 'C', 'C', 'C', 'C', 'C', 'C', 'C', 'C', 'C', 'C', 'C', 'C', 'C', 'C', 'C', 'C', 'C', 'C', 'C', 'C', 'C', 'C', 'C', 'C', 'C', 'C', 'C', 'C', 'C', 'C', 'C', 'C', 'C', 'C', 'C', 'C', 'C', 'C', 'C', 'C', 'C', 'C', 'C', 'C', 'C', 'C', 'C', 'C', 'C', 'C', 'C', 'C', 'C', 'C', 'C', 'C', 'C', 'C', 'C', 'C', 'C', 'C', 'C', 'C', 'C', 'C', 'C', 'C', 'C', 'C', 'C', 'C', 'C', 'C', 'C', 'C', 'C', 'C', 'C', 'C', 'C', 'C', 'C', 'C', 'C', 'C', 'C', 'C', 'C', 'C', 'C', 'C', 'C', 'C', 'C', 'C', 'C', 'C', 'C', 'C', 'C', 'C', 'C', 'C', 'C', 'C', 'C', 'C', 'C', 'C', 'C', 'C', 'C', 'C', 'C', 'C', 'C', 'C', 'C', 'C', 'C', 'C', 'C', 'C', 'C', 'C', 'C', 'C', 'C', 'C', 'C', 'C', 'C', 'C', 'C', 'C', 'C', 'C', 'C', 'C', 'C', 'C', 'C', 'C', 'C', 'C', 'C', 'C', 'C', 'C', 'C', 'C', 'C', 'C', 'C', 'C', 'C', 'C', 'C', 'C', 'C', 'C', 'C', 'C', 'C', 'C', 'C', 'C', 'C', 'C', 'C', 'C', 'C', 'C', 'C', 'C', 'G', 'G', 'G', 'G', 'G', 'G', 'G', 'G', 'G', 'G', 'G', 'G', 'G', 'G', 'G', 'G', 'G', 'G', 'G', 'G', 'G', 'G', 'G', 'G', 'G', 'G', 'G', 'G', 'G', 'G', 'G', 'G', 'G', 'G', 'G', 'G', 'G', 'G', 'G', 'G', 'G', 'G', 'G', 'G', 'G', 'G', 'G', 'G', 'G', 'G', 'G', 'G', 'G', 'G', 'G', 'G', 'G', 'G', 'G', 'G', 'G', 'G', 'G', 'G', 'G', 'G', 'G', 'G', 'G', 'G', 'G', 'G', 'G', 'G', 'G', 'G', 'G', 'G', 'G', 'G', 'G', 'G', 'G', 'G', 'G', 'G', 'G', 'G', 'G', 'G', 'G', 'G', 'G', 'G', 'G', 'G', 'G', 'G', 'G', 'G', 'G', 'G', 'G', 'G', 'G', 'G', 'G', 'G', 'G', 'G', 'G', 'G', 'G', 'G', 'G', 'G', 'G', 'G', 'G', 'G', 'G', 'G', 'G', 'G', 'G', 'G', 'G', 'G', 'G', 'G', 'G', 'G', 'G', 'G', 'G', 'G', 'G', 'G', 'G', 'G', 'G', 'G', 'G', 'G', 'G', 'G', 'G', 'G', 'G', 'G', 'G', 'G', 'G', 'G', 'G', 'G', 'G', 'G', 'G', 'G', 'G', 'G', 'G', 'G', 'G', 'G', 'G', 'G', 'G', 'G', 'G', 'G', 'G', 'G', 'G', 'G', 'G', 'G', 'G', 'G', 'G', 'G', 'G', 'G', 'G', 'G', 'G', 'G', 'G', 'G', 'G', 'G', 'G', 'G', 'G', 'G', 'G', 'G', 'G', 'G', 'G', 'G', 'G', 'G', 'G', 'G', 'G', 'G', 'G', 'G', 'G', 'G', 'G', 'G', 'G', 'G', 'G', 'G', 'G', 'G', 'G', 'G', 'G', 'G', 'G', 'G', 'G', 'G', 'G', 'G', 'G', 'G', 'G', 'G', 'G', 'G', 'G', 'G', 'G', 'G', 'G', 'G', 'G', 'G', 'G', 'G', 'G', 'G', 'G', 'T', 'T', 'T', 'T', 'T', 'T', 'T', 'T', 'T', 'T', 'T', 'T', 'T', 'T', 'T', 'T', 'T', 'T', 'T', 'T', 'T', 'T', 'T', 'T', 'T', 'T', 'T', 'T', 'T', 'T', 'T', 'T', 'T', 'T', 'T', 'T', 'T', 'T', 'T', 'T', 'T', 'T', 'T', 'T', 'T', 'T', 'T', 'T', 'T', 'T', 'T', 'T', 'T', 'T', 'T', 'T', 'T', 'T', 'T', 'T', 'T', 'T', 'T', 'T', 'T', 'T', 'T', 'T', 'T', 'T', 'T', 'T', 'T', 'T', 'T', 'T', 'T', 'T', 'T', 'T', 'T', 'T', 'T', 'T', 'T', 'T', 'T', 'T', 'T', 'T', 'T', 'T', 'T', 'T', 'T', 'T', 'T', 'T', 'T', 'T', 'T', 'T', 'T', 'T', 'T', 'T', 'T', 'T', 'T', 'T', 'T', 'T', 'T', 'T', 'T', 'T', 'T', 'T', 'T', 'T', 'T', 'T', 'T', 'T', 'T', 'T', 'T', 'T', 'T', 'T', 'T', 'T', 'T', 'T', 'T', 'T', 'T', 'T', 'T', 'T', 'T', 'T', 'T', 'T', 'T', 'T', 'T', 'T', 'T', 'T', 'T', 'T', 'T', 'T', 'T', 'T', 'T', 'T', 'T', 'T', 'T', 'T', 'T', 'T', 'T', 'T', 'T', 'T', 'T', 'T', 'T', 'T', 'T', 'T', 'T', 'T', 'T', 'T', 'T', 'T', 'T', 'T', 'T', 'T', 'T', 'T', 'T', 'T', 'T', 'T', 'T', 'T', 'T', 'T', 'T', 'T', 'T', 'T', 'T', 'T', 'T', 'T', 'T', 'T', 'T', 'T', 'T', 'T', 'T', 'T', 'T', 'T', 'T', 'T', 'T', 'T', 'T', 'T', 'T', 'T', 'T', 'T', 'T', 'T', 'T', 'T', 'T', 'T', 'T', 'T', 'T', 'T', 'T', 'T', 'T', 'T', 'T', 'T', 'T', 'T', 'T', 'T', 'T', 'T', 'T', 'T', 'T', 'T', 'T', 'T', 'T', 'T', 'T', 'T']\n"
     ]
    }
   ],
   "source": [
    "dna='AGGCAAGAAGCTAGAATTCTGGCCTGAGTATCTCAGTACAGGCGCAGTCGAATCTTCCGGAATCACATTGCTCGCGCTTAAACCCGCTCTAAACCTTTGAGTAATTCGACGACATTGGGTTCCCTCCGACGCTGTCTGACAACTCTTTAAGATCCTTGGCACGATGTCGATAGACATTGTCCCTGATGACGCCTCACAAGGTAACCTGGCTCTAGTAGGGTGGTCTTTGCTGCGGAACTTACCACCTGGTGGATCCAAGCACCAGAGGAGTTCGAAGAGGCTGGGGTACCCCCTATTTAGGAAGGGCGAGACTACGGTCACAAATTCCAAATGGCTTCCCTCGATTCATGACGCCAGAATGCCTGGCTGTGCCAATTTGTCGCCTTGCGTCGTTCTGTCAATCTTTACTCGTGTCGTGTTGTGATAAATGACAAACCCTGCACAACGTAGGGCTCACACAAGGGAATCTAGAGTATCCGATACAGGGAGCTTTAGCTTCCGTCCCTTATAGCCTGCCATATTCTTGCGGTAGCACGAGCCTCAGATCTTCTCACTCCGGAAATGGGAGCTTCGACGGTCAAGGGCTAAGACGTCTTCGGGAGAAATACCTAGGCGATGACCCTGAGTGGTTTTCCGCGTATAACTCATCCTGGTTGCAAATGATTACCGTTATAGCCTGGGGATATGCCTCAATTCCGAACCCAGGAGCATCACTCGAGCAATAGCGGTAAAGGAGGCTATTAGCAAAATTGTCACGATAAGCGCCGTTGTAGTGAAATTAAGATACATACATCGTTTAGCACATCACTCTCACGGCGTCTAGAAGCTGATCTTCATATGCTGACTCAGAAGGCTCGGATAATAGAGGACGAAGGTAGTTTACTCATCGCTGCCCCGACTATTACGTGTGCATGATAAAGTCTGACCCTGACGTTCCCAAGCCGAGGCAGAGGGGTTTTACGCTGAATGTCCGCTCTCTGTCGGATGATTTCGGAAGCTG'\n",
    "\n",
    "sorted_dna=sorted(dna)\n",
    "print(sorted_dna)\n",
    "# string sorting in default (alphabetical) order"
   ]
  },
  {
   "cell_type": "code",
   "execution_count": 19,
   "id": "f92a0a43",
   "metadata": {},
   "outputs": [
    {
     "name": "stdout",
     "output_type": "stream",
     "text": [
      "254\n"
     ]
    }
   ],
   "source": [
    "T_count=0\n",
    "for i in sorted_dna:\n",
    "    if i=='T':\n",
    "        T_count=T_count+1\n",
    "print(T_count)"
   ]
  },
  {
   "cell_type": "code",
   "execution_count": 28,
   "id": "02b49c81",
   "metadata": {},
   "outputs": [
    {
     "data": {
      "text/plain": [
       "254"
      ]
     },
     "execution_count": 28,
     "metadata": {},
     "output_type": "execute_result"
    }
   ],
   "source": [
    "T_list=[i for i in sorted_dna if i=='T']\n",
    "T_list.count('T')\n",
    "\n",
    "# "
   ]
  }
 ],
 "metadata": {
  "kernelspec": {
   "display_name": "Python 3 (ipykernel)",
   "language": "python",
   "name": "python3"
  },
  "language_info": {
   "codemirror_mode": {
    "name": "ipython",
    "version": 3
   },
   "file_extension": ".py",
   "mimetype": "text/x-python",
   "name": "python",
   "nbconvert_exporter": "python",
   "pygments_lexer": "ipython3",
   "version": "3.10.8"
  },
  "toc": {
   "base_numbering": 1,
   "nav_menu": {},
   "number_sections": true,
   "sideBar": true,
   "skip_h1_title": false,
   "title_cell": "Table of Contents",
   "title_sidebar": "Contents",
   "toc_cell": false,
   "toc_position": {},
   "toc_section_display": true,
   "toc_window_display": false
  },
  "varInspector": {
   "cols": {
    "lenName": 16,
    "lenType": 16,
    "lenVar": 40
   },
   "kernels_config": {
    "python": {
     "delete_cmd_postfix": "",
     "delete_cmd_prefix": "del ",
     "library": "var_list.py",
     "varRefreshCmd": "print(var_dic_list())"
    },
    "r": {
     "delete_cmd_postfix": ") ",
     "delete_cmd_prefix": "rm(",
     "library": "var_list.r",
     "varRefreshCmd": "cat(var_dic_list()) "
    }
   },
   "types_to_exclude": [
    "module",
    "function",
    "builtin_function_or_method",
    "instance",
    "_Feature"
   ],
   "window_display": false
  },
  "vscode": {
   "interpreter": {
    "hash": "31f2aee4e71d21fbe5cf8b01ff0e069b9275f58929596ceb00d14d90e3e16cd6"
   }
  }
 },
 "nbformat": 4,
 "nbformat_minor": 5
}
