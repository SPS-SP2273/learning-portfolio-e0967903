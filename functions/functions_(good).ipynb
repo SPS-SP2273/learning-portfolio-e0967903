{
 "cells": [
  {
   "cell_type": "markdown",
   "id": "123456",
   "metadata": {},
   "source": [
    "<div style=\"text-align:left;font-size:2em\"><span style=\"font-weight:bolder;font-size:1.25em\">SP2273 | Learning Portfolio</span><br><br><span style=\"font-weight:bold;color:darkred\">Functions (Good)</span></div>"
   ]
  },
  {
   "cell_type": "markdown",
   "id": "14b630a8",
   "metadata": {},
   "source": [
    "## 1 Check, balances and contingencies"
   ]
  },
  {
   "cell_type": "markdown",
   "id": "14457958",
   "metadata": {},
   "source": [
    "### 1.1 assert"
   ]
  },
  {
   "cell_type": "code",
   "execution_count": 62,
   "id": "ea740305",
   "metadata": {},
   "outputs": [
    {
     "ename": "AssertionError",
     "evalue": "x is becoming negative!",
     "output_type": "error",
     "traceback": [
      "\u001b[1;31m---------------------------------------------------------------------------\u001b[0m",
      "\u001b[1;31mAssertionError\u001b[0m                            Traceback (most recent call last)",
      "Cell \u001b[1;32mIn[62], line 2\u001b[0m\n\u001b[0;32m      1\u001b[0m x\u001b[38;5;241m=\u001b[39m\u001b[38;5;241m-\u001b[39m\u001b[38;5;241m10\u001b[39m\n\u001b[1;32m----> 2\u001b[0m \u001b[38;5;28;01massert\u001b[39;00m x\u001b[38;5;241m>\u001b[39m\u001b[38;5;241m=\u001b[39m\u001b[38;5;241m0\u001b[39m, \u001b[38;5;124m\"\u001b[39m\u001b[38;5;124mx is becoming negative!\u001b[39m\u001b[38;5;124m\"\u001b[39m\n\u001b[0;32m      3\u001b[0m \u001b[38;5;28mprint\u001b[39m(x)\n\u001b[0;32m      5\u001b[0m \u001b[38;5;66;03m# x=-10\u001b[39;00m\n\u001b[0;32m      6\u001b[0m \u001b[38;5;66;03m# AssertionError: x is becoming negative!\u001b[39;00m\n",
      "\u001b[1;31mAssertionError\u001b[0m: x is becoming negative!"
     ]
    }
   ],
   "source": [
    "x=-10\n",
    "assert x>=0, \"x is becoming negative!\"\n",
    "print(x)\n",
    "\n",
    "# x=-10\n",
    "# AssertionError: x is becoming negative!"
   ]
  },
  {
   "cell_type": "markdown",
   "id": "d2c08f49",
   "metadata": {},
   "source": [
    "### 1.2 try-except"
   ]
  },
  {
   "cell_type": "code",
   "execution_count": 7,
   "id": "2d2f65fc",
   "metadata": {
    "scrolled": true
   },
   "outputs": [
    {
     "name": "stdout",
     "output_type": "stream",
     "text": [
      "Give me a number and I will calculate its square.7\n",
      "The square of 7 is 49!\n"
     ]
    }
   ],
   "source": [
    "number=input(\"Give me a number and I will calculate its square.\")\n",
    "# input lets the user enter something to be used in a function\n",
    "square=int(number)**2\n",
    "# int to convert string to integer for calculation\n",
    "print(f'The square of {number} is {square}!')\n"
   ]
  },
  {
   "cell_type": "code",
   "execution_count": 10,
   "id": "97884519",
   "metadata": {},
   "outputs": [
    {
     "name": "stdout",
     "output_type": "stream",
     "text": [
      "Give me a number and I will calculate its square.pants\n",
      "Oh oh! I cannot square pants!\n"
     ]
    }
   ],
   "source": [
    "try:\n",
    "    number=input(\"Give me a number and I will calculate its square.\")\n",
    "    square=int(number)**2\n",
    "    print(f'The square of {number} is {square}!')\n",
    "except:\n",
    "    print(f\"Oh oh! I cannot square {number}!\")\n",
    "# instead of giving an error, python will ignore it and run the except block"
   ]
  },
  {
   "cell_type": "markdown",
   "id": "8a511078",
   "metadata": {},
   "source": [
    "## 2 Some loose ends"
   ]
  },
  {
   "cell_type": "markdown",
   "id": "5fb78c27",
   "metadata": {},
   "source": [
    "### 2.1 Positional, keyword and default arguments"
   ]
  },
  {
   "cell_type": "code",
   "execution_count": 16,
   "id": "a8734869",
   "metadata": {},
   "outputs": [
    {
     "name": "stdout",
     "output_type": "stream",
     "text": [
      "121\n",
      "321\n",
      "121\n",
      "312\n",
      "321\n"
     ]
    },
    {
     "data": {
      "text/plain": [
       "121"
      ]
     },
     "execution_count": 16,
     "metadata": {},
     "output_type": "execute_result"
    }
   ],
   "source": [
    "def funny_add(a,b,c=1):\n",
    "    return a+10*b+100*c\n",
    "\n",
    "print(funny_add(1,2))\n",
    "print(funny_add(1,2,3))\n",
    "# 1+20+300=321\n",
    "print(funny_add(a=1,b=2))\n",
    "print(funny_add(c=3,b=1,a=2))\n",
    "print(funny_add(1,c=3,b=2))\n",
    "funny_add(1,b=2)\n",
    "\n",
    "# funny_add(a=2, 1) will not work. keyword cannot be followed by positional"
   ]
  },
  {
   "cell_type": "markdown",
   "id": "7b7a945b",
   "metadata": {},
   "source": [
    "### 2.2 Docstrings"
   ]
  },
  {
   "cell_type": "code",
   "execution_count": 13,
   "id": "61de3fd3",
   "metadata": {},
   "outputs": [
    {
     "name": "stdout",
     "output_type": "stream",
     "text": [
      "Help on function funny_add in module __main__:\n",
      "\n",
      "funny_add(a, b, c=1)\n",
      "    A test function to demonstrate how \n",
      "    positional, keyword and default arguments \n",
      "    work.\n",
      "\n"
     ]
    }
   ],
   "source": [
    "def funny_add(a, b, c=1):\n",
    "    '''\n",
    "    A test function to demonstrate how \n",
    "    positional, keyword and default arguments \n",
    "    work.\n",
    "    '''\n",
    "    return a + 10*b + 100*c\n",
    "# write our own help guide\n",
    "\n",
    "help(funny_add)"
   ]
  },
  {
   "cell_type": "markdown",
   "id": "39df2ffc",
   "metadata": {},
   "source": [
    "### 2.3 Function are first class citizens"
   ]
  },
  {
   "cell_type": "code",
   "execution_count": 31,
   "id": "8b79ac4a",
   "metadata": {},
   "outputs": [
    {
     "name": "stdout",
     "output_type": "stream",
     "text": [
      "1.0\n",
      "6.123233995736766e-17\n"
     ]
    },
    {
     "data": {
      "text/plain": [
       "-1.0"
      ]
     },
     "execution_count": 31,
     "metadata": {},
     "output_type": "execute_result"
    }
   ],
   "source": [
    "def my_function(angle, trig_function):\n",
    "    return trig_function(angle)\n",
    "\n",
    "print(my_function(np.pi/2,np.sin))\n",
    "# sin(pi/2)=1\n",
    "print(my_function(np.pi/2,np.cos))\n",
    "\n",
    "my_function(np.pi/2,lambda x:np.cos(2*x))\n",
    "# anonymous function required to prevent an error from cos(2*x)"
   ]
  },
  {
   "cell_type": "markdown",
   "id": "461823c0",
   "metadata": {},
   "source": [
    "### 2.4 More unpacking"
   ]
  },
  {
   "cell_type": "code",
   "execution_count": 42,
   "id": "63e02043",
   "metadata": {},
   "outputs": [
    {
     "name": "stdout",
     "output_type": "stream",
     "text": [
      "1 2 3\n",
      "1 2 3\n",
      "1 [2, 3, 4] 5\n",
      "1 5\n"
     ]
    }
   ],
   "source": [
    "x,y,z=[1,2,3]\n",
    "print(x,y,z)\n",
    "x,y,z=np.array([1,2,3])\n",
    "print(x,y,z)\n",
    "\n",
    "x,*y,z=np.array([1,2,3,4,5])\n",
    "print(x,y,z)\n",
    "# *y means to create a sublist within the list/array\n",
    "\n",
    "x,*_,y=[1,2,3,4,5]\n",
    "print(x,y)\n",
    "# _ is a dummy variable just like a b c etc, but by convention it means youre going to ignore it\n",
    "# print(x,_,y) also gives 1 [2,3,4] 5\n"
   ]
  },
  {
   "cell_type": "markdown",
   "id": "c74fb372",
   "metadata": {},
   "source": [
    "## Exercise 1 :  A better calculator I"
   ]
  },
  {
   "cell_type": "code",
   "execution_count": 10,
   "id": "e4fca20a",
   "metadata": {},
   "outputs": [
    {
     "name": "stdout",
     "output_type": "stream",
     "text": [
      "[100  34 100 100 100]\n",
      "[-28  34 -12  52 -46]\n",
      "[2304    0 2464 1824 1971]\n"
     ]
    },
    {
     "ename": "AssertionError",
     "evalue": "division by zero is undefined!",
     "output_type": "error",
     "traceback": [
      "\u001b[1;31m---------------------------------------------------------------------------\u001b[0m",
      "\u001b[1;31mAssertionError\u001b[0m                            Traceback (most recent call last)",
      "Cell \u001b[1;32mIn[10], line 19\u001b[0m\n\u001b[0;32m     17\u001b[0m     \u001b[38;5;28;01massert\u001b[39;00m np\u001b[38;5;241m.\u001b[39mall(y\u001b[38;5;241m!=\u001b[39m\u001b[38;5;241m0\u001b[39m), \u001b[38;5;124m\"\u001b[39m\u001b[38;5;124mdivision by zero is undefined!\u001b[39m\u001b[38;5;124m\"\u001b[39m\n\u001b[0;32m     18\u001b[0m     \u001b[38;5;28;01mreturn\u001b[39;00m x\u001b[38;5;241m/\u001b[39my\n\u001b[1;32m---> 19\u001b[0m \u001b[38;5;28mprint\u001b[39m(\u001b[43mdivide\u001b[49m\u001b[43m(\u001b[49m\u001b[43mx\u001b[49m\u001b[43m,\u001b[49m\u001b[43my\u001b[49m\u001b[43m)\u001b[49m)\n\u001b[0;32m     22\u001b[0m \u001b[38;5;66;03m# Your solution here\u001b[39;00m\n",
      "Cell \u001b[1;32mIn[10], line 17\u001b[0m, in \u001b[0;36mdivide\u001b[1;34m(x, y)\u001b[0m\n\u001b[0;32m     16\u001b[0m \u001b[38;5;28;01mdef\u001b[39;00m \u001b[38;5;21mdivide\u001b[39m(x,y):\n\u001b[1;32m---> 17\u001b[0m     \u001b[38;5;28;01massert\u001b[39;00m np\u001b[38;5;241m.\u001b[39mall(y\u001b[38;5;241m!=\u001b[39m\u001b[38;5;241m0\u001b[39m), \u001b[38;5;124m\"\u001b[39m\u001b[38;5;124mdivision by zero is undefined!\u001b[39m\u001b[38;5;124m\"\u001b[39m\n\u001b[0;32m     18\u001b[0m     \u001b[38;5;28;01mreturn\u001b[39;00m x\u001b[38;5;241m/\u001b[39my\n",
      "\u001b[1;31mAssertionError\u001b[0m: division by zero is undefined!"
     ]
    }
   ],
   "source": [
    "x=np.array([36, 34, 44, 76, 27])\n",
    "y=np.array([64, 0, 56, 24, 73])\n",
    "\n",
    "def add(x,y):\n",
    "    return x+y\n",
    "print(add(x,y))\n",
    "\n",
    "def subtract(x,y):\n",
    "    return x-y\n",
    "print(subtract(x,y))\n",
    "\n",
    "def multiply(x,y):\n",
    "    return x*y\n",
    "print(multiply(x,y))\n",
    "\n",
    "def divide(x,y):\n",
    "    assert np.all(y!=0), \"division by zero is undefined!\"\n",
    "    return x/y\n",
    "print(divide(x,y))\n",
    "\n",
    "\n",
    "# Your solution here\n",
    "\n",
    "\n"
   ]
  },
  {
   "cell_type": "markdown",
   "id": "aa20e01a",
   "metadata": {},
   "source": [
    "## Exercise 2 :  A better calculator II"
   ]
  },
  {
   "cell_type": "code",
   "execution_count": 36,
   "id": "5b20c572",
   "metadata": {},
   "outputs": [
    {
     "name": "stdout",
     "output_type": "stream",
     "text": [
      "you have encountered assertion error\n"
     ]
    }
   ],
   "source": [
    "x=np.array([36, 34, 44, 76, 27])\n",
    "y=np.array([64, 0, 56, 24, 73])\n",
    "def divide(x,y):\n",
    "     return x/y\n",
    "\n",
    "try:\n",
    "    assert np.all(y!=0)\n",
    "except:\n",
    "    print(\"you have encountered assertion error\")\n",
    "\n",
    "# with current knowledge, using assert under try is the only way, though redundant\n",
    "# without assert, numpy is (according to yuan zhe) too smart and does not have zerodivisionerror\n",
    "# it evaluates division by 0 as infinity, which results in runtime warning but is NOT an error\n",
    "# therefore the try still passes and except does not occur\n"
   ]
  },
  {
   "cell_type": "code",
   "execution_count": 24,
   "id": "c613e317",
   "metadata": {},
   "outputs": [
    {
     "name": "stdout",
     "output_type": "stream",
     "text": [
      "yeah no\n"
     ]
    }
   ],
   "source": [
    "try:\n",
    "    print(a)\n",
    "except:\n",
    "    print('yeah no')"
   ]
  }
 ],
 "metadata": {
  "kernelspec": {
   "display_name": "Python 3 (ipykernel)",
   "language": "python",
   "name": "python3"
  },
  "language_info": {
   "codemirror_mode": {
    "name": "ipython",
    "version": 3
   },
   "file_extension": ".py",
   "mimetype": "text/x-python",
   "name": "python",
   "nbconvert_exporter": "python",
   "pygments_lexer": "ipython3",
   "version": "3.10.8"
  },
  "toc": {
   "base_numbering": 1,
   "nav_menu": {},
   "number_sections": true,
   "sideBar": true,
   "skip_h1_title": false,
   "title_cell": "Table of Contents",
   "title_sidebar": "Contents",
   "toc_cell": false,
   "toc_position": {},
   "toc_section_display": true,
   "toc_window_display": false
  },
  "varInspector": {
   "cols": {
    "lenName": 16,
    "lenType": 16,
    "lenVar": 40
   },
   "kernels_config": {
    "python": {
     "delete_cmd_postfix": "",
     "delete_cmd_prefix": "del ",
     "library": "var_list.py",
     "varRefreshCmd": "print(var_dic_list())"
    },
    "r": {
     "delete_cmd_postfix": ") ",
     "delete_cmd_prefix": "rm(",
     "library": "var_list.r",
     "varRefreshCmd": "cat(var_dic_list()) "
    }
   },
   "types_to_exclude": [
    "module",
    "function",
    "builtin_function_or_method",
    "instance",
    "_Feature"
   ],
   "window_display": false
  },
  "vscode": {
   "interpreter": {
    "hash": "31f2aee4e71d21fbe5cf8b01ff0e069b9275f58929596ceb00d14d90e3e16cd6"
   }
  }
 },
 "nbformat": 4,
 "nbformat_minor": 5
}
