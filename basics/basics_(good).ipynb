{
 "cells": [
  {
   "cell_type": "markdown",
   "id": "123456",
   "metadata": {},
   "source": [
    "<div style=\"text-align:left;font-size:2em\"><span style=\"font-weight:bolder;font-size:1.25em\">SP2273 | Learning Portfolio</span><br><br><span style=\"font-weight:bold;color:darkred\">Basics (Good)</span></div>"
   ]
  },
  {
   "cell_type": "markdown",
   "id": "99e2f00a",
   "metadata": {},
   "source": [
    "## 1 More Python Basics"
   ]
  },
  {
   "cell_type": "markdown",
   "id": "0df4bb97",
   "metadata": {},
   "source": [
    "### 1.1 Computers read = from Right to Left!"
   ]
  },
  {
   "cell_type": "code",
   "execution_count": 11,
   "id": "f25d63c3",
   "metadata": {},
   "outputs": [
    {
     "name": "stdout",
     "output_type": "stream",
     "text": [
      "42\n"
     ]
    }
   ],
   "source": [
    "x=40\n",
    "# make x have the value of 40\n",
    "y=x+2\n",
    "# add 2 to x. THEN make y=42\n",
    "print(y)\n",
    "# define the values first then print the variable you want a calculated value for"
   ]
  },
  {
   "cell_type": "code",
   "execution_count": 13,
   "id": "8f2f5337",
   "metadata": {},
   "outputs": [
    {
     "name": "stdout",
     "output_type": "stream",
     "text": [
      "42\n"
     ]
    }
   ],
   "source": [
    "y=40\n",
    "# make y have the value of 40\n",
    "y=y+2\n",
    "# add 2 to y (get 42). THEN make y=42\n",
    "print(y)"
   ]
  },
  {
   "cell_type": "markdown",
   "id": "425bb4e7",
   "metadata": {},
   "source": [
    "### 1.2 Shorter and cleaner"
   ]
  },
  {
   "cell_type": "code",
   "execution_count": 14,
   "id": "c40f6c21",
   "metadata": {},
   "outputs": [
    {
     "data": {
      "text/plain": [
       "42"
      ]
     },
     "execution_count": 14,
     "metadata": {},
     "output_type": "execute_result"
    }
   ],
   "source": [
    "y=40\n",
    "y+=2 # same as y=y+2\n",
    "y\n",
    "# python automatically prints the last line if no function is specified\n",
    "# shorthand also works for y-=2   y/=2   y*=2"
   ]
  },
  {
   "cell_type": "markdown",
   "id": "9a0db23e",
   "metadata": {},
   "source": [
    "### 1.3 Asking questions"
   ]
  },
  {
   "cell_type": "code",
   "execution_count": 10,
   "id": "ff21b456",
   "metadata": {},
   "outputs": [
    {
     "name": "stdout",
     "output_type": "stream",
     "text": [
      "True\n",
      "False\n",
      "True\n",
      "True\n",
      "True\n"
     ]
    }
   ],
   "source": [
    "fruits = [\"apple\", \"banana\", \"pineapple\", \"jackfruit\"]\n",
    "vegetables = [\"celery\", \"potato\", \"broccoli\", \"kale\"]\n",
    "\n",
    "print(\"apple\" in fruits)\n",
    "print(\"peach\" in fruits)\n",
    "print(\"peach\" not in fruits)\n",
    "print((\"apple\" in fruits) and (\"celery\" in vegetables))\n",
    "# both must be true\n",
    "print((\"apple\" in fruits) or (\"celery\" in vegetables))\n",
    "# only one needs to be true"
   ]
  },
  {
   "cell_type": "code",
   "execution_count": 16,
   "id": "1132a998",
   "metadata": {},
   "outputs": [
    {
     "name": "stdout",
     "output_type": "stream",
     "text": [
      "True\n",
      "True\n",
      "True\n",
      "True\n",
      "True\n",
      "True\n"
     ]
    }
   ],
   "source": [
    "print(5+4==9)\n",
    "# 5=9 will not work because a number cannot take on the value of another number\n",
    "print(5!=4)\n",
    "# 5≠4\n",
    "print(5<10)\n",
    "print(5>4)\n",
    "print(5<=10)\n",
    "print(5>=4)"
   ]
  },
  {
   "cell_type": "code",
   "execution_count": 8,
   "id": "3e45d476",
   "metadata": {},
   "outputs": [
    {
     "data": {
      "text/plain": [
       "False"
      ]
     },
     "execution_count": 8,
     "metadata": {},
     "output_type": "execute_result"
    }
   ],
   "source": [
    "'apples'>'oranges'\n",
    "# letters are internally represented as numbers"
   ]
  },
  {
   "cell_type": "markdown",
   "id": "e81ad385",
   "metadata": {},
   "source": [
    "### 1.4 There is more to if"
   ]
  },
  {
   "cell_type": "code",
   "execution_count": 29,
   "id": "e85cbc46",
   "metadata": {},
   "outputs": [
    {
     "name": "stdout",
     "output_type": "stream",
     "text": [
      "Hello World!\n"
     ]
    }
   ],
   "source": [
    "name='R'\n",
    "if name=='Batman':\n",
    "    print('Hello hero | Batman!')\n",
    "elif name=='Robin':\n",
    "    print('Hello Sidekick | Robin!')\n",
    "else:\n",
    "    print('Hello World!')\n",
    "\n",
    "    # must use == and not =, or else will get invalid syntax"
   ]
  },
  {
   "cell_type": "markdown",
   "id": "10fa952b",
   "metadata": {},
   "source": [
    "### 1.5 Python stores information in different formats or types."
   ]
  },
  {
   "cell_type": "code",
   "execution_count": 46,
   "id": "ab9e8af8",
   "metadata": {},
   "outputs": [],
   "source": [
    "import math"
   ]
  },
  {
   "cell_type": "code",
   "execution_count": 59,
   "id": "3c4f0764",
   "metadata": {},
   "outputs": [
    {
     "name": "stdout",
     "output_type": "stream",
     "text": [
      "1 <class 'int'>\n",
      "1.234 <class 'str'>\n",
      "1.234 <class 'float'>\n",
      "(1.234+0j) <class 'complex'>\n",
      "1j <class 'numpy.complex128'>\n"
     ]
    }
   ],
   "source": [
    "x=1.234\n",
    "x=int(1.234)\n",
    "print(x,type(x))\n",
    "# type(x) will give 'int'\n",
    "#type means typecasting, x has been cast into the type int\n",
    "\n",
    "x=str(1.234)\n",
    "print(x,type(x))\n",
    "# stores as english word (string)\n",
    "# useful when you may want to print '1234' as eg.'1-2-3-4'. the number needs to be in string(english) form for the function to work\n",
    "\n",
    "x=float(1.234)\n",
    "print(x,type(x))\n",
    "# stores as decimal number\n",
    "\n",
    "x=complex(1.234)\n",
    "print(x,type(x))\n",
    "# includes imaginary portions of the number\n",
    "\n",
    "x=(np.sqrt(-1+0j))\n",
    "print(x,type(x))\n",
    "# to print complex numbers, must use the a+bj format\n",
    "# np works, math doesn't"
   ]
  },
  {
   "cell_type": "markdown",
   "id": "ac5f3f8f",
   "metadata": {},
   "source": [
    "### 1.6 Combining English and variables"
   ]
  },
  {
   "cell_type": "code",
   "execution_count": 62,
   "id": "bf929c1d",
   "metadata": {},
   "outputs": [
    {
     "name": "stdout",
     "output_type": "stream",
     "text": [
      "Hello Batman!\n",
      "Hello BATMAN!\n"
     ]
    }
   ],
   "source": [
    "name='Batman'\n",
    "print(f\"Hello {name}!\")\n",
    "\n",
    "print(f\"Hello {name.upper()}!\")"
   ]
  },
  {
   "cell_type": "code",
   "execution_count": 63,
   "id": "596defda",
   "metadata": {},
   "outputs": [
    {
     "name": "stdout",
     "output_type": "stream",
     "text": [
      "The value of 10 squared is 100!\n"
     ]
    }
   ],
   "source": [
    "x=10\n",
    "print(f\"The value of {x} squared is {x**2}!\")"
   ]
  },
  {
   "cell_type": "code",
   "execution_count": 81,
   "id": "606249d6",
   "metadata": {
    "scrolled": true
   },
   "outputs": [
    {
     "name": "stdout",
     "output_type": "stream",
     "text": [
      "Bruce Wayne is Batman.\n",
      "        Bruce Wayne is Batman.\n",
      "    Bruce Wayne is Batman.    \n",
      "Bruce Wayne is Batman.        \n"
     ]
    }
   ],
   "source": [
    "text='Bruce Wayne is Batman.'\n",
    "print(f'{text}')\n",
    "print(f'{text:>30}')\n",
    "# align text 30 ?? to the right\n",
    "\n",
    "print(f'{text:^30}')\n",
    "# centre align\n",
    "\n",
    "print(f'{text:<30}')\n",
    "# align text 30 ?? to the left"
   ]
  },
  {
   "cell_type": "code",
   "execution_count": 115,
   "id": "8a85aa7c",
   "metadata": {},
   "outputs": [
    {
     "name": "stdout",
     "output_type": "stream",
     "text": [
      "The cube of pi to 6 decimal places is 31.0063\n",
      "The cube of pi to 6 decimal places is 31.006277\n",
      "The cube of pi to 6 decimal places is 3.100628e+01\n"
     ]
    }
   ],
   "source": [
    "print(f'The cube of pi to 6 decimal places is {np.pi**3:.6}')\n",
    "# np.pi - the function of pi from numpy package\n",
    "# np.pi**3 - cube of pi\n",
    "# : - present as\n",
    "# .6 - six significant figures\n",
    "# if you don't put the '.' there will be no error, python seems to disregard anything after the colon\n",
    "\n",
    "print(f'The cube of pi to 6 decimal places is {np.pi**3:.6f}')\n",
    "# .6f - six decimal places\n",
    "\n",
    "print(f'The cube of pi to 6 decimal places is {np.pi**3:.6e}')\n",
    "# .6e - six decimal places AND display in scientific notation"
   ]
  },
  {
   "cell_type": "code",
   "execution_count": 124,
   "id": "9cae6220",
   "metadata": {},
   "outputs": [
    {
     "name": "stdout",
     "output_type": "stream",
     "text": [
      "the cube of pi to 6 decimal places is 0000000000000000000000031.0063\n"
     ]
    }
   ],
   "source": [
    "print(f'the cube of pi to 6 decimal places is {np.pi**3:>030.6}')\n",
    "# right align by 30 and fill the spaces with 0s"
   ]
  },
  {
   "cell_type": "markdown",
   "id": "a725dfbe",
   "metadata": {},
   "source": [
    "### 1.7 Python can be a prima-donna."
   ]
  },
  {
   "cell_type": "code",
   "execution_count": null,
   "id": "a48fe145",
   "metadata": {},
   "outputs": [],
   "source": [
    "\n",
    "# Your code here\n"
   ]
  },
  {
   "cell_type": "markdown",
   "id": "2ca915bd",
   "metadata": {},
   "source": [
    "## 2 Best Practices for Scientific Computing"
   ]
  },
  {
   "cell_type": "markdown",
   "id": "923989be",
   "metadata": {},
   "source": [
    "### 2.1 Some tips"
   ]
  },
  {
   "cell_type": "code",
   "execution_count": null,
   "id": "d3261872",
   "metadata": {},
   "outputs": [],
   "source": [
    "\n",
    "# Your code here\n"
   ]
  },
  {
   "cell_type": "markdown",
   "id": "197c510d",
   "metadata": {},
   "source": [
    "### 2.2 Getting help."
   ]
  },
  {
   "cell_type": "code",
   "execution_count": 1,
   "id": "4d3671a4",
   "metadata": {},
   "outputs": [
    {
     "name": "stdout",
     "output_type": "stream",
     "text": [
      "Help on built-in function print in module builtins:\n",
      "\n",
      "print(...)\n",
      "    print(value, ..., sep=' ', end='\\n', file=sys.stdout, flush=False)\n",
      "    \n",
      "    Prints the values to a stream, or to sys.stdout by default.\n",
      "    Optional keyword arguments:\n",
      "    file:  a file-like object (stream); defaults to the current sys.stdout.\n",
      "    sep:   string inserted between values, default a space.\n",
      "    end:   string appended after the last value, default a newline.\n",
      "    flush: whether to forcibly flush the stream.\n",
      "\n"
     ]
    }
   ],
   "source": [
    "help(print)\n"
   ]
  },
  {
   "cell_type": "markdown",
   "id": "885bab4a",
   "metadata": {},
   "source": [
    "## Exercise 1 :  Bias for some heroes"
   ]
  },
  {
   "cell_type": "code",
   "execution_count": 29,
   "id": "24fc3b3b",
   "metadata": {},
   "outputs": [
    {
     "name": "stdout",
     "output_type": "stream",
     "text": [
      "HELLO BLACK WIDOW!\n",
      "hello aqua man\n"
     ]
    }
   ],
   "source": [
    "def hello(name):\n",
    "    if name==\"Batman\":\n",
    "        print(\"HELLO BATMAN!\")\n",
    "    elif name==\"Black Widow\":\n",
    "        print(\"HELLO BLACK WIDOW!\")\n",
    "    else:\n",
    "        print(f\"hello {name.lower()}\")\n",
    "hello('Black Widow')\n",
    "hello('Aqua Man')\n",
    "\n",
    "# is this what the question wants?\n",
    "# print (hello(name)) does not work but why"
   ]
  },
  {
   "cell_type": "code",
   "execution_count": 46,
   "id": "c4739ac9",
   "metadata": {
    "code_folding": []
   },
   "outputs": [
    {
     "name": "stdout",
     "output_type": "stream",
     "text": [
      "HELLO BATMAN!\n",
      "HELLO BLACK WIDOW!\n",
      "hello aqua man\n"
     ]
    }
   ],
   "source": [
    "def hello(name):\n",
    "    if name==\"Batman\" or name==\"Black Widow\":\n",
    "        print(f\"HELLO {name.upper()}!\")\n",
    "    else:\n",
    "        print(f\"hello {name.lower()}\")\n",
    "\n",
    "hello('Batman')\n",
    "hello('Black Widow')\n",
    "hello('Aqua Man')\n",
    "\n",
    "# if name==\"Batman\"or\"Black Widow\": does not work, but why?"
   ]
  },
  {
   "cell_type": "code",
   "execution_count": 2,
   "id": "22064096",
   "metadata": {},
   "outputs": [
    {
     "name": "stdout",
     "output_type": "stream",
     "text": [
      "HELLO BATMAN!\n",
      "HELLO BLACK WIDOW!\n",
      "hello aqua man\n"
     ]
    }
   ],
   "source": [
    "def hello(name):\n",
    "    if name in(\"Batman\",\"Black Widow\"):\n",
    "        print(f\"HELLO {name.upper()}!\")\n",
    "    else:\n",
    "        print(f\"hello {name.lower()}\")\n",
    "\n",
    "hello('Batman')\n",
    "hello('Black Widow')\n",
    "hello('Aqua Man')\n",
    "\n",
    "# method courtesy of Hua En to overcome the if name==\"Batman\"or\"Black Widow\" problem\n",
    "# but dont really understand how the in operator works"
   ]
  },
  {
   "cell_type": "markdown",
   "id": "d64e0633",
   "metadata": {},
   "source": [
    "## Exercise 2 :  Bias for some heroes, continues"
   ]
  },
  {
   "cell_type": "code",
   "execution_count": 20,
   "id": "9ec61462",
   "metadata": {},
   "outputs": [
    {
     "name": "stdout",
     "output_type": "stream",
     "text": [
      "Hello bAtman!\n",
      "Hello blAck widow!\n",
      "no hello for you\n"
     ]
    }
   ],
   "source": [
    "def hello(name):\n",
    "    if name.lower()==\"batman\" or name.upper()==\"BATMAN\" or name.lower()==\"black widow\" or name.upper()==\"BLACK WIDOW\":\n",
    "        print(f\"Hello {name}!\")\n",
    "    else:\n",
    "        print(\"no hello for you\")\n",
    "\n",
    "hello('bAtman')\n",
    "hello('blAck widow')\n",
    "hello('Aqua Man')\n",
    "\n",
    "# Your solution here"
   ]
  },
  {
   "cell_type": "markdown",
   "id": "0ae05c5f",
   "metadata": {},
   "source": [
    "## Exercise 3 :  Look for help to replace"
   ]
  },
  {
   "cell_type": "code",
   "execution_count": 25,
   "id": "378026ff",
   "metadata": {},
   "outputs": [
    {
     "name": "stdout",
     "output_type": "stream",
     "text": [
      "The Joker lives in Gotham City\n",
      "Batman lives in Gotham City\n"
     ]
    }
   ],
   "source": [
    "txt='The Joker lives in Gotham City'\n",
    "x=txt.replace('The Joker','Batman')\n",
    "\n",
    "print('The Joker lives in Gotham City')\n",
    "print(x)\n",
    "\n",
    "\n",
    "# must assign a variable to the text replacement"
   ]
  }
 ],
 "metadata": {
  "kernelspec": {
   "display_name": "Python 3 (ipykernel)",
   "language": "python",
   "name": "python3"
  },
  "language_info": {
   "codemirror_mode": {
    "name": "ipython",
    "version": 3
   },
   "file_extension": ".py",
   "mimetype": "text/x-python",
   "name": "python",
   "nbconvert_exporter": "python",
   "pygments_lexer": "ipython3",
   "version": "3.10.8"
  },
  "toc": {
   "base_numbering": 1,
   "nav_menu": {},
   "number_sections": true,
   "sideBar": true,
   "skip_h1_title": false,
   "title_cell": "Table of Contents",
   "title_sidebar": "Contents",
   "toc_cell": false,
   "toc_position": {},
   "toc_section_display": true,
   "toc_window_display": false
  },
  "varInspector": {
   "cols": {
    "lenName": 16,
    "lenType": 16,
    "lenVar": 40
   },
   "kernels_config": {
    "python": {
     "delete_cmd_postfix": "",
     "delete_cmd_prefix": "del ",
     "library": "var_list.py",
     "varRefreshCmd": "print(var_dic_list())"
    },
    "r": {
     "delete_cmd_postfix": ") ",
     "delete_cmd_prefix": "rm(",
     "library": "var_list.r",
     "varRefreshCmd": "cat(var_dic_list()) "
    }
   },
   "types_to_exclude": [
    "module",
    "function",
    "builtin_function_or_method",
    "instance",
    "_Feature"
   ],
   "window_display": false
  },
  "vscode": {
   "interpreter": {
    "hash": "31f2aee4e71d21fbe5cf8b01ff0e069b9275f58929596ceb00d14d90e3e16cd6"
   }
  }
 },
 "nbformat": 4,
 "nbformat_minor": 5
}
