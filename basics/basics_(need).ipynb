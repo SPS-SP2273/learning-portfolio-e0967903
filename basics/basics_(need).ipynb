{
 "cells": [
  {
   "cell_type": "markdown",
   "id": "123456",
   "metadata": {},
   "source": [
    "<div style=\"text-align:left;font-size:2em\"><span style=\"font-weight:bolder;font-size:1.25em\">SP2273 | Learning Portfolio</span><br><br><span style=\"font-weight:bold;color:darkred\">Basics (Need)</span></div>"
   ]
  },
  {
   "cell_type": "markdown",
   "id": "72b1ee5f",
   "metadata": {},
   "source": [
    "## 1 Some Python Basics"
   ]
  },
  {
   "cell_type": "markdown",
   "id": "bffa9e2f",
   "metadata": {},
   "source": [
    "### 1.1 Functions"
   ]
  },
  {
   "cell_type": "code",
   "execution_count": 5,
   "id": "2d9ad016",
   "metadata": {},
   "outputs": [
    {
     "name": "stdout",
     "output_type": "stream",
     "text": [
      "Hello World!\n"
     ]
    }
   ],
   "source": [
    "print('Hello World!')\n",
    "# Your code here\n"
   ]
  },
  {
   "cell_type": "markdown",
   "id": "80080f20",
   "metadata": {},
   "source": [
    "### 1.2 Python is interpreted"
   ]
  },
  {
   "cell_type": "code",
   "execution_count": 7,
   "id": "c4d792a0",
   "metadata": {},
   "outputs": [
    {
     "name": "stdout",
     "output_type": "stream",
     "text": [
      "Hello World\n",
      "Hello World again\n"
     ]
    }
   ],
   "source": [
    "print('Hello World')\n",
    "print('Hello World again')\n",
    "# there are two commands which will be executed one after another\n"
   ]
  },
  {
   "cell_type": "markdown",
   "id": "bad11d81",
   "metadata": {},
   "source": [
    "### 1.3 Python is sensitive."
   ]
  },
  {
   "cell_type": "code",
   "execution_count": 11,
   "id": "3cbc94ce",
   "metadata": {},
   "outputs": [
    {
     "name": "stdout",
     "output_type": "stream",
     "text": [
      "Hello World\n"
     ]
    }
   ],
   "source": [
    "print('Hello World')\n",
    "# Print with capital P will not register as a function\n"
   ]
  },
  {
   "cell_type": "markdown",
   "id": "f83c114b",
   "metadata": {},
   "source": [
    "### 1.4 Comments"
   ]
  },
  {
   "cell_type": "code",
   "execution_count": 13,
   "id": "d6491b0d",
   "metadata": {},
   "outputs": [
    {
     "name": "stdout",
     "output_type": "stream",
     "text": [
      "This is a comment but not really\n"
     ]
    }
   ],
   "source": [
    "print('This is a comment but not really')\n",
    "# This is\n",
    "# a\n",
    "#comment\n"
   ]
  },
  {
   "cell_type": "markdown",
   "id": "4ad2715d",
   "metadata": {},
   "source": [
    "### 1.5 = is not the same as =="
   ]
  },
  {
   "cell_type": "code",
   "execution_count": 28,
   "id": "98b185f8",
   "metadata": {},
   "outputs": [
    {
     "name": "stdout",
     "output_type": "stream",
     "text": [
      "Batman\n"
     ]
    },
    {
     "data": {
      "text/plain": [
       "True"
      ]
     },
     "execution_count": 28,
     "metadata": {},
     "output_type": "execute_result"
    }
   ],
   "source": [
    "name='Batman'\n",
    "print(name)\n",
    "# name is now equivalent to 'Batman'\n",
    "name=='Batman'\n",
    "# it is true because I defined it previously. name is equal to 'Batman'"
   ]
  },
  {
   "cell_type": "markdown",
   "id": "36028ede",
   "metadata": {},
   "source": [
    "### 1.6 Use if to make decisions"
   ]
  },
  {
   "cell_type": "code",
   "execution_count": 29,
   "id": "5561c544",
   "metadata": {},
   "outputs": [
    {
     "name": "stdout",
     "output_type": "stream",
     "text": [
      "Hello Hero|Batman\n"
     ]
    }
   ],
   "source": [
    "if name=='Batman':\n",
    "    print('Hello Hero|Batman')\n",
    "else:\n",
    "    print('Hello World!')\n",
    "# **is there a way to undo the = without defining name as something new?\n"
   ]
  },
  {
   "cell_type": "markdown",
   "id": "b696aed1",
   "metadata": {},
   "source": [
    "### 1.7 Indentations (spaces) are sooo IMPORTANT!"
   ]
  },
  {
   "cell_type": "code",
   "execution_count": 34,
   "id": "a9341d5b",
   "metadata": {},
   "outputs": [
    {
     "name": "stdout",
     "output_type": "stream",
     "text": [
      "10\n"
     ]
    }
   ],
   "source": [
    "x=10\n",
    "print(x)\n",
    "# indentation error. just always use tab instead of spacebar when you need an indent\n"
   ]
  },
  {
   "cell_type": "markdown",
   "id": "f2fc4d60",
   "metadata": {},
   "source": [
    "### 1.8 ‘age’ is English, age is a variable."
   ]
  },
  {
   "cell_type": "code",
   "execution_count": 43,
   "id": "6e7972b2",
   "metadata": {},
   "outputs": [
    {
     "name": "stdout",
     "output_type": "stream",
     "text": [
      "24\n",
      "student_age\n",
      "You're twenty years old\n"
     ]
    }
   ],
   "source": [
    "student_age=24\n",
    "print(student_age)\n",
    "print('student_age')\n",
    "print(\"You're twenty years old\")\n",
    "# print('You're twenty years old') will result in an unterminated string literal\n"
   ]
  },
  {
   "cell_type": "markdown",
   "id": "cd03af55",
   "metadata": {},
   "source": [
    "### 1.9 Escape sequences"
   ]
  },
  {
   "cell_type": "code",
   "execution_count": 55,
   "id": "22525c52",
   "metadata": {},
   "outputs": [
    {
     "name": "stdout",
     "output_type": "stream",
     "text": [
      "You're twenty years old.\n",
      "You're twenty years old.\n",
      "You\\re twenty years old.\n",
      "You\n",
      "re twenty years old.\n",
      "You\tre twenty years old.\n",
      "A\n",
      "B\n",
      "C\n"
     ]
    }
   ],
   "source": [
    "print(\"You're twenty years old.\")\n",
    "print('You\\'re twenty years old.')\n",
    "print('You\\\\re twenty years old.')\n",
    "print('You\\nre twenty years old.')\n",
    "print('You\\tre twenty years old.')\n",
    "# Your code here\n",
    "print('A\\nB\\nC')"
   ]
  },
  {
   "cell_type": "markdown",
   "id": "dee7b785",
   "metadata": {},
   "source": [
    "### 1.10 Brackets"
   ]
  },
  {
   "cell_type": "code",
   "execution_count": 63,
   "id": "95480469",
   "metadata": {},
   "outputs": [
    {
     "name": "stdout",
     "output_type": "stream",
     "text": [
      "Hello!\n",
      "[1, 2, 3, 4, 5]\n",
      "[[1, 'A'], [2, 'B'], [3, 'C'], [4, 'D'], [5, 'E']]\n"
     ]
    }
   ],
   "source": [
    "print('Hello!')\n",
    "(1+2)*5\n",
    "\n",
    "py_list=[1,2,3,4,5]\n",
    "print(py_list)\n",
    "\n",
    "py_list_2=[[1,\"A\"],\n",
    "           [2,\"B\"],\n",
    "           [3,\"C\"],\n",
    "           [4,\"D\"],\n",
    "           [5,\"E\"]]\n",
    "print(py_list_2)\n",
    "# is this right??\n"
   ]
  },
  {
   "cell_type": "code",
   "execution_count": 2,
   "id": "21a7514d",
   "metadata": {},
   "outputs": [],
   "source": [
    "personal_info={'Names':'Batman','Real Name':'Bruce Wayne','Age':55,'Affiliation':'Justice League','Universe':'DC'}"
   ]
  },
  {
   "cell_type": "code",
   "execution_count": 3,
   "id": "c6f79446",
   "metadata": {},
   "outputs": [
    {
     "name": "stdout",
     "output_type": "stream",
     "text": [
      "Bruce Wayne\n"
     ]
    }
   ],
   "source": [
    "print(personal_info['Real Name'])"
   ]
  },
  {
   "cell_type": "markdown",
   "id": "440cc7d0",
   "metadata": {},
   "source": [
    "## 2 Giving Python superpowers"
   ]
  },
  {
   "cell_type": "markdown",
   "id": "0d417206",
   "metadata": {},
   "source": [
    "### 2.1 Packages"
   ]
  },
  {
   "cell_type": "code",
   "execution_count": 8,
   "id": "5408f764",
   "metadata": {},
   "outputs": [
    {
     "data": {
      "text/plain": [
       "40.5"
      ]
     },
     "execution_count": 8,
     "metadata": {},
     "output_type": "execute_result"
    }
   ],
   "source": [
    "1*((2-3)+4)**5/6\n",
    "# [1x((2-3)+4)^5]/6\n"
   ]
  },
  {
   "cell_type": "code",
   "execution_count": 9,
   "id": "b3459de8",
   "metadata": {},
   "outputs": [
    {
     "ename": "NameError",
     "evalue": "name 'sqrt' is not defined",
     "output_type": "error",
     "traceback": [
      "\u001b[1;31m---------------------------------------------------------------------------\u001b[0m",
      "\u001b[1;31mNameError\u001b[0m                                 Traceback (most recent call last)",
      "Cell \u001b[1;32mIn[9], line 1\u001b[0m\n\u001b[1;32m----> 1\u001b[0m \u001b[43msqrt\u001b[49m(\u001b[38;5;241m4\u001b[39m)\n\u001b[0;32m      2\u001b[0m \u001b[38;5;66;03m# Your code here\u001b[39;00m\n",
      "\u001b[1;31mNameError\u001b[0m: name 'sqrt' is not defined"
     ]
    }
   ],
   "source": [
    "# sqrt(4) will result in a name error\n"
   ]
  },
  {
   "cell_type": "code",
   "execution_count": 10,
   "id": "6a5c7a21",
   "metadata": {},
   "outputs": [],
   "source": [
    "import math"
   ]
  },
  {
   "cell_type": "code",
   "execution_count": 11,
   "id": "28b20d5b",
   "metadata": {},
   "outputs": [
    {
     "data": {
      "text/plain": [
       "2.0"
      ]
     },
     "execution_count": 11,
     "metadata": {},
     "output_type": "execute_result"
    }
   ],
   "source": [
    "math.sqrt(4)"
   ]
  },
  {
   "cell_type": "code",
   "execution_count": 14,
   "id": "cf15874e",
   "metadata": {},
   "outputs": [],
   "source": [
    "import numpy as np"
   ]
  },
  {
   "cell_type": "code",
   "execution_count": 15,
   "id": "512509b2",
   "metadata": {},
   "outputs": [
    {
     "data": {
      "text/plain": [
       "2.0"
      ]
     },
     "execution_count": 15,
     "metadata": {},
     "output_type": "execute_result"
    }
   ],
   "source": [
    "np.sqrt(4)"
   ]
  },
  {
   "cell_type": "code",
   "execution_count": 18,
   "id": "785eb846",
   "metadata": {},
   "outputs": [
    {
     "data": {
      "text/plain": [
       "array([2., 3., 4.])"
      ]
     },
     "execution_count": 18,
     "metadata": {},
     "output_type": "execute_result"
    }
   ],
   "source": [
    "np.sqrt([4,9,16])"
   ]
  },
  {
   "cell_type": "markdown",
   "id": "a3c9acd6",
   "metadata": {},
   "source": [
    "### 2.2 The dot (.)"
   ]
  },
  {
   "cell_type": "code",
   "execution_count": 22,
   "id": "4b2c0774",
   "metadata": {},
   "outputs": [
    {
     "data": {
      "text/plain": [
       "['I', 'am', 'Batman']"
      ]
     },
     "execution_count": 22,
     "metadata": {},
     "output_type": "execute_result"
    }
   ],
   "source": [
    "\"I am Batman\".split()\n",
    "# will not work for numbers like 1234.split()"
   ]
  },
  {
   "cell_type": "markdown",
   "id": "7882c279",
   "metadata": {},
   "source": [
    "## Exercise 1 :  Total recall?"
   ]
  },
  {
   "cell_type": "markdown",
   "id": "391ea595",
   "metadata": {},
   "source": [
    "- print()\n",
    "- = set equal, == check if equal\n",
    "- indentations\n",
    "- #comment\n",
    "- *use of '' and \"\" to differentiate english from variables*\n",
    "- escape sequences \\',\\\\,\\n,*\\t*\n",
    "- brackets for function, math, listing and storing data\n",
    "- . to indicate that a function belongs to a module\n",
    "\n",
    "\n"
   ]
  },
  {
   "cell_type": "markdown",
   "id": "c5a584ed",
   "metadata": {},
   "source": [
    "## Exercise 2 :  Debug me"
   ]
  },
  {
   "cell_type": "code",
   "execution_count": 30,
   "id": "b90af149",
   "metadata": {},
   "outputs": [
    {
     "name": "stdout",
     "output_type": "stream",
     "text": [
      "3 4 5.0\n"
     ]
    }
   ],
   "source": [
    "x=3\n",
    "y=4\n",
    "z=np.sqrt(x**2 + y**2)\n",
    "print(x, y, z)\n",
    "\n",
    "#wrong one:\n",
    "#x, y = 3, 4\n",
    "#        z = sqrt(x*2 + y**2)\n",
    "#    Print(x, y, z)\n",
    "\n",
    "\n"
   ]
  },
  {
   "cell_type": "markdown",
   "id": "553cbb28",
   "metadata": {},
   "source": [
    "## Exercise 3 :  In your own words"
   ]
  },
  {
   "cell_type": "markdown",
   "id": "562d6caf",
   "metadata": {},
   "source": [
    "|#|Term|Description|\n",
    "|:--|:-|:--|\n",
    "|1|Function|Does something specific that you want it to do\n",
    "|2|Arguments|A value that a function acts on (within brackets)\n",
    "|3|Comments|Characters that are typed into a cell but ignored by python\n",
    "|4|Indentations|Spaces at the beginning of a line of code, to separate blocks of code\n",
    "|5|Packages|Downloadable functions for python to do more stuff than by default\n",
    "|6|.|To indicate that a specific function belongs to a specific package"
   ]
  },
  {
   "cell_type": "markdown",
   "id": "caec2675",
   "metadata": {},
   "source": [
    "## Exercise 4 :  More than one way to divide"
   ]
  },
  {
   "cell_type": "code",
   "execution_count": 18,
   "id": "957da40f",
   "metadata": {
    "scrolled": true
   },
   "outputs": [
    {
     "name": "stdout",
     "output_type": "stream",
     "text": [
      "2.5\n",
      "2\n",
      "1\n"
     ]
    }
   ],
   "source": [
    "print(5/2)\n",
    "# the normal 5 divided by 2\n",
    "print(5//2)\n",
    "# 5 divided by 2, but the value is rounded down (2.5 to 2)\n",
    "print(5%2)\n",
    "# modulo operator, gives the remainder of 5/2 (5/2=2R1)"
   ]
  },
  {
   "cell_type": "code",
   "execution_count": null,
   "id": "88d6a026",
   "metadata": {},
   "outputs": [],
   "source": []
  }
 ],
 "metadata": {
  "kernelspec": {
   "display_name": "Python 3 (ipykernel)",
   "language": "python",
   "name": "python3"
  },
  "language_info": {
   "codemirror_mode": {
    "name": "ipython",
    "version": 3
   },
   "file_extension": ".py",
   "mimetype": "text/x-python",
   "name": "python",
   "nbconvert_exporter": "python",
   "pygments_lexer": "ipython3",
   "version": "3.10.8"
  },
  "toc": {
   "base_numbering": 1,
   "nav_menu": {},
   "number_sections": true,
   "sideBar": true,
   "skip_h1_title": false,
   "title_cell": "Table of Contents",
   "title_sidebar": "Contents",
   "toc_cell": false,
   "toc_position": {},
   "toc_section_display": true,
   "toc_window_display": false
  },
  "varInspector": {
   "cols": {
    "lenName": 16,
    "lenType": 16,
    "lenVar": 40
   },
   "kernels_config": {
    "python": {
     "delete_cmd_postfix": "",
     "delete_cmd_prefix": "del ",
     "library": "var_list.py",
     "varRefreshCmd": "print(var_dic_list())"
    },
    "r": {
     "delete_cmd_postfix": ") ",
     "delete_cmd_prefix": "rm(",
     "library": "var_list.r",
     "varRefreshCmd": "cat(var_dic_list()) "
    }
   },
   "types_to_exclude": [
    "module",
    "function",
    "builtin_function_or_method",
    "instance",
    "_Feature"
   ],
   "window_display": false
  },
  "vscode": {
   "interpreter": {
    "hash": "31f2aee4e71d21fbe5cf8b01ff0e069b9275f58929596ceb00d14d90e3e16cd6"
   }
  }
 },
 "nbformat": 4,
 "nbformat_minor": 5
}
