{
 "cells": [
  {
   "cell_type": "markdown",
   "id": "123456",
   "metadata": {},
   "source": [
    "<div style=\"text-align:left;font-size:2em\"><span style=\"font-weight:bolder;font-size:1.25em\">SP2273 | Learning Portfolio</span><br><br><span style=\"font-weight:bold;color:darkred\">Loops (Good)</span></div>"
   ]
  },
  {
   "cell_type": "markdown",
   "id": "d51a89a9",
   "metadata": {},
   "source": [
    "## 1 Interrupting the flow"
   ]
  },
  {
   "cell_type": "code",
   "execution_count": 3,
   "id": "fa767f16",
   "metadata": {},
   "outputs": [
    {
     "name": "stdout",
     "output_type": "stream",
     "text": [
      "0\n",
      "1\n",
      "2\n",
      "3\n",
      "4\n",
      "5\n",
      "6\n"
     ]
    }
   ],
   "source": [
    "for i in range(10):\n",
    "    if i>6: break\n",
    "    print(i)\n",
    "# run the loop and print i from 0 to 9, but stop the loop if i>6"
   ]
  },
  {
   "cell_type": "code",
   "execution_count": 10,
   "id": "93f1ba3f",
   "metadata": {
    "scrolled": true
   },
   "outputs": [
    {
     "name": "stdout",
     "output_type": "stream",
     "text": [
      "0\n",
      "1\n",
      "2\n",
      "3\n",
      "4\n",
      "5\n",
      "7\n",
      "8\n",
      "9\n"
     ]
    }
   ],
   "source": [
    "for i in range(10):\n",
    "    if i==6: continue\n",
    "    print(i)\n",
    "# run the loop, keep printing until 9 but skip 6 (dont proceed in the CURRENT loop where i==6)"
   ]
  },
  {
   "cell_type": "code",
   "execution_count": 11,
   "id": "f74b0768",
   "metadata": {},
   "outputs": [
    {
     "name": "stdout",
     "output_type": "stream",
     "text": [
      "1\n",
      "3\n",
      "5\n",
      "7\n",
      "9\n"
     ]
    }
   ],
   "source": [
    "for i in range(10):\n",
    "    if i%2==0: continue\n",
    "    print(i)\n",
    "# dont proceed in the current loop if the remainder of i/2 is 0 (i is even)"
   ]
  },
  {
   "cell_type": "code",
   "execution_count": 15,
   "id": "04b76a3f",
   "metadata": {},
   "outputs": [
    {
     "name": "stdout",
     "output_type": "stream",
     "text": [
      "0\n",
      "1\n",
      "2\n",
      "3\n",
      "4\n"
     ]
    }
   ],
   "source": [
    "number=0\n",
    "\n",
    "while True:\n",
    "    print(number)\n",
    "    number=number+1\n",
    "    if number>4: break\n",
    "#True must be written with capital T to work"
   ]
  },
  {
   "cell_type": "markdown",
   "id": "5081296e",
   "metadata": {},
   "source": [
    "## 2 List comprehension!"
   ]
  },
  {
   "cell_type": "markdown",
   "id": "c6fdeb79",
   "metadata": {},
   "source": [
    "### 2.1 Basic syntax"
   ]
  },
  {
   "cell_type": "code",
   "execution_count": 22,
   "id": "0e832adc",
   "metadata": {},
   "outputs": [
    {
     "name": "stdout",
     "output_type": "stream",
     "text": [
      "[0, 1, 2, 3, 4, 5, 6, 7, 8, 9]\n",
      "[0, 1, 4, 9, 16, 25, 36, 49, 64, 81]\n",
      "5\n"
     ]
    }
   ],
   "source": [
    "print([number for number in range(10)])\n",
    "# create a list 'number' that contains elements from 0 to 9\n",
    "\n",
    "print([number**2 for number in range(10)])\n",
    "# create a list 'number' that contains elements from 0^2 to 9^2\n",
    "\n",
    "print(number)\n",
    "# why is the output 5"
   ]
  },
  {
   "cell_type": "markdown",
   "id": "e7f3173f",
   "metadata": {},
   "source": [
    "### 2.2 List comprehension with conditions"
   ]
  },
  {
   "cell_type": "code",
   "execution_count": 24,
   "id": "7b9b2f15",
   "metadata": {},
   "outputs": [
    {
     "data": {
      "text/plain": [
       "[0, 2, 4, 6, 8]"
      ]
     },
     "execution_count": 24,
     "metadata": {},
     "output_type": "execute_result"
    }
   ],
   "source": [
    "[number for number in range(10) if number%2==0]\n",
    "# create a list containing only elements from 0 to 9 that are even"
   ]
  },
  {
   "cell_type": "markdown",
   "id": "9aa5f83a",
   "metadata": {},
   "source": [
    "## 3 Other useful stuff"
   ]
  },
  {
   "cell_type": "markdown",
   "id": "78e70950",
   "metadata": {},
   "source": [
    "### 3.1 for with unpacking"
   ]
  },
  {
   "cell_type": "code",
   "execution_count": 30,
   "id": "c6ff2685",
   "metadata": {},
   "outputs": [
    {
     "name": "stdout",
     "output_type": "stream",
     "text": [
      "x=1,y=2,z =3\n"
     ]
    }
   ],
   "source": [
    "x,y,z=[1,2,3]\n",
    "print(f\"x={x},y={y},z ={z}\")\n",
    "# assign a corresponding value to x y z and print them\n"
   ]
  },
  {
   "cell_type": "code",
   "execution_count": 35,
   "id": "49e174ac",
   "metadata": {},
   "outputs": [
    {
     "name": "stdout",
     "output_type": "stream",
     "text": [
      "Natasha Romanoff is Marvel's Black Widow!\n",
      "Tony Stark is Marvel's Iron Man!\n",
      "Stephen Strange is Marvel's Doctor Strange!\n",
      "['Natasha Romanoff', 'Black Widow'] is Marvel's Doctor Strange!\n",
      "['Tony Stark', 'Iron Man'] is Marvel's Doctor Strange!\n",
      "['Stephen Strange', 'Doctor Strange'] is Marvel's Doctor Strange!\n"
     ]
    }
   ],
   "source": [
    "py_superhero_info=[['Natasha Romanoff','Black Widow'],\n",
    "                     ['Tony Stark','Iron Man'],\n",
    "                     ['Stephen Strange','Doctor Strange']]\n",
    "\n",
    "for real_name, super_name in py_superhero_info:\n",
    "    print(f\"{real_name} is Marvel's {super_name}!\")\n",
    "    \n",
    "for real_name in py_superhero_info:\n",
    "    print(f\"{real_name} is Marvel's {super_name}!\")\n",
    "# not really sure how the for loop functions here\n",
    "# how does python know what {super_name} is if i didnt define it as a variable? and why is it all Doctor Strange"
   ]
  },
  {
   "cell_type": "markdown",
   "id": "78e6fcb6",
   "metadata": {},
   "source": [
    "### 3.2 for with a zip()"
   ]
  },
  {
   "cell_type": "code",
   "execution_count": 42,
   "id": "b0b940bf",
   "metadata": {},
   "outputs": [
    {
     "name": "stdout",
     "output_type": "stream",
     "text": [
      "Natasha Romanoff is Marvel's Black Widow!\n",
      "Tony Stark is Marvel's Iron Man!\n",
      "Stephen Strange is Marvel's Doctor Strange!\n"
     ]
    }
   ],
   "source": [
    "super_names=[\"Black Widow\",\"Iron Man\",\"Doctor Strange\"]\n",
    "real_names=[\"Natasha Romanoff\",\"Tony Stark\",\"Stephen Strange\"]\n",
    "\n",
    "for real_name,super_name in zip(real_names,super_names):\n",
    "    print(f\"{real_name} is Marvel's {super_name}!\") \n",
    "# zip() forms a tuple with elements from both lists (indexed from 0 to 2)\n"
   ]
  },
  {
   "cell_type": "markdown",
   "id": "bb164abd",
   "metadata": {},
   "source": [
    "### 3.3 for with dictionaries"
   ]
  },
  {
   "cell_type": "code",
   "execution_count": 48,
   "id": "cd0e47e9",
   "metadata": {
    "scrolled": true
   },
   "outputs": [
    {
     "name": "stdout",
     "output_type": "stream",
     "text": [
      "Natasha Romanoff is Marvel's Black Widow!\n",
      "Tony Stark is Marvel's Iron Man!\n",
      "Stephen Strange is Marvel's Doctor Strange!\n",
      "dict_items([('Natasha Romanoff', 'Black Widow'), ('Tony Stark', 'Iron Man'), ('Stephen Strange', 'Doctor Strange')])\n"
     ]
    }
   ],
   "source": [
    "superhero_info={\"Natasha Romanoff\":\"Black Widow\",\n",
    "                \"Tony Stark\":\"Iron Man\",\n",
    "                \"Stephen Strange\":\"Doctor Strange\"}\n",
    "\n",
    "for key, value in superhero_info.items():\n",
    "    print(f\"{key} is Marvel's {value}!\")\n",
    "# does not work without .items()\n",
    "# too many values to unpack (expected 2)\n",
    "\n",
    "print(superhero_info.items())"
   ]
  },
  {
   "cell_type": "code",
   "execution_count": 49,
   "id": "7875dd0d",
   "metadata": {},
   "outputs": [
    {
     "name": "stdout",
     "output_type": "stream",
     "text": [
      "Natasha Romanoff is Marvel's Black Widow!\n",
      "Tony Stark is Marvel's Iron Man!\n",
      "Stephen Strange is Marvel's Doctor Strange!\n"
     ]
    }
   ],
   "source": [
    "for key in superhero_info.keys():\n",
    "    value=superhero_info[key]\n",
    "    print(f\"{key} is Marvel's {value}!\")\n",
    "# easier to understand imo"
   ]
  },
  {
   "cell_type": "markdown",
   "id": "915dfa75",
   "metadata": {},
   "source": [
    "## Exercise 1 :  Make me an odd list"
   ]
  },
  {
   "cell_type": "code",
   "execution_count": 55,
   "id": "a2514b40",
   "metadata": {},
   "outputs": [
    {
     "name": "stdout",
     "output_type": "stream",
     "text": [
      "[1, 9, 25, 49, 81]\n"
     ]
    }
   ],
   "source": [
    "squares_odd=[]\n",
    "for i in range(10):\n",
    "    if i%2==0: continue\n",
    "    squares_odd.append(i**2)\n",
    "print(squares_odd)\n",
    "\n",
    "\n",
    "# Your solution here\n",
    "\n",
    "\n"
   ]
  },
  {
   "cell_type": "markdown",
   "id": "37d10386",
   "metadata": {},
   "source": [
    "## Exercise 2 :  Make me another odd list"
   ]
  },
  {
   "cell_type": "code",
   "execution_count": 59,
   "id": "4cc2d950",
   "metadata": {},
   "outputs": [
    {
     "data": {
      "text/plain": [
       "[1, 9, 25, 49, 81]"
      ]
     },
     "execution_count": 59,
     "metadata": {},
     "output_type": "execute_result"
    }
   ],
   "source": [
    "[squares_odd**2 for squares_odd in range(10) if squares_odd%2!=0]\n",
    "\n",
    "\n",
    "# Your solution here\n",
    "\n",
    "\n"
   ]
  },
  {
   "cell_type": "markdown",
   "id": "98132087",
   "metadata": {},
   "source": [
    "## Exercise 3 :  Time me!"
   ]
  },
  {
   "cell_type": "code",
   "execution_count": 79,
   "id": "0a615679",
   "metadata": {},
   "outputs": [
    {
     "name": "stdout",
     "output_type": "stream",
     "text": [
      "3.14 µs ± 135 ns per loop (mean ± std. dev. of 7 runs, 100,000 loops each)\n"
     ]
    }
   ],
   "source": [
    "%%timeit\n",
    "squares_odd=[]\n",
    "for i in range(10):\n",
    "    if i%2==0: continue\n",
    "    squares_odd.append(i**2)\n",
    "# dont print(squares_odd) otherwise python will print the list 100,000 times \n"
   ]
  },
  {
   "cell_type": "code",
   "execution_count": 77,
   "id": "af77896d",
   "metadata": {
    "scrolled": true
   },
   "outputs": [
    {
     "name": "stdout",
     "output_type": "stream",
     "text": [
      "2.97 µs ± 115 ns per loop (mean ± std. dev. of 7 runs, 100,000 loops each)\n"
     ]
    }
   ],
   "source": [
    "%timeit [squares_odd**2 for squares_odd in range(10) if squares_odd%2!=0]"
   ]
  },
  {
   "cell_type": "markdown",
   "id": "bd50074c",
   "metadata": {},
   "source": [
    "The second solution is faster"
   ]
  }
 ],
 "metadata": {
  "kernelspec": {
   "display_name": "Python 3 (ipykernel)",
   "language": "python",
   "name": "python3"
  },
  "language_info": {
   "codemirror_mode": {
    "name": "ipython",
    "version": 3
   },
   "file_extension": ".py",
   "mimetype": "text/x-python",
   "name": "python",
   "nbconvert_exporter": "python",
   "pygments_lexer": "ipython3",
   "version": "3.10.8"
  },
  "toc": {
   "base_numbering": 1,
   "nav_menu": {},
   "number_sections": true,
   "sideBar": true,
   "skip_h1_title": false,
   "title_cell": "Table of Contents",
   "title_sidebar": "Contents",
   "toc_cell": false,
   "toc_position": {},
   "toc_section_display": true,
   "toc_window_display": false
  },
  "varInspector": {
   "cols": {
    "lenName": 16,
    "lenType": 16,
    "lenVar": 40
   },
   "kernels_config": {
    "python": {
     "delete_cmd_postfix": "",
     "delete_cmd_prefix": "del ",
     "library": "var_list.py",
     "varRefreshCmd": "print(var_dic_list())"
    },
    "r": {
     "delete_cmd_postfix": ") ",
     "delete_cmd_prefix": "rm(",
     "library": "var_list.r",
     "varRefreshCmd": "cat(var_dic_list()) "
    }
   },
   "types_to_exclude": [
    "module",
    "function",
    "builtin_function_or_method",
    "instance",
    "_Feature"
   ],
   "window_display": false
  },
  "vscode": {
   "interpreter": {
    "hash": "31f2aee4e71d21fbe5cf8b01ff0e069b9275f58929596ceb00d14d90e3e16cd6"
   }
  }
 },
 "nbformat": 4,
 "nbformat_minor": 5
}
