{
 "cells": [
  {
   "cell_type": "markdown",
   "id": "123456",
   "metadata": {},
   "source": [
    "<div style=\"text-align:left;font-size:2em\"><span style=\"font-weight:bolder;font-size:1.25em\">SP2273 | Learning Portfolio</span><br><br><span style=\"font-weight:bold;color:darkred\">Loops (Need)</span></div>"
   ]
  },
  {
   "cell_type": "markdown",
   "id": "7ad0140e",
   "metadata": {},
   "source": [
    "## 1 for"
   ]
  },
  {
   "cell_type": "markdown",
   "id": "8e86b779",
   "metadata": {},
   "source": [
    "### 1.1 for with a list"
   ]
  },
  {
   "cell_type": "code",
   "execution_count": 5,
   "id": "48aa571c",
   "metadata": {},
   "outputs": [
    {
     "name": "stdout",
     "output_type": "stream",
     "text": [
      "Natasha Romanoff is a Marvel superhero!\n",
      "Tony Stark is a Marvel superhero!\n",
      "Stephen Strange is a Marvel superhero!\n"
     ]
    }
   ],
   "source": [
    "real_names=[\"Natasha Romanoff\",\"Tony Stark\",\"Stephen Strange\"]\n",
    "\n",
    "for name in real_names:\n",
    "    print(f\"{name} is a Marvel superhero!\")\n",
    "# 'name' is assigned the value of each element in the list\n",
    "# the code-block runs with the corresponding value of 'name'"
   ]
  },
  {
   "cell_type": "markdown",
   "id": "5c8a5963",
   "metadata": {},
   "source": [
    "### 1.2 for with enumerate"
   ]
  },
  {
   "cell_type": "code",
   "execution_count": 56,
   "id": "56c9b47c",
   "metadata": {},
   "outputs": [
    {
     "name": "stdout",
     "output_type": "stream",
     "text": [
      "0: Natasha Romanoff is a female Marvel superhero!\n",
      "1: Tony Stark is a male Marvel superhero!\n",
      "2: Stephen Strange is a male Marvel superhero!\n"
     ]
    }
   ],
   "source": [
    "super_names=[\"Black Widow\",\"Iron Man\",\"Doctor Strange\"]\n",
    "real_names=[\"Natasha Romanoff\",\"Tony Stark\",\"Stephen Strange\"]\n",
    "genders=[\"female\",\"male\",\"male\"]\n",
    "\n",
    "for i, name in enumerate(real_names):\n",
    "    gender=genders[i]\n",
    "    print(f'{i}: {name} is a {gender} Marvel superhero!')\n",
    "    \n",
    "# enumerate() keeps count and gives a number for each name (0,1,2) that can be used to index the other list"
   ]
  },
  {
   "cell_type": "code",
   "execution_count": 59,
   "id": "f16059f3",
   "metadata": {},
   "outputs": [
    {
     "data": {
      "text/plain": [
       "[(0, 'Natasha Romanoff'), (1, 'Tony Stark'), (2, 'Stephen Strange')]"
      ]
     },
     "execution_count": 59,
     "metadata": {},
     "output_type": "execute_result"
    }
   ],
   "source": [
    "list(enumerate(real_names))"
   ]
  },
  {
   "cell_type": "code",
   "execution_count": 73,
   "id": "f18eda39",
   "metadata": {
    "scrolled": true
   },
   "outputs": [
    {
     "name": "stdout",
     "output_type": "stream",
     "text": [
      "Natasha Romanoff is Black Widow!\n",
      "Tony Stark is Iron Man!\n",
      "Stephen Strange is Doctor Strange!\n"
     ]
    }
   ],
   "source": [
    "for i, name in enumerate(real_names):\n",
    "    superhero_name=super_names[i]\n",
    "    print(f'{name} is {superhero_name}!')\n",
    "# print out the superhero name corresponding to 0,1,2 of the real_names list"
   ]
  },
  {
   "cell_type": "code",
   "execution_count": 75,
   "id": "d31cf713",
   "metadata": {},
   "outputs": [
    {
     "name": "stdout",
     "output_type": "stream",
     "text": [
      "100: Natasha Romanoff is a Marvel superhero!\n",
      "101: Tony Stark is a Marvel superhero!\n",
      "102: Stephen Strange is a Marvel superhero!\n"
     ]
    }
   ],
   "source": [
    "for i, name in enumerate(real_names,100):\n",
    "    print(f'{i}: {name} is a Marvel superhero!')"
   ]
  },
  {
   "cell_type": "markdown",
   "id": "36c3a86b",
   "metadata": {},
   "source": [
    "### 1.3 for with range"
   ]
  },
  {
   "cell_type": "code",
   "execution_count": 77,
   "id": "c2e50792",
   "metadata": {
    "scrolled": true
   },
   "outputs": [
    {
     "name": "stdout",
     "output_type": "stream",
     "text": [
      "0\n",
      "1\n",
      "2\n",
      "3\n",
      "4\n"
     ]
    }
   ],
   "source": [
    "for i in range(5):\n",
    "    print(i)\n",
    "# get the for loop to run 5 times\n"
   ]
  },
  {
   "cell_type": "code",
   "execution_count": 78,
   "id": "f19014f8",
   "metadata": {},
   "outputs": [
    {
     "name": "stdout",
     "output_type": "stream",
     "text": [
      "5\n",
      "6\n",
      "7\n",
      "8\n",
      "9\n"
     ]
    }
   ],
   "source": [
    "for i in range(5,10):\n",
    "    print(i)\n",
    "# get the for loop to run 10-5=5 times starting from 5"
   ]
  },
  {
   "cell_type": "code",
   "execution_count": 64,
   "id": "48a81d8c",
   "metadata": {
    "scrolled": true
   },
   "outputs": [
    {
     "name": "stdout",
     "output_type": "stream",
     "text": [
      "1\n",
      "4\n",
      "7\n"
     ]
    }
   ],
   "source": [
    "for i in range(1,10,3):\n",
    "    print(i)\n",
    "# get the for loop to run 10-1=9 times starting from 1, but i increases by 3 every loop"
   ]
  },
  {
   "cell_type": "code",
   "execution_count": 86,
   "id": "39c3cb19",
   "metadata": {},
   "outputs": [
    {
     "name": "stdout",
     "output_type": "stream",
     "text": [
      "Natasha Romanoff is Marvel's Black Widow!\n",
      "Tony Stark is Marvel's Iron Man!\n",
      "Stephen Strange is Marvel's Doctor Strange!\n"
     ]
    }
   ],
   "source": [
    "super_names=[\"Black Widow\",\"Iron Man\",\"Doctor Strange\"]\n",
    "real_names=[\"Natasha Romanoff\",\"Tony Stark\",\"Stephen Strange\"]\n",
    "for i in range(len(real_names)):\n",
    "# range can only be used on integers, so use len() to get an integer\n",
    "# the for loop will run 3 times (it will only run until Tony Stark if i change to range(len(real_names)-1))\n",
    "    real_name=real_names[i]\n",
    "    super_name=super_names[i]        \n",
    "    print(f\"{real_name} is Marvel's {super_name}!\")"
   ]
  },
  {
   "cell_type": "code",
   "execution_count": 83,
   "id": "e12bdf20",
   "metadata": {},
   "outputs": [
    {
     "data": {
      "text/plain": [
       "3"
      ]
     },
     "execution_count": 83,
     "metadata": {},
     "output_type": "execute_result"
    }
   ],
   "source": [
    "len(real_names)"
   ]
  },
  {
   "cell_type": "markdown",
   "id": "eeb2d56d",
   "metadata": {},
   "source": [
    "## 2 while"
   ]
  },
  {
   "cell_type": "code",
   "execution_count": 94,
   "id": "e8ee04d8",
   "metadata": {},
   "outputs": [
    {
     "name": "stdout",
     "output_type": "stream",
     "text": [
      "0\n",
      "1\n",
      "2\n",
      "3\n",
      "4\n"
     ]
    }
   ],
   "source": [
    "number=0\n",
    "\n",
    "while number<5:\n",
    "    print(number)\n",
    "    number+=1\n",
    "# placing number+=1 before the while loop causes an infinite loop of 1s\n",
    "# does this mean the order of command execution is 1. check if number<5, if yes print the number 2. add 1 to number 3. check if number is still <5"
   ]
  },
  {
   "cell_type": "markdown",
   "id": "60c8b1e2",
   "metadata": {},
   "source": [
    "## Exercise 1 :  Make me a list"
   ]
  },
  {
   "cell_type": "code",
   "execution_count": 5,
   "id": "f93e35c8",
   "metadata": {},
   "outputs": [
    {
     "name": "stdout",
     "output_type": "stream",
     "text": [
      "[0, 1, 4, 9, 16, 25, 36, 49, 64, 81]\n"
     ]
    }
   ],
   "source": [
    "numbers=['a','a','a','a','a','a','a','a','a','a']\n",
    "squares=[]\n",
    "for i in range(len(numbers)):\n",
    "    squares.append(int(f\"{i**2}\"))\n",
    "print(squares)\n",
    "    \n",
    "# for range(len()) the elements in the first list doesnt matter, only how long it is\n",
    "# if length is 10, range will be 9 elements"
   ]
  },
  {
   "cell_type": "code",
   "execution_count": 6,
   "id": "408f61af",
   "metadata": {},
   "outputs": [
    {
     "name": "stdout",
     "output_type": "stream",
     "text": [
      "[0, 1, 4, 9, 16, 25, 36, 49, 64, 81]\n"
     ]
    }
   ],
   "source": [
    "numbers=[0,1,2,3,4,5,6,7,8,9]\n",
    "squares=[]\n",
    "for i in numbers:\n",
    "    squares.append(i**2)\n",
    "print(squares)\n",
    "\n",
    "# loop without using range()\n"
   ]
  },
  {
   "cell_type": "markdown",
   "id": "8000136e",
   "metadata": {},
   "source": [
    "## Exercise 2 :  Make me an odd list"
   ]
  },
  {
   "cell_type": "code",
   "execution_count": 7,
   "id": "d6665aff",
   "metadata": {
    "scrolled": true
   },
   "outputs": [
    {
     "name": "stdout",
     "output_type": "stream",
     "text": [
      "[1, 9, 25, 49, 81]\n"
     ]
    }
   ],
   "source": [
    "numbers=['a','a','a','a','a','a','a','a','a','a']\n",
    "squares=[]\n",
    "for i in range(1,len(numbers),2):\n",
    "    squares.append(int(i**2))\n",
    "print(squares)\n",
    "    "
   ]
  },
  {
   "cell_type": "markdown",
   "id": "2eb340b6",
   "metadata": {},
   "source": [
    "## Exercise 3 :  Make me another odd list"
   ]
  },
  {
   "cell_type": "code",
   "execution_count": 4,
   "id": "d322c983",
   "metadata": {},
   "outputs": [
    {
     "name": "stdout",
     "output_type": "stream",
     "text": [
      "[1, 9, 25, 49, 81]\n"
     ]
    }
   ],
   "source": [
    "squares=[]\n",
    "i=1\n",
    "while i<10:\n",
    "    squares.append(i**2)\n",
    "    i += 2\n",
    "print(squares)\n",
    "\n",
    "# while does not need any existing list to work, just a variable and a condition\n",
    "# empty list so the values can be printed in a list format"
   ]
  }
 ],
 "metadata": {
  "kernelspec": {
   "display_name": "Python 3 (ipykernel)",
   "language": "python",
   "name": "python3"
  },
  "language_info": {
   "codemirror_mode": {
    "name": "ipython",
    "version": 3
   },
   "file_extension": ".py",
   "mimetype": "text/x-python",
   "name": "python",
   "nbconvert_exporter": "python",
   "pygments_lexer": "ipython3",
   "version": "3.10.8"
  },
  "toc": {
   "base_numbering": 1,
   "nav_menu": {},
   "number_sections": true,
   "sideBar": true,
   "skip_h1_title": false,
   "title_cell": "Table of Contents",
   "title_sidebar": "Contents",
   "toc_cell": false,
   "toc_position": {},
   "toc_section_display": true,
   "toc_window_display": false
  },
  "varInspector": {
   "cols": {
    "lenName": 16,
    "lenType": 16,
    "lenVar": 40
   },
   "kernels_config": {
    "python": {
     "delete_cmd_postfix": "",
     "delete_cmd_prefix": "del ",
     "library": "var_list.py",
     "varRefreshCmd": "print(var_dic_list())"
    },
    "r": {
     "delete_cmd_postfix": ") ",
     "delete_cmd_prefix": "rm(",
     "library": "var_list.r",
     "varRefreshCmd": "cat(var_dic_list()) "
    }
   },
   "types_to_exclude": [
    "module",
    "function",
    "builtin_function_or_method",
    "instance",
    "_Feature"
   ],
   "window_display": false
  },
  "vscode": {
   "interpreter": {
    "hash": "31f2aee4e71d21fbe5cf8b01ff0e069b9275f58929596ceb00d14d90e3e16cd6"
   }
  }
 },
 "nbformat": 4,
 "nbformat_minor": 5
}
