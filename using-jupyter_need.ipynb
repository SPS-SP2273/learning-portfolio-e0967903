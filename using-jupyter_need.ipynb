{
 "cells": [
  {
   "cell_type": "code",
   "execution_count": 1,
   "id": "3f4cb00c",
   "metadata": {},
   "outputs": [
    {
     "name": "stdout",
     "output_type": "stream",
     "text": [
      "Hello World!\n"
     ]
    }
   ],
   "source": [
    "print('Hello World!')"
   ]
  },
  {
   "cell_type": "markdown",
   "id": "197386b4",
   "metadata": {},
   "source": [
    "The ships hung in the sky in much the same way that bricks don’t."
   ]
  },
  {
   "cell_type": "markdown",
   "id": "c06fd206",
   "metadata": {},
   "source": [
    "The ships *hung in the sky* in much the same way that **bricks don't.**<sup>1</sup><sub>QUOTE</sub>"
   ]
  },
  {
   "cell_type": "markdown",
   "id": "c5dee3c1",
   "metadata": {},
   "source": [
    "```python\n",
    "print('Hello World!')\n",
    "```"
   ]
  },
  {
   "cell_type": "markdown",
   "id": "604e04ab",
   "metadata": {},
   "source": [
    "[SP2273 Website](https://sps.nus.edu.sg/sp2273)"
   ]
  },
  {
   "cell_type": "markdown",
   "id": "0e421266",
   "metadata": {},
   "source": [
    "![](https://nus.edu.sg/images/default-source/base/logo.png)"
   ]
  },
  {
   "cell_type": "markdown",
   "id": "5b5f2a72",
   "metadata": {},
   "source": [
    "|A|B|C|\n",
    "|:---|:--:|---:|\n",
    "|a1|b1|c1|\n",
    "|a2|b2|c2|\n",
    "|a3|b3|c3|"
   ]
  },
  {
   "cell_type": "markdown",
   "id": "1f0606f9",
   "metadata": {},
   "source": [
    "1. Master Yoda\n",
    "1. Anakin Skywalker\n",
    "1. Anakin Skywalker"
   ]
  },
  {
   "cell_type": "markdown",
   "id": "1ad5d3e4",
   "metadata": {},
   "source": [
    "- Master Yoda\n",
    "- Luke Skywalker\n",
    "- Anakin Skywalker"
   ]
  },
  {
   "cell_type": "markdown",
   "id": "339e6c91",
   "metadata": {},
   "source": [
    "1. Master Yoda\n",
    " 1. Was a Jedi\n",
    " 1. Was a bit green\n",
    "1. Luke Skywalker\n",
    " 1. Was a Jedi\n",
    " 1. Is Anakin's son.\n",
    "1. Anakin Skywalker\n",
    " 1. Was a Jedi then became a baddie\n",
    " 1. Is famous for saying 'Luke, I am your father'"
   ]
  },
  {
   "cell_type": "markdown",
   "id": "e1cf9279",
   "metadata": {},
   "source": [
    "1. Master Yoda\n",
    " - Was a Jedi\n",
    " - Was a bit green\n",
    "1. Luke Skywalker\n",
    " - Was a Jedi\n",
    " - Is Anakin's son.\n",
    "1. Anakin Skywalker\n",
    " - Was a Jedi then became a baddie\n",
    " - Is famous for saying 'Luke, I am your father'"
   ]
  },
  {
   "cell_type": "markdown",
   "id": "105e4146",
   "metadata": {},
   "source": [
    "$\\sqrt{b^2-4ac}$"
   ]
  },
  {
   "cell_type": "markdown",
   "id": "8b73e9b0",
   "metadata": {},
   "source": [
    "$$\n",
    "x=\\dfrac{-b\\pm\\sqrt{b^2-4ac}}{2a}\n",
    "$$"
   ]
  },
  {
   "cell_type": "markdown",
   "id": "16e3eba1",
   "metadata": {},
   "source": [
    "### **Quadratic Equations**\n",
    "\n",
    "![](https://upload.wikimedia.org/wikipedia/commons/thumb/f/f8/Polynomialdeg2.svg/300px-Polynomialdeg2.svg.png)\n",
    "\n",
    "(*Image from the [Wikipedia page on Quadratic equations)](https://en.wikipedia.org/wiki/Quadratic_equation)*\n",
    "### **Introduction**\n",
    "\n",
    "The general form of a quadratic equation is:\n",
    "$$\n",
    "ax^{2}+bx+c=0\n",
    "$$\n",
    "\n",
    "### Solutions\n",
    "\n",
    "Provided $a\\ne 0$, we can use an elementary algebraic method called [completing the square](https://en.wikipedia.org/wiki/Completing_the_square) to show that a quadratic equation has the following solution:\n",
    "$$\n",
    "x=\\dfrac{-b\\pm\\sqrt{b^2-4ac}}{2a}\n",
    "$$\n",
    "\n",
    "### Discriminant\n",
    "\n",
    "The quantity is called the **discriminant** of the equation and decides the nature of its solutions. The table below shows the various possibilities.\n",
    "\n",
    "|Discriminant|Roots|\n",
    "|:--|:--|\n",
    "|$$\\delta=b^2-4ac=0$$|A single solution of $-b/(2a)$|\n",
    "|$\\delta=b^2-4ac\\gt0$| Two distinct solutions\n",
    "|$\\delta=b^2-4ac\\lt0$| No real solutions; both are complex.|\n"
   ]
  },
  {
   "cell_type": "markdown",
   "id": "c8f75cf6",
   "metadata": {},
   "source": [
    "1. What is a **repository**?\n",
    "    A repository is where the learning portfolio is stored on the GitHub server\n",
    "2. Git keeps track of the revisions and history in the files in our repository\n",
    "3. What is a **commit**?\n",
    "    A commit makes a record of changes to a file at a specific point in time, similar to saving your progress as you go along\n",
    "4. What is a **push**?\n",
    "    A push allows changes to the repository to be shared beyond the personal device to the cloud where others who share the repository can see the changes too\n",
    "5. What is the difference between **GitHub** and **GitHub Desktop**?\n",
    "    GitHub is a cloud-based platform accessed through a web browser while GitHub Desktop is a downloadable application for GitHub\n",
    "6. Is there an 'opposite' to a **push**?\n",
    "    Yes, you can 'pull'. Pulling moves changes from a remote repository to a local repository, allowing you to review changes made by other people who have pushed them "
   ]
  },
  {
   "cell_type": "code",
   "execution_count": null,
   "id": "aa01aa3b",
   "metadata": {},
   "outputs": [],
   "source": []
  },
  {
   "cell_type": "code",
   "execution_count": null,
   "id": "14452b19",
   "metadata": {},
   "outputs": [],
   "source": []
  },
  {
   "cell_type": "code",
   "execution_count": null,
   "id": "72ee5e8d",
   "metadata": {},
   "outputs": [],
   "source": []
  }
 ],
 "metadata": {
  "kernelspec": {
   "display_name": "Python 3 (ipykernel)",
   "language": "python",
   "name": "python3"
  },
  "language_info": {
   "codemirror_mode": {
    "name": "ipython",
    "version": 3
   },
   "file_extension": ".py",
   "mimetype": "text/x-python",
   "name": "python",
   "nbconvert_exporter": "python",
   "pygments_lexer": "ipython3",
   "version": "3.10.8"
  },
  "toc": {
   "base_numbering": 1,
   "nav_menu": {},
   "number_sections": true,
   "sideBar": true,
   "skip_h1_title": false,
   "title_cell": "Table of Contents",
   "title_sidebar": "Contents",
   "toc_cell": false,
   "toc_position": {},
   "toc_section_display": true,
   "toc_window_display": false
  },
  "varInspector": {
   "cols": {
    "lenName": 16,
    "lenType": 16,
    "lenVar": 40
   },
   "kernels_config": {
    "python": {
     "delete_cmd_postfix": "",
     "delete_cmd_prefix": "del ",
     "library": "var_list.py",
     "varRefreshCmd": "print(var_dic_list())"
    },
    "r": {
     "delete_cmd_postfix": ") ",
     "delete_cmd_prefix": "rm(",
     "library": "var_list.r",
     "varRefreshCmd": "cat(var_dic_list()) "
    }
   },
   "types_to_exclude": [
    "module",
    "function",
    "builtin_function_or_method",
    "instance",
    "_Feature"
   ],
   "window_display": false
  }
 },
 "nbformat": 4,
 "nbformat_minor": 5
}
